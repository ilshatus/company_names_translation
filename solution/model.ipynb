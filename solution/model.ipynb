{
 "cells": [
  {
   "cell_type": "code",
   "execution_count": null,
   "metadata": {},
   "outputs": [],
   "source": [
    "#!wget https://disk.skbkontur.ru/index.php/s/XPMEDq3Ko6tHJmb/download"
   ]
  },
  {
   "cell_type": "code",
   "execution_count": null,
   "metadata": {},
   "outputs": [],
   "source": [
    "#!unzip download"
   ]
  },
  {
   "cell_type": "code",
   "execution_count": 1,
   "metadata": {},
   "outputs": [],
   "source": [
    "import pandas\n",
    "import numpy as np\n",
    "import re\n",
    "import torch\n",
    "import torch.nn as nn\n",
    "import torch.nn.functional as F\n",
    "import torch.optim as optim\n",
    "from tqdm.notebook import tqdm"
   ]
  },
  {
   "cell_type": "code",
   "execution_count": 15,
   "metadata": {},
   "outputs": [],
   "source": [
    "DEVICE = 'cuda:0'\n",
    "EPOCHS = 30\n",
    "BATCH_SIZE = 512"
   ]
  },
  {
   "cell_type": "code",
   "execution_count": 3,
   "metadata": {},
   "outputs": [],
   "source": [
    "train = pandas.read_csv('train_data.tsv', sep='\\t')"
   ]
  },
  {
   "cell_type": "code",
   "execution_count": 4,
   "metadata": {},
   "outputs": [],
   "source": [
    "train_true = train[train['answer'] == True]\n",
    "train_false = train[train['answer'] == False]"
   ]
  },
  {
   "cell_type": "code",
   "execution_count": 5,
   "metadata": {},
   "outputs": [
    {
     "data": {
      "text/plain": [
       "(3983203, 182876, 3800327)"
      ]
     },
     "execution_count": 5,
     "metadata": {},
     "output_type": "execute_result"
    }
   ],
   "source": [
    "len(train), len(train_true), len(train_false)"
   ]
  },
  {
   "cell_type": "code",
   "execution_count": 6,
   "metadata": {},
   "outputs": [
    {
     "data": {
      "text/plain": [
       "20.780895251427197"
      ]
     },
     "execution_count": 6,
     "metadata": {},
     "output_type": "execute_result"
    }
   ],
   "source": [
    "pos_weight =len(train_false) / len(train_true)\n",
    "pos_weight"
   ]
  },
  {
   "cell_type": "markdown",
   "metadata": {},
   "source": [
    "# Preprocess data"
   ]
  },
  {
   "cell_type": "code",
   "execution_count": 3,
   "metadata": {},
   "outputs": [],
   "source": [
    "org_forms_ru = open('org.forms.ru', encoding='utf-8').read().split('\\n')\n",
    "org_forms_en = open('org.forms.en', encoding='utf-8').read().split('\\n')"
   ]
  },
  {
   "cell_type": "code",
   "execution_count": 4,
   "metadata": {},
   "outputs": [],
   "source": [
    "org_forms_ru = [x.lower() for x in org_forms_ru]\n",
    "org_forms_en = [x.lower() for x in org_forms_en]"
   ]
  },
  {
   "cell_type": "code",
   "execution_count": 5,
   "metadata": {},
   "outputs": [],
   "source": [
    "def find(s, ch = '\\\"'):\n",
    "    return [i for i, i_ch in enumerate(s) if i_ch == ch]"
   ]
  },
  {
   "cell_type": "code",
   "execution_count": 6,
   "metadata": {},
   "outputs": [],
   "source": [
    "def preprocess_rus(name):\n",
    "    name = name.lower()\n",
    "    quota_idx = find(name)\n",
    "    if len(quota_idx) == 2 and quota_idx[1] - quota_idx[0] > 1:\n",
    "        name = name[quota_idx[0] + 1 : quota_idx[1]]\n",
    "    elif len(quota_idx) == 3 and quota_idx[2] - quota_idx[1] > 1:\n",
    "        name = name[quota_idx[1] + 1 : quota_idx[2]]\n",
    "    name = ' '.join([x for x in re.split('[ ,\\-\\\"<>(){}:;*«»“”?!~%@#$%\\\\+_=^\\[\\]]', name) if x != ''])\n",
    "    for form in org_forms_ru:\n",
    "        if form in name:\n",
    "            name = name.replace(form, '')\n",
    "    return name.strip()"
   ]
  },
  {
   "cell_type": "code",
   "execution_count": 7,
   "metadata": {},
   "outputs": [],
   "source": [
    "def preprocess_eng(name):\n",
    "    name = name.lower()\n",
    "    quota_idx = find(name)\n",
    "    if len(quota_idx) == 2 and quota_idx[1] - quota_idx[0] > 1:\n",
    "        name = name[quota_idx[0] + 1 : quota_idx[1]]\n",
    "    elif len(quota_idx) == 3 and quota_idx[2] - quota_idx[1] > 1:\n",
    "        name_tmp = name[quota_idx[1] + 1 : quota_idx[2]].strip()\n",
    "        if name_tmp in org_forms_en:\n",
    "            name = name[quota_idx[0] + 1 : quota_idx[1]]\n",
    "        else:\n",
    "            name = name_tmp\n",
    "    name = ' '.join([x for x in re.split('[ ,\\-\\\"<>(){}:;*«»“”?!~%@#$%\\\\+_=^\\[\\]]', name) if x != ''])\n",
    "    for form in org_forms_en:\n",
    "        if form in name:\n",
    "            name = name.replace(form, '')\n",
    "    return name.strip()"
   ]
  },
  {
   "cell_type": "code",
   "execution_count": 12,
   "metadata": {},
   "outputs": [],
   "source": [
    "train['ru_name'] = train['ru_name'].apply(preprocess_rus)\n",
    "train['eng_name'] = train['eng_name'].apply(preprocess_eng)"
   ]
  },
  {
   "cell_type": "code",
   "execution_count": 57,
   "metadata": {},
   "outputs": [],
   "source": [
    "train_true = train[train['answer'] == True]\n",
    "train_false = train[train['answer'] == False]"
   ]
  },
  {
   "cell_type": "code",
   "execution_count": 58,
   "metadata": {},
   "outputs": [],
   "source": [
    "train_false = train_false.sample(11 * len(train_true))"
   ]
  },
  {
   "cell_type": "markdown",
   "metadata": {},
   "source": [
    "### Make dataset proportion pos : neg = 1 : 10"
   ]
  },
  {
   "cell_type": "code",
   "execution_count": 59,
   "metadata": {},
   "outputs": [],
   "source": [
    "false_size = 10 * len(train_true)\n",
    "X = np.concatenate((train_false[:false_size][['ru_name', 'eng_name']], \n",
    "                    train_true[['ru_name', 'eng_name']]))\n",
    "X = np.array([[ru.split(), en.split()] for ru, en in X])\n",
    "\n",
    "y = np.concatenate((np.zeros(false_size, dtype=np.int), \n",
    "                    np.ones(len(train_true), dtype=np.int)))"
   ]
  },
  {
   "cell_type": "code",
   "execution_count": 60,
   "metadata": {},
   "outputs": [],
   "source": [
    "X_neg = train_false.iloc[false_size:][['ru_name', 'eng_name']].values\n",
    "X_neg = np.array([[ru.split(), en.split()] for ru, en in X_neg])"
   ]
  },
  {
   "cell_type": "markdown",
   "metadata": {},
   "source": [
    "# Prepare model input"
   ]
  },
  {
   "cell_type": "code",
   "execution_count": 61,
   "metadata": {},
   "outputs": [],
   "source": [
    "from sklearn.model_selection import train_test_split"
   ]
  },
  {
   "cell_type": "code",
   "execution_count": 62,
   "metadata": {},
   "outputs": [],
   "source": [
    "X_train, X_test, y_train, y_test = train_test_split(X, y, test_size = 0.01)"
   ]
  },
  {
   "cell_type": "code",
   "execution_count": 63,
   "metadata": {},
   "outputs": [],
   "source": [
    "X_train, X_val, y_train, y_val = train_test_split(X_train, y_train, test_size = 0.01)"
   ]
  },
  {
   "cell_type": "markdown",
   "metadata": {},
   "source": [
    "### Make test and val set proportion pos : neg = 1 : pos_weight (20)"
   ]
  },
  {
   "cell_type": "code",
   "execution_count": 64,
   "metadata": {},
   "outputs": [
    {
     "data": {
      "text/plain": [
       "(6, 1813, 25382)"
      ]
     },
     "execution_count": 64,
     "metadata": {},
     "output_type": "execute_result"
    }
   ],
   "source": [
    "pos_cnt = sum(y_test)\n",
    "prop = int(len(y_test) / pos_cnt + 0.5)\n",
    "cnt = pos_cnt * (int(pos_weight) - prop)\n",
    "prop, pos_cnt, cnt"
   ]
  },
  {
   "cell_type": "code",
   "execution_count": 65,
   "metadata": {},
   "outputs": [],
   "source": [
    "X_test = np.concatenate((X_test, X_neg[:cnt]))\n",
    "y_test = np.concatenate((y_test, np.zeros(cnt, dtype=np.int)))"
   ]
  },
  {
   "cell_type": "code",
   "execution_count": 66,
   "metadata": {},
   "outputs": [],
   "source": [
    "X_neg = X_neg[cnt:]"
   ]
  },
  {
   "cell_type": "code",
   "execution_count": 67,
   "metadata": {},
   "outputs": [
    {
     "data": {
      "text/plain": [
       "(6, 1843, 25802)"
      ]
     },
     "execution_count": 67,
     "metadata": {},
     "output_type": "execute_result"
    }
   ],
   "source": [
    "pos_cnt = sum(y_val)\n",
    "prop = int(len(y_val) / pos_cnt + 0.5)\n",
    "cnt = pos_cnt * (int(pos_weight) - prop)\n",
    "prop, pos_cnt, cnt"
   ]
  },
  {
   "cell_type": "code",
   "execution_count": 68,
   "metadata": {},
   "outputs": [],
   "source": [
    "X_val = np.concatenate((X_val, X_neg[:cnt]))\n",
    "y_val = np.concatenate((y_val, np.zeros(cnt, dtype=np.int)))"
   ]
  },
  {
   "cell_type": "markdown",
   "metadata": {},
   "source": [
    "### Sort company names by sentence length, to reduce padding in batches"
   ]
  },
  {
   "cell_type": "code",
   "execution_count": 69,
   "metadata": {},
   "outputs": [],
   "source": [
    "X_train, y_train = zip(*sorted(zip(X_train, y_train), key=lambda x: max(len(x[0][0]), len(x[0][1]))))\n",
    "X_train = np.array(X_train)\n",
    "y_train = np.array(y_train)"
   ]
  },
  {
   "cell_type": "code",
   "execution_count": 70,
   "metadata": {},
   "outputs": [],
   "source": [
    "X_test, y_test = zip(*sorted(zip(X_test, y_test), key=lambda x: max(len(x[0][0]), len(x[0][1]))))\n",
    "X_test = np.array(X_test)\n",
    "y_test = np.array(y_test)"
   ]
  },
  {
   "cell_type": "code",
   "execution_count": 71,
   "metadata": {},
   "outputs": [],
   "source": [
    "X_val, y_val = zip(*sorted(zip(X_val, y_val), key=lambda x: max(len(x[0][0]), len(x[0][1]))))\n",
    "X_val = np.array(X_val)\n",
    "y_val = np.array(y_val)"
   ]
  },
  {
   "cell_type": "markdown",
   "metadata": {},
   "source": [
    "### Build vocabulary of english and russioan chars"
   ]
  },
  {
   "cell_type": "code",
   "execution_count": 72,
   "metadata": {},
   "outputs": [],
   "source": [
    "def build_vocabs(arr):\n",
    "    word_vocab = [word for word in set(np.concatenate(arr))]\n",
    "    char_vocab = ['PAD', 'UNK'] + [c for c in set.union(*[set(word) for word in word_vocab])]\n",
    "    char2id = {c: i for i, c in enumerate(char_vocab)}\n",
    "    vocab = {'cv': char_vocab, 'c2i': char2id}\n",
    "    return vocab"
   ]
  },
  {
   "cell_type": "code",
   "execution_count": 73,
   "metadata": {},
   "outputs": [],
   "source": [
    "ru_vocab = build_vocabs(X[:, 0])"
   ]
  },
  {
   "cell_type": "code",
   "execution_count": 74,
   "metadata": {},
   "outputs": [],
   "source": [
    "en_vocab = build_vocabs(X[:, 1])"
   ]
  },
  {
   "cell_type": "code",
   "execution_count": 75,
   "metadata": {},
   "outputs": [
    {
     "data": {
      "text/plain": [
       "(90, 88)"
      ]
     },
     "execution_count": 75,
     "metadata": {},
     "output_type": "execute_result"
    }
   ],
   "source": [
    "len(en_vocab['cv']), len(ru_vocab['cv'])"
   ]
  },
  {
   "cell_type": "markdown",
   "metadata": {},
   "source": [
    "# Model"
   ]
  },
  {
   "cell_type": "code",
   "execution_count": 8,
   "metadata": {},
   "outputs": [],
   "source": [
    "class CharEmbedding(nn.Module):\n",
    "    def __init__(self,\n",
    "                 vocab_size,\n",
    "                 embedding_dim=32, \n",
    "                 hidden_dim=64,\n",
    "                 k=5):\n",
    "\n",
    "        super(CharEmbedding, self).__init__()\n",
    "        self.embedder = nn.Embedding(vocab_size, embedding_dim, padding_idx=0)\n",
    "        self.cnn = nn.Conv1d(embedding_dim, hidden_dim, kernel_size=k, padding=k-1)\n",
    "        \n",
    "        \n",
    "    def forward(self, sent):\n",
    "        embeddings = self.embedder(sent)\n",
    "        bs, sl, wl, ed = embeddings.shape\n",
    "        embeddings = embeddings.view(bs * sl, wl, ed)\n",
    "        embeddings = embeddings.transpose(2, 1)\n",
    "        embeddings = self.cnn(embeddings)\n",
    "        pool = nn.MaxPool1d(embeddings.size(-1))\n",
    "        embeddings = pool(embeddings)\n",
    "        embeddings = embeddings.view(bs, sl, -1)\n",
    "        return embeddings"
   ]
  },
  {
   "cell_type": "code",
   "execution_count": 9,
   "metadata": {},
   "outputs": [],
   "source": [
    "class FeedForward(nn.Module):\n",
    "    def __init__(self, in_dim, out_dim):\n",
    "        super().__init__() \n",
    "        self.linear = nn.Linear(in_dim, out_dim)\n",
    "        self.dropout = nn.Dropout(p = 0.1)\n",
    "    def forward(self, x):\n",
    "        x = self.dropout(\n",
    "            F.relu(\n",
    "                self.linear(x)\n",
    "            )\n",
    "        )\n",
    "        return x"
   ]
  },
  {
   "cell_type": "code",
   "execution_count": 10,
   "metadata": {},
   "outputs": [],
   "source": [
    "class Model(nn.Module):\n",
    "\n",
    "    def __init__(self,\n",
    "                 ru_vocab_size, \n",
    "                 en_vocab_size,\n",
    "                 embedding_dim=32,\n",
    "                 embedding_hidden_dim=64,\n",
    "                 hidden_dim=256,\n",
    "                 k=5):\n",
    "\n",
    "        super(Model, self).__init__()\n",
    "        \n",
    "        self.ru_embedder = CharEmbedding(ru_vocab_size, embedding_dim, embedding_hidden_dim, k)\n",
    "        self.en_embedder = CharEmbedding(en_vocab_size, embedding_dim, embedding_hidden_dim, k)\n",
    "        \n",
    "        self.hidden_dim = hidden_dim\n",
    "        \n",
    "        self.ru_gru = nn.GRU(embedding_hidden_dim, hidden_dim, \n",
    "                              batch_first=True, bidirectional=True)\n",
    "        self.en_gru = nn.GRU(embedding_hidden_dim, hidden_dim, \n",
    "                              batch_first=True, bidirectional=True)\n",
    "        \n",
    "        self.ru_ff = FeedForward(2 * hidden_dim, 4 * hidden_dim)\n",
    "        self.en_ff = FeedForward(2 * hidden_dim, 4 * hidden_dim)\n",
    "        \n",
    "        self.final_ff = FeedForward(8 * hidden_dim, hidden_dim)\n",
    "        self.linear = nn.Linear(hidden_dim, 1)\n",
    "    \n",
    "    def forward(self, ru_sent, en_sent):\n",
    "        ru_embedding = self.ru_embedder(ru_sent)\n",
    "        en_embedding = self.en_embedder(en_sent)\n",
    "        \n",
    "        h0 = torch.randn(2, ru_embedding.size(0), self.hidden_dim).to(DEVICE)\n",
    "        _, ru_hidden = self.ru_gru(ru_embedding, h0)\n",
    "        ru_hidden = ru_hidden.transpose(1, 0).contiguous()\n",
    "        ru_hidden = ru_hidden.view(ru_hidden.size(0), -1)\n",
    "        \n",
    "        h0 = torch.randn(2, ru_embedding.size(0), self.hidden_dim).to(DEVICE)\n",
    "        _, en_hidden = self.en_gru(en_embedding, h0)\n",
    "        en_hidden = en_hidden.transpose(1, 0).contiguous()\n",
    "        en_hidden = en_hidden.view(en_hidden.size(0), -1)\n",
    "                \n",
    "        ru = self.ru_ff(ru_hidden)\n",
    "        en = self.en_ff(en_hidden)\n",
    "        \n",
    "        final = self.final_ff(torch.cat((ru, en), 1))\n",
    "        return self.linear(final).view(-1)"
   ]
  },
  {
   "cell_type": "code",
   "execution_count": null,
   "metadata": {},
   "outputs": [],
   "source": []
  },
  {
   "cell_type": "code",
   "execution_count": 11,
   "metadata": {},
   "outputs": [],
   "source": [
    "def prepare_input(batch, c2i, **kwargs):\n",
    "    char_batch = []\n",
    "    max_words_len = 0\n",
    "    for sentence in batch:\n",
    "        max_words_len = max(max_words_len, len(sentence))\n",
    "        char_batch.append([[c2i.get(c) or c2i['UNK'] for c in word] for word in sentence])\n",
    "    max_chars_len = int(max(np.concatenate([[len(word) for word in sentence] for sentence in char_batch])))\n",
    "    for sentence in char_batch:\n",
    "        sentence += [[c2i['PAD']] * max_chars_len] * (max_words_len - len(sentence))\n",
    "        for word in sentence:\n",
    "            word += [c2i['PAD']] * (max_chars_len - len(word))\n",
    "    return torch.LongTensor(char_batch)"
   ]
  },
  {
   "cell_type": "code",
   "execution_count": 16,
   "metadata": {},
   "outputs": [],
   "source": [
    "def batch_generator(X, ru_vocab, en_vocab, y = None, batch_size=BATCH_SIZE):\n",
    "    for batch_id in tqdm(range(0, len(X) // BATCH_SIZE + 1)):\n",
    "        start = batch_id * BATCH_SIZE\n",
    "        end = (batch_id + 1) * BATCH_SIZE\n",
    "        ru_batch = prepare_input(X[start:end, 0], **ru_vocab).to(DEVICE)\n",
    "        en_batch = prepare_input(X[start:end, 1], **en_vocab).to(DEVICE)\n",
    "        if y is not None:\n",
    "            target_batch = torch.tensor(y[start:end], dtype=torch.float).to(DEVICE)\n",
    "            yield ru_batch, en_batch, target_batch\n",
    "        else:\n",
    "            yield ru_batch, en_batch"
   ]
  },
  {
   "cell_type": "code",
   "execution_count": 17,
   "metadata": {},
   "outputs": [],
   "source": [
    "def get_classes(logits):\n",
    "    pred = torch.sigmoid(logits)\n",
    "    return (pred >= 0.5).int().tolist()"
   ]
  },
  {
   "cell_type": "code",
   "execution_count": 18,
   "metadata": {},
   "outputs": [],
   "source": [
    "def predict(X, model, ru_vocab, en_vocab):\n",
    "    res = []\n",
    "    model.eval()\n",
    "    for ru, en in batch_generator(X, ru_vocab, en_vocab):\n",
    "        logits = model(ru, en)\n",
    "        res = np.concatenate((res, get_classes(logits)))\n",
    "    return res"
   ]
  },
  {
   "cell_type": "code",
   "execution_count": 19,
   "metadata": {},
   "outputs": [],
   "source": [
    "def evaluate(X, y, model, ru_vocab, en_vocab, loss_fnc, score_fnc):\n",
    "    classes = []\n",
    "    batch_losses = []\n",
    "    model.eval()\n",
    "    for ru, en, trg in batch_generator(X, ru_vocab, en_vocab, y):\n",
    "        logits = model(ru, en)\n",
    "        batch_losses.append(loss_fnc(logits, trg).tolist())\n",
    "        classes = np.concatenate((classes, get_classes(logits)))\n",
    "    loss = np.average(batch_losses)\n",
    "    score = score_fnc(y, classes)\n",
    "    return loss, score"
   ]
  },
  {
   "cell_type": "code",
   "execution_count": null,
   "metadata": {},
   "outputs": [],
   "source": []
  },
  {
   "cell_type": "markdown",
   "metadata": {},
   "source": [
    "# Train"
   ]
  },
  {
   "cell_type": "code",
   "execution_count": 20,
   "metadata": {},
   "outputs": [],
   "source": [
    "from sklearn.metrics import f1_score"
   ]
  },
  {
   "cell_type": "code",
   "execution_count": 21,
   "metadata": {},
   "outputs": [],
   "source": [
    "loss_fnc = nn.BCEWithLogitsLoss(pos_weight=torch.tensor([10.]).to(DEVICE))"
   ]
  },
  {
   "cell_type": "code",
   "execution_count": 107,
   "metadata": {},
   "outputs": [],
   "source": [
    "model = Model(len(ru_vocab['cv']), len(en_vocab['cv'])).to(DEVICE)\n",
    "optimizer = optim.Adam(model.parameters(), lr=0.0005)"
   ]
  },
  {
   "cell_type": "code",
   "execution_count": 108,
   "metadata": {},
   "outputs": [],
   "source": [
    "for p in model.parameters():\n",
    "    if p.dim() > 1:\n",
    "        nn.init.xavier_uniform_(p)"
   ]
  },
  {
   "cell_type": "code",
   "execution_count": null,
   "metadata": {},
   "outputs": [],
   "source": []
  },
  {
   "cell_type": "code",
   "execution_count": 109,
   "metadata": {
    "scrolled": false
   },
   "outputs": [],
   "source": [
    "from torch.utils.tensorboard import SummaryWriter"
   ]
  },
  {
   "cell_type": "code",
   "execution_count": 110,
   "metadata": {},
   "outputs": [],
   "source": [
    "writer = SummaryWriter()"
   ]
  },
  {
   "cell_type": "code",
   "execution_count": null,
   "metadata": {},
   "outputs": [],
   "source": []
  },
  {
   "cell_type": "code",
   "execution_count": 111,
   "metadata": {},
   "outputs": [],
   "source": [
    "def train_model(model, X, y, ru_vocab, en_vocab, X_val, y_val, X_test, y_test, epochs = EPOCHS, start_epoch = 1):\n",
    "    train_losses = []\n",
    "    val_losses = []\n",
    "    train_scores = []\n",
    "    val_scores = []\n",
    "    for epoch in range(start_epoch, epochs + 1):\n",
    "        print(f'Epoch: {epoch} start')\n",
    "        model.train()\n",
    "        batch_losses = []\n",
    "        batch_scores = []\n",
    "        for i, (ru, en, trg) in enumerate(batch_generator(X, ru_vocab, en_vocab, y)):\n",
    "\n",
    "            model.zero_grad()\n",
    "\n",
    "            logits = model(ru, en)\n",
    "            loss = loss_fnc(logits, trg)\n",
    "            loss.backward()\n",
    "            optimizer.step()\n",
    "\n",
    "            batch_losses.append(loss.tolist())\n",
    "            score = f1_score(trg.data.cpu(), get_classes(logits))\n",
    "            batch_scores.append(score.tolist())\n",
    "\n",
    "            if i % 100 == 0:\n",
    "                print(f'Iter: {i}, loss: {loss}, score: {score}')\n",
    "\n",
    "        epoch_loss = np.average(batch_losses)\n",
    "        epoch_score = np.average(batch_scores)\n",
    "        train_losses.append(epoch_loss)\n",
    "        train_scores.append(epoch_score)\n",
    "        \n",
    "        writer.add_scalar('Loss/train', epoch_loss, epoch)\n",
    "        writer.add_scalar('F1/train', epoch_score, epoch)\n",
    "        \n",
    "        val_loss, val_score = evaluate(X_val, y_val, model, ru_vocab, en_vocab, loss_fnc, f1_score)\n",
    "        \n",
    "        writer.add_scalar('Loss/val', val_loss, epoch)\n",
    "        writer.add_scalar('F1/val', val_score, epoch)\n",
    "        \n",
    "        test_loss, test_score = evaluate(X_test, y_test, model, ru_vocab, en_vocab, loss_fnc, f1_score)\n",
    "        \n",
    "        writer.add_scalar('Loss/test', test_loss, epoch)\n",
    "        writer.add_scalar('F1/test', test_score, epoch)\n",
    "        \n",
    "        val_losses.append(val_loss)\n",
    "        val_scores.append(val_score)\n",
    "        \n",
    "        print(f'Epoch: {epoch} end')\n",
    "        print(f'train_loss: {epoch_loss}, train_score: {epoch_score}')\n",
    "        print(f'val_loss: {val_loss}, val_score: {val_score}')\n",
    "        print(f'test_loss: {test_loss}, test_score: {test_score}')\n",
    "        \n",
    "        if len(val_scores) < 2 or val_score > max(val_scores[:-1]):\n",
    "            torch.save((ru_vocab, en_vocab, model.state_dict()), \n",
    "                       f'model/chpt-loss{val_loss:.{2}f}-score{val_score:.{2}f}.pt')\n",
    "        \n",
    "            \n",
    "    return train_losses, val_losses, train_scores, val_scores"
   ]
  },
  {
   "cell_type": "code",
   "execution_count": 112,
   "metadata": {},
   "outputs": [
    {
     "name": "stdout",
     "output_type": "stream",
     "text": [
      "Epoch: 1 start\n"
     ]
    },
    {
     "data": {
      "application/vnd.jupyter.widget-view+json": {
       "model_id": "bfd2fd9dc1774d1aabd320a8716fca2f",
       "version_major": 2,
       "version_minor": 0
      },
      "text/plain": [
       "HBox(children=(FloatProgress(value=0.0, max=2101.0), HTML(value='')))"
      ]
     },
     "metadata": {},
     "output_type": "display_data"
    },
    {
     "name": "stdout",
     "output_type": "stream",
     "text": [
      "Iter: 0, loss: 1.5463892221450806, score: 0.3673469387755102\n",
      "Iter: 100, loss: 1.3486206531524658, score: 0.40498442367601245\n",
      "Iter: 200, loss: 1.4298536777496338, score: 0.49189985272459497\n",
      "Iter: 300, loss: 1.3609228134155273, score: 0.4318529862174579\n",
      "Iter: 400, loss: 1.403918743133545, score: 0.4807121661721068\n",
      "Iter: 500, loss: 1.1457114219665527, score: 0.2614601018675722\n",
      "Iter: 600, loss: 0.8024235963821411, score: 0.46280991735537186\n",
      "Iter: 700, loss: 0.7790716886520386, score: 0.467741935483871\n",
      "Iter: 800, loss: 0.8403072357177734, score: 0.38135593220338987\n",
      "Iter: 900, loss: 0.6771206855773926, score: 0.6379310344827587\n",
      "Iter: 1000, loss: 0.5977673530578613, score: 0.5666666666666667\n",
      "Iter: 1100, loss: 0.6626445055007935, score: 0.5934065934065933\n",
      "Iter: 1200, loss: 0.6040080785751343, score: 0.5212121212121212\n",
      "Iter: 1300, loss: 0.583320140838623, score: 0.5838509316770186\n",
      "Iter: 1400, loss: 0.5843689441680908, score: 0.6473988439306357\n",
      "Iter: 1500, loss: 0.6661043167114258, score: 0.6393442622950819\n",
      "Iter: 1600, loss: 0.6583042144775391, score: 0.6306306306306306\n",
      "Iter: 1700, loss: 0.6557224988937378, score: 0.6428571428571429\n",
      "Iter: 1800, loss: 0.6067773699760437, score: 0.576\n",
      "Iter: 1900, loss: 0.886687159538269, score: 0.46242774566473993\n",
      "Iter: 2000, loss: 0.8465039134025574, score: 0.4590163934426229\n",
      "Iter: 2100, loss: 0.8505088686943054, score: 0.7042253521126761\n",
      "\n"
     ]
    },
    {
     "data": {
      "application/vnd.jupyter.widget-view+json": {
       "model_id": "7182523fad0d417698712b5a05602f12",
       "version_major": 2,
       "version_minor": 0
      },
      "text/plain": [
       "HBox(children=(FloatProgress(value=0.0, max=72.0), HTML(value='')))"
      ]
     },
     "metadata": {},
     "output_type": "display_data"
    },
    {
     "name": "stdout",
     "output_type": "stream",
     "text": [
      "\n"
     ]
    },
    {
     "data": {
      "application/vnd.jupyter.widget-view+json": {
       "model_id": "8f79470873b64ca2aa4db63366686200",
       "version_major": 2,
       "version_minor": 0
      },
      "text/plain": [
       "HBox(children=(FloatProgress(value=0.0, max=72.0), HTML(value='')))"
      ]
     },
     "metadata": {},
     "output_type": "display_data"
    },
    {
     "name": "stdout",
     "output_type": "stream",
     "text": [
      "\n",
      "Epoch: 1 end\n",
      "train_loss: 0.8840023560191494, train_score: 0.4990903917567779\n",
      "val_loss: 2.6423793766233654, val_score: 0.09659225058369841\n",
      "test_loss: 2.600134390923712, test_score: 0.09564664760088974\n",
      "Epoch: 2 start\n"
     ]
    },
    {
     "data": {
      "application/vnd.jupyter.widget-view+json": {
       "model_id": "11f9f1cec037467591a7c802d9ea9534",
       "version_major": 2,
       "version_minor": 0
      },
      "text/plain": [
       "HBox(children=(FloatProgress(value=0.0, max=2101.0), HTML(value='')))"
      ]
     },
     "metadata": {},
     "output_type": "display_data"
    },
    {
     "name": "stdout",
     "output_type": "stream",
     "text": [
      "Iter: 0, loss: 1.9069973230361938, score: 0.441400304414003\n",
      "Iter: 100, loss: 0.9047029614448547, score: 0.6490765171503957\n",
      "Iter: 200, loss: 0.8237023949623108, score: 0.7386091127098321\n",
      "Iter: 300, loss: 0.6676536202430725, score: 0.7282321899736147\n",
      "Iter: 400, loss: 0.7263509035110474, score: 0.7661691542288558\n",
      "Iter: 500, loss: 0.922964334487915, score: 0.5876288659793815\n",
      "Iter: 600, loss: 0.5880406498908997, score: 0.6419753086419754\n",
      "Iter: 700, loss: 0.42066383361816406, score: 0.738255033557047\n",
      "Iter: 800, loss: 0.7019368410110474, score: 0.5657894736842105\n",
      "Iter: 900, loss: 0.506339430809021, score: 0.7643979057591622\n",
      "Iter: 1000, loss: 0.4330361485481262, score: 0.6624203821656051\n",
      "Iter: 1100, loss: 0.5009876489639282, score: 0.7088607594936709\n",
      "Iter: 1200, loss: 0.41778305172920227, score: 0.6178861788617885\n",
      "Iter: 1300, loss: 0.443946897983551, score: 0.7194244604316549\n",
      "Iter: 1400, loss: 0.48939618468284607, score: 0.718954248366013\n",
      "Iter: 1500, loss: 0.6300699710845947, score: 0.5999999999999999\n",
      "Iter: 1600, loss: 0.6316390633583069, score: 0.5714285714285714\n",
      "Iter: 1700, loss: 0.579159140586853, score: 0.6171428571428571\n",
      "Iter: 1800, loss: 0.5871154069900513, score: 0.5833333333333334\n",
      "Iter: 1900, loss: 0.8213784098625183, score: 0.47926267281105994\n",
      "Iter: 2000, loss: 0.7800873517990112, score: 0.48205128205128206\n",
      "Iter: 2100, loss: 0.6527349352836609, score: 0.6153846153846153\n",
      "\n"
     ]
    },
    {
     "data": {
      "application/vnd.jupyter.widget-view+json": {
       "model_id": "05df6c0d129a4240a6d8148c9e41f3da",
       "version_major": 2,
       "version_minor": 0
      },
      "text/plain": [
       "HBox(children=(FloatProgress(value=0.0, max=72.0), HTML(value='')))"
      ]
     },
     "metadata": {},
     "output_type": "display_data"
    },
    {
     "name": "stdout",
     "output_type": "stream",
     "text": [
      "\n"
     ]
    },
    {
     "data": {
      "application/vnd.jupyter.widget-view+json": {
       "model_id": "6b02301f422647d39836cf3f0886ae75",
       "version_major": 2,
       "version_minor": 0
      },
      "text/plain": [
       "HBox(children=(FloatProgress(value=0.0, max=72.0), HTML(value='')))"
      ]
     },
     "metadata": {},
     "output_type": "display_data"
    },
    {
     "name": "stdout",
     "output_type": "stream",
     "text": [
      "\n",
      "Epoch: 2 end\n",
      "train_loss: 0.6459640135145482, train_score: 0.6443226867080046\n",
      "val_loss: 1.367750595841143, val_score: 0.12795312094351521\n",
      "test_loss: 1.353127404840456, test_score: 0.12789044376262815\n",
      "Epoch: 3 start\n"
     ]
    },
    {
     "data": {
      "application/vnd.jupyter.widget-view+json": {
       "model_id": "1cb971177000414fbc50d185756fe9a7",
       "version_major": 2,
       "version_minor": 0
      },
      "text/plain": [
       "HBox(children=(FloatProgress(value=0.0, max=2101.0), HTML(value='')))"
      ]
     },
     "metadata": {},
     "output_type": "display_data"
    },
    {
     "name": "stdout",
     "output_type": "stream",
     "text": [
      "Iter: 0, loss: 1.4983086585998535, score: 0.4721311475409836\n",
      "Iter: 100, loss: 0.6639040112495422, score: 0.7098591549295774\n",
      "Iter: 200, loss: 0.7053319215774536, score: 0.79\n",
      "Iter: 300, loss: 0.43270397186279297, score: 0.7988505747126436\n",
      "Iter: 400, loss: 0.6050407886505127, score: 0.8194070080862534\n",
      "Iter: 500, loss: 0.7728956937789917, score: 0.56\n",
      "Iter: 600, loss: 0.47652530670166016, score: 0.6751592356687899\n",
      "Iter: 700, loss: 0.3784438371658325, score: 0.7450980392156863\n",
      "Iter: 800, loss: 0.5671815872192383, score: 0.6187050359712231\n",
      "Iter: 900, loss: 0.4257560670375824, score: 0.7875647668393781\n",
      "Iter: 1000, loss: 0.3740658760070801, score: 0.7162162162162162\n",
      "Iter: 1100, loss: 0.4635434150695801, score: 0.728476821192053\n",
      "Iter: 1200, loss: 0.347855806350708, score: 0.7454545454545455\n",
      "Iter: 1300, loss: 0.3851180076599121, score: 0.7246376811594204\n",
      "Iter: 1400, loss: 0.43993252515792847, score: 0.7482993197278912\n",
      "Iter: 1500, loss: 0.5740064382553101, score: 0.5644171779141105\n",
      "Iter: 1600, loss: 0.5620328187942505, score: 0.6099290780141844\n",
      "Iter: 1700, loss: 0.5030443072319031, score: 0.6285714285714286\n",
      "Iter: 1800, loss: 0.4975913465023041, score: 0.6400000000000001\n",
      "Iter: 1900, loss: 0.7580226063728333, score: 0.5358851674641149\n",
      "Iter: 2000, loss: 0.7218968868255615, score: 0.49019607843137253\n",
      "Iter: 2100, loss: 0.6239817142486572, score: 0.6226415094339622\n",
      "\n"
     ]
    },
    {
     "data": {
      "application/vnd.jupyter.widget-view+json": {
       "model_id": "5868628cf5844c9f8a53414b510b42ac",
       "version_major": 2,
       "version_minor": 0
      },
      "text/plain": [
       "HBox(children=(FloatProgress(value=0.0, max=72.0), HTML(value='')))"
      ]
     },
     "metadata": {},
     "output_type": "display_data"
    },
    {
     "name": "stdout",
     "output_type": "stream",
     "text": [
      "\n"
     ]
    },
    {
     "data": {
      "application/vnd.jupyter.widget-view+json": {
       "model_id": "fb910bc7e3264543899efdd62e451dfd",
       "version_major": 2,
       "version_minor": 0
      },
      "text/plain": [
       "HBox(children=(FloatProgress(value=0.0, max=72.0), HTML(value='')))"
      ]
     },
     "metadata": {},
     "output_type": "display_data"
    },
    {
     "name": "stdout",
     "output_type": "stream",
     "text": [
      "\n",
      "Epoch: 3 end\n",
      "train_loss: 0.5616999941530936, train_score: 0.687377681635733\n",
      "val_loss: 1.8178228495849504, val_score: 0.11779888157241654\n",
      "test_loss: 1.7850524182948801, test_score: 0.11782457081545064\n",
      "Epoch: 4 start\n"
     ]
    },
    {
     "data": {
      "application/vnd.jupyter.widget-view+json": {
       "model_id": "19a45b061d18487d8f976737f3114a63",
       "version_major": 2,
       "version_minor": 0
      },
      "text/plain": [
       "HBox(children=(FloatProgress(value=0.0, max=2101.0), HTML(value='')))"
      ]
     },
     "metadata": {},
     "output_type": "display_data"
    },
    {
     "name": "stdout",
     "output_type": "stream",
     "text": [
      "Iter: 0, loss: 1.7226334810256958, score: 0.4730831973898858\n",
      "Iter: 100, loss: 0.516865074634552, score: 0.7730061349693251\n",
      "Iter: 200, loss: 0.5789902210235596, score: 0.8390501319261212\n",
      "Iter: 300, loss: 0.460612416267395, score: 0.8179104477611939\n",
      "Iter: 400, loss: 0.5729268789291382, score: 0.8461538461538463\n",
      "Iter: 500, loss: 0.5987609624862671, score: 0.6168224299065421\n",
      "Iter: 600, loss: 0.3411204218864441, score: 0.7435897435897435\n",
      "Iter: 700, loss: 0.3871457576751709, score: 0.7763157894736843\n",
      "Iter: 800, loss: 0.5041530132293701, score: 0.7096774193548386\n",
      "Iter: 900, loss: 0.39686504006385803, score: 0.8324324324324325\n",
      "Iter: 1000, loss: 0.3657273054122925, score: 0.6973684210526316\n",
      "Iter: 1100, loss: 0.3909776210784912, score: 0.7887323943661972\n",
      "Iter: 1200, loss: 0.30695050954818726, score: 0.735042735042735\n",
      "Iter: 1300, loss: 0.3844546675682068, score: 0.7407407407407408\n",
      "Iter: 1400, loss: 0.36170122027397156, score: 0.7971014492753623\n",
      "Iter: 1500, loss: 0.5825589895248413, score: 0.5549132947976878\n",
      "Iter: 1600, loss: 0.4947095513343811, score: 0.625\n",
      "Iter: 1700, loss: 0.5057509541511536, score: 0.6467065868263473\n",
      "Iter: 1800, loss: 0.4714652895927429, score: 0.6369426751592357\n",
      "Iter: 1900, loss: 0.6769652366638184, score: 0.6231155778894473\n",
      "Iter: 2000, loss: 0.6594730615615845, score: 0.5084745762711865\n",
      "Iter: 2100, loss: 0.6086726188659668, score: 0.7191011235955055\n",
      "\n"
     ]
    },
    {
     "data": {
      "application/vnd.jupyter.widget-view+json": {
       "model_id": "30e641f5f8584b0490d61025c8777ea3",
       "version_major": 2,
       "version_minor": 0
      },
      "text/plain": [
       "HBox(children=(FloatProgress(value=0.0, max=72.0), HTML(value='')))"
      ]
     },
     "metadata": {},
     "output_type": "display_data"
    },
    {
     "name": "stdout",
     "output_type": "stream",
     "text": [
      "\n"
     ]
    },
    {
     "data": {
      "application/vnd.jupyter.widget-view+json": {
       "model_id": "359eecdd7ac3442198098820bde7914a",
       "version_major": 2,
       "version_minor": 0
      },
      "text/plain": [
       "HBox(children=(FloatProgress(value=0.0, max=72.0), HTML(value='')))"
      ]
     },
     "metadata": {},
     "output_type": "display_data"
    },
    {
     "name": "stdout",
     "output_type": "stream",
     "text": [
      "\n",
      "Epoch: 4 end\n",
      "train_loss: 0.5001750545224254, train_score: 0.7177155941571551\n",
      "val_loss: 1.0817781649529934, val_score: 0.1773092982992158\n",
      "test_loss: 1.072110848294364, test_score: 0.17635559213910895\n",
      "Epoch: 5 start\n"
     ]
    },
    {
     "data": {
      "application/vnd.jupyter.widget-view+json": {
       "model_id": "9c1b007983454cff877073af23f244c7",
       "version_major": 2,
       "version_minor": 0
      },
      "text/plain": [
       "HBox(children=(FloatProgress(value=0.0, max=2101.0), HTML(value='')))"
      ]
     },
     "metadata": {},
     "output_type": "display_data"
    },
    {
     "name": "stdout",
     "output_type": "stream",
     "text": [
      "Iter: 0, loss: 1.2837120294570923, score: 0.5406427221172023\n",
      "Iter: 100, loss: 0.42200368642807007, score: 0.8382838283828384\n",
      "Iter: 200, loss: 0.5144320130348206, score: 0.8610354223433242\n",
      "Iter: 300, loss: 0.3636742830276489, score: 0.8398791540785498\n",
      "Iter: 400, loss: 0.4595608115196228, score: 0.8635097493036212\n",
      "Iter: 500, loss: 0.5527256727218628, score: 0.6736842105263159\n",
      "Iter: 600, loss: 0.2755391001701355, score: 0.8378378378378379\n",
      "Iter: 700, loss: 0.3926883041858673, score: 0.7733333333333333\n",
      "Iter: 800, loss: 0.5322506427764893, score: 0.6814814814814815\n",
      "Iter: 900, loss: 0.34356528520584106, score: 0.861878453038674\n",
      "Iter: 1000, loss: 0.314040869474411, score: 0.7913669064748201\n",
      "Iter: 1100, loss: 0.36963725090026855, score: 0.7682119205298014\n",
      "Iter: 1200, loss: 0.3079252243041992, score: 0.7107438016528925\n",
      "Iter: 1300, loss: 0.3409334421157837, score: 0.7482014388489209\n",
      "Iter: 1400, loss: 0.3350986838340759, score: 0.7943262411347517\n",
      "Iter: 1500, loss: 0.5211041569709778, score: 0.5930232558139535\n",
      "Iter: 1600, loss: 0.47011512517929077, score: 0.6258503401360545\n",
      "Iter: 1700, loss: 0.43339186906814575, score: 0.6748466257668712\n",
      "Iter: 1800, loss: 0.40502193570137024, score: 0.6578947368421052\n",
      "Iter: 1900, loss: 0.6202792525291443, score: 0.6294416243654822\n",
      "Iter: 2000, loss: 0.6273907423019409, score: 0.5263157894736842\n",
      "Iter: 2100, loss: 0.5193203687667847, score: 0.7422680412371133\n",
      "\n"
     ]
    },
    {
     "data": {
      "application/vnd.jupyter.widget-view+json": {
       "model_id": "c2faa79d0c33410888f75bcae0099e3a",
       "version_major": 2,
       "version_minor": 0
      },
      "text/plain": [
       "HBox(children=(FloatProgress(value=0.0, max=72.0), HTML(value='')))"
      ]
     },
     "metadata": {},
     "output_type": "display_data"
    },
    {
     "name": "stdout",
     "output_type": "stream",
     "text": [
      "\n"
     ]
    },
    {
     "data": {
      "application/vnd.jupyter.widget-view+json": {
       "model_id": "b7d8732f2f514605b9c6c33007e816a5",
       "version_major": 2,
       "version_minor": 0
      },
      "text/plain": [
       "HBox(children=(FloatProgress(value=0.0, max=72.0), HTML(value='')))"
      ]
     },
     "metadata": {},
     "output_type": "display_data"
    },
    {
     "name": "stdout",
     "output_type": "stream",
     "text": [
      "\n",
      "Epoch: 5 end\n",
      "train_loss: 0.46199822570527527, train_score: 0.738633543596283\n",
      "val_loss: 0.911265440699127, val_score: 0.21074430503106345\n",
      "test_loss: 0.902015197608206, test_score: 0.2080177350822095\n",
      "Epoch: 6 start\n"
     ]
    },
    {
     "data": {
      "application/vnd.jupyter.widget-view+json": {
       "model_id": "c3eb066204dd4efb90ab34e43df5abe4",
       "version_major": 2,
       "version_minor": 0
      },
      "text/plain": [
       "HBox(children=(FloatProgress(value=0.0, max=2101.0), HTML(value='')))"
      ]
     },
     "metadata": {},
     "output_type": "display_data"
    },
    {
     "name": "stdout",
     "output_type": "stream",
     "text": [
      "Iter: 0, loss: 1.24506413936615, score: 0.5622489959839357\n",
      "Iter: 100, loss: 0.4075808525085449, score: 0.8250825082508252\n",
      "Iter: 200, loss: 0.47559624910354614, score: 0.8602739726027396\n",
      "Iter: 300, loss: 0.3367682993412018, score: 0.8580246913580246\n",
      "Iter: 400, loss: 0.46805307269096375, score: 0.8757062146892656\n",
      "Iter: 500, loss: 0.4875521957874298, score: 0.7225130890052356\n",
      "Iter: 600, loss: 0.26946237683296204, score: 0.7919463087248323\n",
      "Iter: 700, loss: 0.36811763048171997, score: 0.816326530612245\n",
      "Iter: 800, loss: 0.4897199869155884, score: 0.7014925373134329\n",
      "Iter: 900, loss: 0.33272606134414673, score: 0.8478260869565218\n",
      "Iter: 1000, loss: 0.2868101894855499, score: 0.7801418439716311\n",
      "Iter: 1100, loss: 0.3541005849838257, score: 0.7755102040816326\n",
      "Iter: 1200, loss: 0.292580783367157, score: 0.7179487179487181\n",
      "Iter: 1300, loss: 0.3268378973007202, score: 0.7499999999999999\n",
      "Iter: 1400, loss: 0.304842472076416, score: 0.8529411764705882\n",
      "Iter: 1500, loss: 0.5130721926689148, score: 0.6227544910179641\n",
      "Iter: 1600, loss: 0.45650291442871094, score: 0.6573426573426574\n",
      "Iter: 1700, loss: 0.4171208143234253, score: 0.6987951807228915\n",
      "Iter: 1800, loss: 0.42499643564224243, score: 0.6181818181818182\n",
      "Iter: 1900, loss: 0.5971301794052124, score: 0.5990338164251208\n",
      "Iter: 2000, loss: 0.5749784708023071, score: 0.5591397849462365\n",
      "Iter: 2100, loss: 0.46010178327560425, score: 0.7368421052631579\n",
      "\n"
     ]
    },
    {
     "data": {
      "application/vnd.jupyter.widget-view+json": {
       "model_id": "226233d33cdd482e9d6bc396cbef1994",
       "version_major": 2,
       "version_minor": 0
      },
      "text/plain": [
       "HBox(children=(FloatProgress(value=0.0, max=72.0), HTML(value='')))"
      ]
     },
     "metadata": {},
     "output_type": "display_data"
    },
    {
     "name": "stdout",
     "output_type": "stream",
     "text": [
      "\n"
     ]
    },
    {
     "data": {
      "application/vnd.jupyter.widget-view+json": {
       "model_id": "ad01ae631d43452ebb80807c0e3039eb",
       "version_major": 2,
       "version_minor": 0
      },
      "text/plain": [
       "HBox(children=(FloatProgress(value=0.0, max=72.0), HTML(value='')))"
      ]
     },
     "metadata": {},
     "output_type": "display_data"
    },
    {
     "name": "stdout",
     "output_type": "stream",
     "text": [
      "\n",
      "Epoch: 6 end\n",
      "train_loss: 0.438098079190261, train_score: 0.7514944425712782\n",
      "val_loss: 0.8816316603786416, val_score: 0.21963856944268925\n",
      "test_loss: 0.8728261838356653, test_score: 0.21497998856489423\n",
      "Epoch: 7 start\n"
     ]
    },
    {
     "data": {
      "application/vnd.jupyter.widget-view+json": {
       "model_id": "5be27d3722ad4950872d589845818b8c",
       "version_major": 2,
       "version_minor": 0
      },
      "text/plain": [
       "HBox(children=(FloatProgress(value=0.0, max=2101.0), HTML(value='')))"
      ]
     },
     "metadata": {},
     "output_type": "display_data"
    },
    {
     "name": "stdout",
     "output_type": "stream",
     "text": [
      "Iter: 0, loss: 1.2537622451782227, score: 0.5807770961145194\n",
      "Iter: 100, loss: 0.3664676547050476, score: 0.8305647840531561\n",
      "Iter: 200, loss: 0.4563833475112915, score: 0.8977272727272727\n",
      "Iter: 300, loss: 0.34470146894454956, score: 0.8606811145510835\n",
      "Iter: 400, loss: 0.4098823070526123, score: 0.8659217877094972\n",
      "Iter: 500, loss: 0.44644057750701904, score: 0.7513812154696132\n",
      "Iter: 600, loss: 0.23294693231582642, score: 0.8133333333333332\n",
      "Iter: 700, loss: 0.33156219124794006, score: 0.8108108108108107\n",
      "Iter: 800, loss: 0.4839930534362793, score: 0.6766917293233082\n",
      "Iter: 900, loss: 0.30570289492607117, score: 0.8826815642458101\n",
      "Iter: 1000, loss: 0.250697523355484, score: 0.7808219178082193\n",
      "Iter: 1100, loss: 0.34451690316200256, score: 0.8055555555555556\n",
      "Iter: 1200, loss: 0.2598297595977783, score: 0.7927927927927928\n",
      "Iter: 1300, loss: 0.3399089574813843, score: 0.7692307692307692\n",
      "Iter: 1400, loss: 0.3401108980178833, score: 0.8396946564885497\n",
      "Iter: 1500, loss: 0.4909764528274536, score: 0.6136363636363636\n",
      "Iter: 1600, loss: 0.4331183433532715, score: 0.6666666666666666\n",
      "Iter: 1700, loss: 0.43495023250579834, score: 0.6744186046511628\n",
      "Iter: 1800, loss: 0.3861900568008423, score: 0.6875\n",
      "Iter: 1900, loss: 0.5837337970733643, score: 0.6435643564356436\n",
      "Iter: 2000, loss: 0.5579965114593506, score: 0.5978260869565218\n",
      "Iter: 2100, loss: 0.3999989330768585, score: 0.8333333333333334\n",
      "\n"
     ]
    },
    {
     "data": {
      "application/vnd.jupyter.widget-view+json": {
       "model_id": "a1fbfc6b2757498993203ab035ae4974",
       "version_major": 2,
       "version_minor": 0
      },
      "text/plain": [
       "HBox(children=(FloatProgress(value=0.0, max=72.0), HTML(value='')))"
      ]
     },
     "metadata": {},
     "output_type": "display_data"
    },
    {
     "name": "stdout",
     "output_type": "stream",
     "text": [
      "\n"
     ]
    },
    {
     "data": {
      "application/vnd.jupyter.widget-view+json": {
       "model_id": "aec9307ae8ae4305b5e0254a63de5878",
       "version_major": 2,
       "version_minor": 0
      },
      "text/plain": [
       "HBox(children=(FloatProgress(value=0.0, max=72.0), HTML(value='')))"
      ]
     },
     "metadata": {},
     "output_type": "display_data"
    },
    {
     "name": "stdout",
     "output_type": "stream",
     "text": [
      "\n",
      "Epoch: 7 end\n",
      "train_loss: 0.4176601553349084, train_score: 0.7621808066363227\n",
      "val_loss: 0.6945272667540444, val_score: 0.2663157079817295\n",
      "test_loss: 0.6834256065388521, test_score: 0.2657001024347963\n",
      "Epoch: 8 start\n"
     ]
    },
    {
     "data": {
      "application/vnd.jupyter.widget-view+json": {
       "model_id": "98e36e0d0695422185e01403943230d1",
       "version_major": 2,
       "version_minor": 0
      },
      "text/plain": [
       "HBox(children=(FloatProgress(value=0.0, max=2101.0), HTML(value='')))"
      ]
     },
     "metadata": {},
     "output_type": "display_data"
    },
    {
     "name": "stdout",
     "output_type": "stream",
     "text": [
      "Iter: 0, loss: 0.984006941318512, score: 0.6363636363636365\n",
      "Iter: 100, loss: 0.4170632064342499, score: 0.8208469055374592\n",
      "Iter: 200, loss: 0.42822161316871643, score: 0.88268156424581\n",
      "Iter: 300, loss: 0.3273330330848694, score: 0.85625\n",
      "Iter: 400, loss: 0.43410205841064453, score: 0.8831908831908831\n",
      "Iter: 500, loss: 0.47808629274368286, score: 0.7391304347826086\n",
      "Iter: 600, loss: 0.257981538772583, score: 0.8275862068965517\n",
      "Iter: 700, loss: 0.33569639921188354, score: 0.8285714285714286\n",
      "Iter: 800, loss: 0.43764156103134155, score: 0.6814814814814815\n",
      "Iter: 900, loss: 0.3398440480232239, score: 0.8826815642458101\n",
      "Iter: 1000, loss: 0.2795584797859192, score: 0.7746478873239436\n",
      "Iter: 1100, loss: 0.3771541714668274, score: 0.7733333333333333\n",
      "Iter: 1200, loss: 0.27982819080352783, score: 0.7652173913043478\n",
      "Iter: 1300, loss: 0.3253534436225891, score: 0.7591240875912408\n",
      "Iter: 1400, loss: 0.2921358346939087, score: 0.8428571428571429\n",
      "Iter: 1500, loss: 0.42218515276908875, score: 0.6551724137931034\n",
      "Iter: 1600, loss: 0.42132768034935, score: 0.6351351351351352\n",
      "Iter: 1700, loss: 0.3848286271095276, score: 0.6904761904761905\n",
      "Iter: 1800, loss: 0.3813864588737488, score: 0.670807453416149\n",
      "Iter: 1900, loss: 0.5479660630226135, score: 0.6766169154228856\n",
      "Iter: 2000, loss: 0.5485854744911194, score: 0.5942857142857143\n",
      "Iter: 2100, loss: 0.32583680748939514, score: 0.8478260869565216\n",
      "\n"
     ]
    },
    {
     "data": {
      "application/vnd.jupyter.widget-view+json": {
       "model_id": "34000b7d8211481b8f98068a799c6576",
       "version_major": 2,
       "version_minor": 0
      },
      "text/plain": [
       "HBox(children=(FloatProgress(value=0.0, max=72.0), HTML(value='')))"
      ]
     },
     "metadata": {},
     "output_type": "display_data"
    },
    {
     "name": "stdout",
     "output_type": "stream",
     "text": [
      "\n"
     ]
    },
    {
     "data": {
      "application/vnd.jupyter.widget-view+json": {
       "model_id": "e1db155547e048e3ba8b1c9e97a5c639",
       "version_major": 2,
       "version_minor": 0
      },
      "text/plain": [
       "HBox(children=(FloatProgress(value=0.0, max=72.0), HTML(value='')))"
      ]
     },
     "metadata": {},
     "output_type": "display_data"
    },
    {
     "name": "stdout",
     "output_type": "stream",
     "text": [
      "\n",
      "Epoch: 8 end\n",
      "train_loss: 0.39867458826215535, train_score: 0.7720670242341354\n",
      "val_loss: 0.5773319854504533, val_score: 0.3083408071748879\n",
      "test_loss: 0.5666215470992029, test_score: 0.3049729828738896\n",
      "Epoch: 9 start\n"
     ]
    },
    {
     "data": {
      "application/vnd.jupyter.widget-view+json": {
       "model_id": "0b15ba09737043838f20907b178f18b8",
       "version_major": 2,
       "version_minor": 0
      },
      "text/plain": [
       "HBox(children=(FloatProgress(value=0.0, max=2101.0), HTML(value='')))"
      ]
     },
     "metadata": {},
     "output_type": "display_data"
    },
    {
     "name": "stdout",
     "output_type": "stream",
     "text": [
      "Iter: 0, loss: 0.8605655431747437, score: 0.6666666666666666\n",
      "Iter: 100, loss: 0.365870863199234, score: 0.8389261744966442\n",
      "Iter: 200, loss: 0.4491734802722931, score: 0.8845070422535212\n",
      "Iter: 300, loss: 0.29817724227905273, score: 0.8853503184713376\n",
      "Iter: 400, loss: 0.35692963004112244, score: 0.8939828080229225\n",
      "Iter: 500, loss: 0.37273210287094116, score: 0.8095238095238096\n",
      "Iter: 600, loss: 0.23704220354557037, score: 0.8226950354609929\n",
      "Iter: 700, loss: 0.2809879183769226, score: 0.816326530612245\n",
      "Iter: 800, loss: 0.3996696174144745, score: 0.6814814814814815\n",
      "Iter: 900, loss: 0.33934149146080017, score: 0.8633879781420765\n",
      "Iter: 1000, loss: 0.2575840353965759, score: 0.8057553956834532\n",
      "Iter: 1100, loss: 0.3073381185531616, score: 0.786206896551724\n",
      "Iter: 1200, loss: 0.2575494647026062, score: 0.7787610619469026\n",
      "Iter: 1300, loss: 0.2726355791091919, score: 0.8120300751879699\n",
      "Iter: 1400, loss: 0.28451359272003174, score: 0.8970588235294118\n",
      "Iter: 1500, loss: 0.4082825779914856, score: 0.6746987951807228\n",
      "Iter: 1600, loss: 0.4165782332420349, score: 0.7007299270072993\n",
      "Iter: 1700, loss: 0.3831450939178467, score: 0.7124999999999999\n",
      "Iter: 1800, loss: 0.38230517506599426, score: 0.6746987951807228\n",
      "Iter: 1900, loss: 0.5606639385223389, score: 0.6632653061224489\n",
      "Iter: 2000, loss: 0.543542742729187, score: 0.5775401069518716\n",
      "Iter: 2100, loss: 0.31967389583587646, score: 0.8275862068965516\n",
      "\n"
     ]
    },
    {
     "data": {
      "application/vnd.jupyter.widget-view+json": {
       "model_id": "ac601a3119ee4e9f8df0dd0038a3ede1",
       "version_major": 2,
       "version_minor": 0
      },
      "text/plain": [
       "HBox(children=(FloatProgress(value=0.0, max=72.0), HTML(value='')))"
      ]
     },
     "metadata": {},
     "output_type": "display_data"
    },
    {
     "name": "stdout",
     "output_type": "stream",
     "text": [
      "\n"
     ]
    },
    {
     "data": {
      "application/vnd.jupyter.widget-view+json": {
       "model_id": "9cd9c0ea1eb94664a22e61df28297ae4",
       "version_major": 2,
       "version_minor": 0
      },
      "text/plain": [
       "HBox(children=(FloatProgress(value=0.0, max=72.0), HTML(value='')))"
      ]
     },
     "metadata": {},
     "output_type": "display_data"
    },
    {
     "name": "stdout",
     "output_type": "stream",
     "text": [
      "\n",
      "Epoch: 9 end\n",
      "train_loss: 0.37937290260106366, train_score: 0.782267913587073\n",
      "val_loss: 0.5491400315529771, val_score: 0.3236810045918845\n",
      "test_loss: 0.5418010670174327, test_score: 0.31733687405159333\n",
      "Epoch: 10 start\n"
     ]
    },
    {
     "data": {
      "application/vnd.jupyter.widget-view+json": {
       "model_id": "0dec9e6f4e3d4dc89348a8e9da4a5691",
       "version_major": 2,
       "version_minor": 0
      },
      "text/plain": [
       "HBox(children=(FloatProgress(value=0.0, max=2101.0), HTML(value='')))"
      ]
     },
     "metadata": {},
     "output_type": "display_data"
    },
    {
     "name": "stdout",
     "output_type": "stream",
     "text": [
      "Iter: 0, loss: 0.8063969016075134, score: 0.6896551724137931\n",
      "Iter: 100, loss: 0.3422220051288605, score: 0.8389261744966442\n",
      "Iter: 200, loss: 0.394351065158844, score: 0.8882521489971346\n",
      "Iter: 300, loss: 0.26041868329048157, score: 0.8874598070739549\n",
      "Iter: 400, loss: 0.37766948342323303, score: 0.9064327485380117\n",
      "Iter: 500, loss: 0.5040589570999146, score: 0.7816091954022988\n",
      "Iter: 600, loss: 0.22560712695121765, score: 0.8450704225352113\n",
      "Iter: 700, loss: 0.2748790979385376, score: 0.8299319727891157\n",
      "Iter: 800, loss: 0.4072433114051819, score: 0.7111111111111111\n",
      "Iter: 900, loss: 0.32633107900619507, score: 0.9050279329608938\n",
      "Iter: 1000, loss: 0.2635241150856018, score: 0.7755102040816326\n",
      "Iter: 1100, loss: 0.29697084426879883, score: 0.8285714285714285\n",
      "Iter: 1200, loss: 0.2687600255012512, score: 0.8073394495412843\n",
      "Iter: 1300, loss: 0.2780207693576813, score: 0.7638888888888888\n",
      "Iter: 1400, loss: 0.2584698498249054, score: 0.8823529411764706\n",
      "Iter: 1500, loss: 0.3677710294723511, score: 0.7044025157232705\n",
      "Iter: 1600, loss: 0.39569559693336487, score: 0.6762589928057554\n",
      "Iter: 1700, loss: 0.3582388460636139, score: 0.7239263803680981\n",
      "Iter: 1800, loss: 0.3913288414478302, score: 0.6506024096385541\n",
      "Iter: 1900, loss: 0.5153219103813171, score: 0.7000000000000001\n",
      "Iter: 2000, loss: 0.5020590424537659, score: 0.6170212765957447\n",
      "Iter: 2100, loss: 0.3015023469924927, score: 0.8\n",
      "\n"
     ]
    },
    {
     "data": {
      "application/vnd.jupyter.widget-view+json": {
       "model_id": "40675bb6ffa14c11b7fcd9f72181ac4f",
       "version_major": 2,
       "version_minor": 0
      },
      "text/plain": [
       "HBox(children=(FloatProgress(value=0.0, max=72.0), HTML(value='')))"
      ]
     },
     "metadata": {},
     "output_type": "display_data"
    },
    {
     "name": "stdout",
     "output_type": "stream",
     "text": [
      "\n"
     ]
    },
    {
     "data": {
      "application/vnd.jupyter.widget-view+json": {
       "model_id": "0bb3ba5f54ac4e83887193ef33567c63",
       "version_major": 2,
       "version_minor": 0
      },
      "text/plain": [
       "HBox(children=(FloatProgress(value=0.0, max=72.0), HTML(value='')))"
      ]
     },
     "metadata": {},
     "output_type": "display_data"
    },
    {
     "name": "stdout",
     "output_type": "stream",
     "text": [
      "\n",
      "Epoch: 10 end\n",
      "train_loss: 0.3619618161002095, train_score: 0.791872627396885\n",
      "val_loss: 0.47604312126835185, val_score: 0.36208170590098177\n",
      "test_loss: 0.47065344385595786, test_score: 0.35502707293767916\n",
      "Epoch: 11 start\n"
     ]
    },
    {
     "data": {
      "application/vnd.jupyter.widget-view+json": {
       "model_id": "7d19ff02ae5c49d1bef77c67069e4c9e",
       "version_major": 2,
       "version_minor": 0
      },
      "text/plain": [
       "HBox(children=(FloatProgress(value=0.0, max=2101.0), HTML(value='')))"
      ]
     },
     "metadata": {},
     "output_type": "display_data"
    },
    {
     "name": "stdout",
     "output_type": "stream",
     "text": [
      "Iter: 0, loss: 0.7734851837158203, score: 0.7212276214833758\n",
      "Iter: 100, loss: 0.29164862632751465, score: 0.8581081081081081\n",
      "Iter: 200, loss: 0.41268080472946167, score: 0.8932584269662921\n",
      "Iter: 300, loss: 0.2940531373023987, score: 0.8938906752411575\n",
      "Iter: 400, loss: 0.3129277527332306, score: 0.912280701754386\n",
      "Iter: 500, loss: 0.38633930683135986, score: 0.7701149425287357\n",
      "Iter: 600, loss: 0.18633201718330383, score: 0.9027777777777779\n",
      "Iter: 700, loss: 0.27088192105293274, score: 0.8356164383561644\n",
      "Iter: 800, loss: 0.3787081837654114, score: 0.7313432835820896\n",
      "Iter: 900, loss: 0.33553457260131836, score: 0.8913043478260869\n",
      "Iter: 1000, loss: 0.23751994967460632, score: 0.8115942028985507\n",
      "Iter: 1100, loss: 0.3148685693740845, score: 0.8428571428571429\n",
      "Iter: 1200, loss: 0.25200581550598145, score: 0.7758620689655172\n",
      "Iter: 1300, loss: 0.2877678871154785, score: 0.7605633802816902\n",
      "Iter: 1400, loss: 0.28913748264312744, score: 0.8550724637681161\n",
      "Iter: 1500, loss: 0.3618839979171753, score: 0.7169811320754716\n",
      "Iter: 1600, loss: 0.36723726987838745, score: 0.7299270072992702\n",
      "Iter: 1700, loss: 0.3082893490791321, score: 0.7636363636363637\n",
      "Iter: 1800, loss: 0.3767709732055664, score: 0.6835443037974683\n",
      "Iter: 1900, loss: 0.5229793190956116, score: 0.6878306878306879\n",
      "Iter: 2000, loss: 0.4853394627571106, score: 0.6629213483146068\n",
      "Iter: 2100, loss: 0.22160102427005768, score: 0.8764044943820225\n",
      "\n"
     ]
    },
    {
     "data": {
      "application/vnd.jupyter.widget-view+json": {
       "model_id": "5a4eb5c275174a50a49439ccc04d1dc5",
       "version_major": 2,
       "version_minor": 0
      },
      "text/plain": [
       "HBox(children=(FloatProgress(value=0.0, max=72.0), HTML(value='')))"
      ]
     },
     "metadata": {},
     "output_type": "display_data"
    },
    {
     "name": "stdout",
     "output_type": "stream",
     "text": [
      "\n"
     ]
    },
    {
     "data": {
      "application/vnd.jupyter.widget-view+json": {
       "model_id": "7914cecc91d94b0cabb2a60516c8d46c",
       "version_major": 2,
       "version_minor": 0
      },
      "text/plain": [
       "HBox(children=(FloatProgress(value=0.0, max=72.0), HTML(value='')))"
      ]
     },
     "metadata": {},
     "output_type": "display_data"
    },
    {
     "name": "stdout",
     "output_type": "stream",
     "text": [
      "\n",
      "Epoch: 11 end\n",
      "train_loss: 0.3464467878294297, train_score: 0.8010156727672848\n",
      "val_loss: 0.4504994460278087, val_score: 0.37293941340184117\n",
      "test_loss: 0.4460846370913916, test_score: 0.36551424222657103\n",
      "Epoch: 12 start\n"
     ]
    },
    {
     "data": {
      "application/vnd.jupyter.widget-view+json": {
       "model_id": "6d622b08c91f4cb8ae7f615bfbbe44d1",
       "version_major": 2,
       "version_minor": 0
      },
      "text/plain": [
       "HBox(children=(FloatProgress(value=0.0, max=2101.0), HTML(value='')))"
      ]
     },
     "metadata": {},
     "output_type": "display_data"
    },
    {
     "name": "stdout",
     "output_type": "stream",
     "text": [
      "Iter: 0, loss: 0.6734198927879333, score: 0.7493403693931399\n",
      "Iter: 100, loss: 0.324478417634964, score: 0.8503401360544217\n",
      "Iter: 200, loss: 0.40346595644950867, score: 0.9011627906976745\n",
      "Iter: 300, loss: 0.24278044700622559, score: 0.8996763754045307\n",
      "Iter: 400, loss: 0.31693464517593384, score: 0.9181286549707603\n",
      "Iter: 500, loss: 0.45088690519332886, score: 0.7857142857142857\n",
      "Iter: 600, loss: 0.20979586243629456, score: 0.8472222222222222\n",
      "Iter: 700, loss: 0.2659432291984558, score: 0.8551724137931035\n",
      "Iter: 800, loss: 0.39117130637168884, score: 0.7407407407407408\n",
      "Iter: 900, loss: 0.31819701194763184, score: 0.8863636363636365\n",
      "Iter: 1000, loss: 0.20738676190376282, score: 0.826086956521739\n",
      "Iter: 1100, loss: 0.3000291585922241, score: 0.8309859154929577\n",
      "Iter: 1200, loss: 0.2235182523727417, score: 0.8073394495412843\n",
      "Iter: 1300, loss: 0.22230525314807892, score: 0.8270676691729323\n",
      "Iter: 1400, loss: 0.2822619676589966, score: 0.8676470588235295\n",
      "Iter: 1500, loss: 0.3186243176460266, score: 0.7402597402597403\n",
      "Iter: 1600, loss: 0.3260596692562103, score: 0.7681159420289855\n",
      "Iter: 1700, loss: 0.31508639454841614, score: 0.7453416149068324\n",
      "Iter: 1800, loss: 0.39474284648895264, score: 0.650887573964497\n",
      "Iter: 1900, loss: 0.4320313334465027, score: 0.7272727272727272\n",
      "Iter: 2000, loss: 0.4545416831970215, score: 0.6187845303867403\n",
      "Iter: 2100, loss: 0.21848513185977936, score: 0.8705882352941177\n",
      "\n"
     ]
    },
    {
     "data": {
      "application/vnd.jupyter.widget-view+json": {
       "model_id": "b0312adeab9f432588dec0112c202293",
       "version_major": 2,
       "version_minor": 0
      },
      "text/plain": [
       "HBox(children=(FloatProgress(value=0.0, max=72.0), HTML(value='')))"
      ]
     },
     "metadata": {},
     "output_type": "display_data"
    },
    {
     "name": "stdout",
     "output_type": "stream",
     "text": [
      "\n"
     ]
    },
    {
     "data": {
      "application/vnd.jupyter.widget-view+json": {
       "model_id": "445ddee01b164a908ab7ec9e03d56b67",
       "version_major": 2,
       "version_minor": 0
      },
      "text/plain": [
       "HBox(children=(FloatProgress(value=0.0, max=72.0), HTML(value='')))"
      ]
     },
     "metadata": {},
     "output_type": "display_data"
    },
    {
     "name": "stdout",
     "output_type": "stream",
     "text": [
      "\n",
      "Epoch: 12 end\n",
      "train_loss: 0.3308272926382426, train_score: 0.8083315761190742\n",
      "val_loss: 0.44994563195440507, val_score: 0.37732564465237733\n",
      "test_loss: 0.44872268400568927, test_score: 0.3680806752164858\n",
      "Epoch: 13 start\n"
     ]
    },
    {
     "data": {
      "application/vnd.jupyter.widget-view+json": {
       "model_id": "aa45bf99703a488ba7612f0bbaa21790",
       "version_major": 2,
       "version_minor": 0
      },
      "text/plain": [
       "HBox(children=(FloatProgress(value=0.0, max=2101.0), HTML(value='')))"
      ]
     },
     "metadata": {},
     "output_type": "display_data"
    },
    {
     "name": "stdout",
     "output_type": "stream",
     "text": [
      "Iter: 0, loss: 0.5875626802444458, score: 0.7486910994764399\n",
      "Iter: 100, loss: 0.2921677827835083, score: 0.8719723183391004\n",
      "Iter: 200, loss: 0.34272560477256775, score: 0.9137931034482758\n",
      "Iter: 300, loss: 0.2408088892698288, score: 0.8938906752411575\n",
      "Iter: 400, loss: 0.30360865592956543, score: 0.8820224719101123\n",
      "Iter: 500, loss: 0.40559548139572144, score: 0.8242424242424242\n",
      "Iter: 600, loss: 0.17474365234375, score: 0.8811188811188811\n",
      "Iter: 700, loss: 0.22802144289016724, score: 0.8630136986301371\n",
      "Iter: 800, loss: 0.39108890295028687, score: 0.7518796992481204\n",
      "Iter: 900, loss: 0.3205074667930603, score: 0.8729281767955801\n",
      "Iter: 1000, loss: 0.21520249545574188, score: 0.8057553956834532\n",
      "Iter: 1100, loss: 0.3050733506679535, score: 0.8467153284671534\n",
      "Iter: 1200, loss: 0.2288316786289215, score: 0.8181818181818182\n",
      "Iter: 1300, loss: 0.21721947193145752, score: 0.7972027972027973\n",
      "Iter: 1400, loss: 0.24310483038425446, score: 0.8857142857142857\n",
      "Iter: 1500, loss: 0.30958324670791626, score: 0.778523489932886\n",
      "Iter: 1600, loss: 0.3480873703956604, score: 0.7352941176470589\n",
      "Iter: 1700, loss: 0.3491055369377136, score: 0.7662337662337664\n",
      "Iter: 1800, loss: 0.35522738099098206, score: 0.7096774193548386\n",
      "Iter: 1900, loss: 0.38822412490844727, score: 0.7604166666666666\n",
      "Iter: 2000, loss: 0.42491215467453003, score: 0.6595744680851064\n",
      "Iter: 2100, loss: 0.12527920305728912, score: 0.975609756097561\n",
      "\n"
     ]
    },
    {
     "data": {
      "application/vnd.jupyter.widget-view+json": {
       "model_id": "05694f34c1cb4b9db308d6dfcc56dd7b",
       "version_major": 2,
       "version_minor": 0
      },
      "text/plain": [
       "HBox(children=(FloatProgress(value=0.0, max=72.0), HTML(value='')))"
      ]
     },
     "metadata": {},
     "output_type": "display_data"
    },
    {
     "name": "stdout",
     "output_type": "stream",
     "text": [
      "\n"
     ]
    },
    {
     "data": {
      "application/vnd.jupyter.widget-view+json": {
       "model_id": "e5078a5f18674ec7adb5164a0e7e0462",
       "version_major": 2,
       "version_minor": 0
      },
      "text/plain": [
       "HBox(children=(FloatProgress(value=0.0, max=72.0), HTML(value='')))"
      ]
     },
     "metadata": {},
     "output_type": "display_data"
    },
    {
     "name": "stdout",
     "output_type": "stream",
     "text": [
      "\n",
      "Epoch: 13 end\n",
      "train_loss: 0.3172500847365844, train_score: 0.8154673421100477\n",
      "val_loss: 0.3834644688500298, val_score: 0.43081169238489525\n",
      "test_loss: 0.38363095152372906, test_score: 0.41566566566566565\n",
      "Epoch: 14 start\n"
     ]
    },
    {
     "data": {
      "application/vnd.jupyter.widget-view+json": {
       "model_id": "acc27ad5a9a4407cbbbd4064f0227412",
       "version_major": 2,
       "version_minor": 0
      },
      "text/plain": [
       "HBox(children=(FloatProgress(value=0.0, max=2101.0), HTML(value='')))"
      ]
     },
     "metadata": {},
     "output_type": "display_data"
    },
    {
     "name": "stdout",
     "output_type": "stream",
     "text": [
      "Iter: 0, loss: 0.5491832494735718, score: 0.7717391304347827\n",
      "Iter: 100, loss: 0.30320149660110474, score: 0.878048780487805\n",
      "Iter: 200, loss: 0.33749353885650635, score: 0.9132947976878613\n",
      "Iter: 300, loss: 0.2048034518957138, score: 0.9061488673139159\n",
      "Iter: 400, loss: 0.33722490072250366, score: 0.9096209912536444\n",
      "Iter: 500, loss: 0.35917696356773376, score: 0.8313253012048193\n",
      "Iter: 600, loss: 0.16834239661693573, score: 0.8873239436619718\n",
      "Iter: 700, loss: 0.26038509607315063, score: 0.8472222222222222\n",
      "Iter: 800, loss: 0.37066927552223206, score: 0.7596899224806202\n",
      "Iter: 900, loss: 0.2948780655860901, score: 0.8817204301075268\n",
      "Iter: 1000, loss: 0.17412619292736053, score: 0.8345323741007193\n",
      "Iter: 1100, loss: 0.31622621417045593, score: 0.8613138686131386\n",
      "Iter: 1200, loss: 0.20520144701004028, score: 0.8431372549019608\n",
      "Iter: 1300, loss: 0.2301543802022934, score: 0.7702702702702702\n",
      "Iter: 1400, loss: 0.25317350029945374, score: 0.8920863309352519\n",
      "Iter: 1500, loss: 0.2731322944164276, score: 0.7919463087248322\n",
      "Iter: 1600, loss: 0.3271423578262329, score: 0.7555555555555556\n",
      "Iter: 1700, loss: 0.3006056249141693, score: 0.7664670658682635\n",
      "Iter: 1800, loss: 0.3048771023750305, score: 0.6956521739130436\n",
      "Iter: 1900, loss: 0.38114988803863525, score: 0.7978142076502732\n",
      "Iter: 2000, loss: 0.410129189491272, score: 0.67816091954023\n",
      "Iter: 2100, loss: 0.13046826422214508, score: 0.9523809523809523\n",
      "\n"
     ]
    },
    {
     "data": {
      "application/vnd.jupyter.widget-view+json": {
       "model_id": "7ccf1339fbc44046bdb47f76e4501002",
       "version_major": 2,
       "version_minor": 0
      },
      "text/plain": [
       "HBox(children=(FloatProgress(value=0.0, max=72.0), HTML(value='')))"
      ]
     },
     "metadata": {},
     "output_type": "display_data"
    },
    {
     "name": "stdout",
     "output_type": "stream",
     "text": [
      "\n"
     ]
    },
    {
     "data": {
      "application/vnd.jupyter.widget-view+json": {
       "model_id": "feb5851adf00478eb65458f841b44226",
       "version_major": 2,
       "version_minor": 0
      },
      "text/plain": [
       "HBox(children=(FloatProgress(value=0.0, max=72.0), HTML(value='')))"
      ]
     },
     "metadata": {},
     "output_type": "display_data"
    },
    {
     "name": "stdout",
     "output_type": "stream",
     "text": [
      "\n",
      "Epoch: 14 end\n",
      "train_loss: 0.3042313133972364, train_score: 0.8223759682174864\n",
      "val_loss: 0.3453352376818657, val_score: 0.46087309095823764\n",
      "test_loss: 0.34303796691690674, test_score: 0.44480344641895525\n",
      "Epoch: 15 start\n"
     ]
    },
    {
     "data": {
      "application/vnd.jupyter.widget-view+json": {
       "model_id": "97e4c3cdba5e4dfca41aa6b454b101a6",
       "version_major": 2,
       "version_minor": 0
      },
      "text/plain": [
       "HBox(children=(FloatProgress(value=0.0, max=2101.0), HTML(value='')))"
      ]
     },
     "metadata": {},
     "output_type": "display_data"
    },
    {
     "name": "stdout",
     "output_type": "stream",
     "text": [
      "Iter: 0, loss: 0.491691529750824, score: 0.8000000000000002\n",
      "Iter: 100, loss: 0.25666680932044983, score: 0.872852233676976\n",
      "Iter: 200, loss: 0.29628121852874756, score: 0.9137931034482758\n",
      "Iter: 300, loss: 0.2137536108493805, score: 0.9019607843137255\n",
      "Iter: 400, loss: 0.31340253353118896, score: 0.9080459770114943\n",
      "Iter: 500, loss: 0.39726173877716064, score: 0.8395061728395061\n",
      "Iter: 600, loss: 0.17297202348709106, score: 0.8571428571428571\n",
      "Iter: 700, loss: 0.24812623858451843, score: 0.8181818181818181\n",
      "Iter: 800, loss: 0.36953234672546387, score: 0.7851851851851853\n",
      "Iter: 900, loss: 0.3161976933479309, score: 0.9050279329608938\n",
      "Iter: 1000, loss: 0.18242549896240234, score: 0.8467153284671532\n",
      "Iter: 1100, loss: 0.29170531034469604, score: 0.8251748251748252\n",
      "Iter: 1200, loss: 0.17372116446495056, score: 0.8256880733944953\n",
      "Iter: 1300, loss: 0.19786281883716583, score: 0.7913669064748202\n",
      "Iter: 1400, loss: 0.23498785495758057, score: 0.8905109489051095\n",
      "Iter: 1500, loss: 0.3165771961212158, score: 0.7631578947368421\n",
      "Iter: 1600, loss: 0.2869217097759247, score: 0.7910447761194029\n",
      "Iter: 1700, loss: 0.32117635011672974, score: 0.7612903225806451\n",
      "Iter: 1800, loss: 0.2940632700920105, score: 0.7152317880794702\n",
      "Iter: 1900, loss: 0.3439411222934723, score: 0.7934782608695652\n",
      "Iter: 2000, loss: 0.3345696032047272, score: 0.7078651685393258\n",
      "Iter: 2100, loss: 0.08408913016319275, score: 0.9876543209876543\n",
      "\n"
     ]
    },
    {
     "data": {
      "application/vnd.jupyter.widget-view+json": {
       "model_id": "85a4faf0501248cba5d97db41712fba5",
       "version_major": 2,
       "version_minor": 0
      },
      "text/plain": [
       "HBox(children=(FloatProgress(value=0.0, max=72.0), HTML(value='')))"
      ]
     },
     "metadata": {},
     "output_type": "display_data"
    },
    {
     "name": "stdout",
     "output_type": "stream",
     "text": [
      "\n"
     ]
    },
    {
     "data": {
      "application/vnd.jupyter.widget-view+json": {
       "model_id": "76ec7feb61ce453ba6805dbb35b526b6",
       "version_major": 2,
       "version_minor": 0
      },
      "text/plain": [
       "HBox(children=(FloatProgress(value=0.0, max=72.0), HTML(value='')))"
      ]
     },
     "metadata": {},
     "output_type": "display_data"
    },
    {
     "name": "stdout",
     "output_type": "stream",
     "text": [
      "\n",
      "Epoch: 15 end\n",
      "train_loss: 0.28965190672508484, train_score: 0.8303512934021066\n",
      "val_loss: 0.33010889279345673, val_score: 0.4764951321279555\n",
      "test_loss: 0.3285201595475276, test_score: 0.4644999302552657\n",
      "Epoch: 16 start\n"
     ]
    },
    {
     "data": {
      "application/vnd.jupyter.widget-view+json": {
       "model_id": "b385f18e896f4b91ac9bb64c8ad7090b",
       "version_major": 2,
       "version_minor": 0
      },
      "text/plain": [
       "HBox(children=(FloatProgress(value=0.0, max=2101.0), HTML(value='')))"
      ]
     },
     "metadata": {},
     "output_type": "display_data"
    },
    {
     "name": "stdout",
     "output_type": "stream",
     "text": [
      "Iter: 0, loss: 0.454249769449234, score: 0.8163265306122449\n",
      "Iter: 100, loss: 0.26118385791778564, score: 0.8967971530249111\n",
      "Iter: 200, loss: 0.3088246285915375, score: 0.9159420289855073\n",
      "Iter: 300, loss: 0.2127360850572586, score: 0.8996763754045307\n",
      "Iter: 400, loss: 0.31221240758895874, score: 0.9181286549707603\n",
      "Iter: 500, loss: 0.34377315640449524, score: 0.8242424242424242\n",
      "Iter: 600, loss: 0.15006066858768463, score: 0.9090909090909092\n",
      "Iter: 700, loss: 0.25895950198173523, score: 0.8299319727891157\n",
      "Iter: 800, loss: 0.35064253211021423, score: 0.7575757575757577\n",
      "Iter: 900, loss: 0.30097341537475586, score: 0.9039548022598869\n",
      "Iter: 1000, loss: 0.15068483352661133, score: 0.8285714285714285\n",
      "Iter: 1100, loss: 0.27618545293807983, score: 0.8251748251748252\n",
      "Iter: 1200, loss: 0.1945805549621582, score: 0.8380952380952381\n",
      "Iter: 1300, loss: 0.1685303896665573, score: 0.8507462686567164\n",
      "Iter: 1400, loss: 0.2428116649389267, score: 0.8689655172413794\n",
      "Iter: 1500, loss: 0.2532956898212433, score: 0.8026315789473685\n",
      "Iter: 1600, loss: 0.2846185564994812, score: 0.8064516129032259\n",
      "Iter: 1700, loss: 0.2846929728984833, score: 0.7875000000000001\n",
      "Iter: 1800, loss: 0.3412948250770569, score: 0.7225806451612903\n",
      "Iter: 1900, loss: 0.3136419355869293, score: 0.8111111111111111\n",
      "Iter: 2000, loss: 0.332794725894928, score: 0.7039106145251396\n",
      "Iter: 2100, loss: 0.08993824571371078, score: 0.975\n",
      "\n"
     ]
    },
    {
     "data": {
      "application/vnd.jupyter.widget-view+json": {
       "model_id": "db0d084ce1f4491a8d75122e0e7b6209",
       "version_major": 2,
       "version_minor": 0
      },
      "text/plain": [
       "HBox(children=(FloatProgress(value=0.0, max=72.0), HTML(value='')))"
      ]
     },
     "metadata": {},
     "output_type": "display_data"
    },
    {
     "name": "stdout",
     "output_type": "stream",
     "text": [
      "\n"
     ]
    },
    {
     "data": {
      "application/vnd.jupyter.widget-view+json": {
       "model_id": "2726741edff3481ca0638ed1d774991b",
       "version_major": 2,
       "version_minor": 0
      },
      "text/plain": [
       "HBox(children=(FloatProgress(value=0.0, max=72.0), HTML(value='')))"
      ]
     },
     "metadata": {},
     "output_type": "display_data"
    },
    {
     "name": "stdout",
     "output_type": "stream",
     "text": [
      "\n",
      "Epoch: 16 end\n",
      "train_loss: 0.2773935718125868, train_score: 0.8356716405796678\n",
      "val_loss: 0.3217055013196336, val_score: 0.48748577929465303\n",
      "test_loss: 0.32210119262001374, test_score: 0.4734728993404073\n",
      "Epoch: 17 start\n"
     ]
    },
    {
     "data": {
      "application/vnd.jupyter.widget-view+json": {
       "model_id": "9e7e4360984448658718024adf1a1a5c",
       "version_major": 2,
       "version_minor": 0
      },
      "text/plain": [
       "HBox(children=(FloatProgress(value=0.0, max=2101.0), HTML(value='')))"
      ]
     },
     "metadata": {},
     "output_type": "display_data"
    },
    {
     "name": "stdout",
     "output_type": "stream",
     "text": [
      "Iter: 0, loss: 0.4208321273326874, score: 0.8114285714285714\n",
      "Iter: 100, loss: 0.242150217294693, score: 0.8698630136986302\n",
      "Iter: 200, loss: 0.3060216009616852, score: 0.9253731343283582\n",
      "Iter: 300, loss: 0.21936950087547302, score: 0.8742138364779874\n",
      "Iter: 400, loss: 0.3144559860229492, score: 0.8991354466858789\n",
      "Iter: 500, loss: 0.2971845269203186, score: 0.8402366863905326\n",
      "Iter: 600, loss: 0.20245301723480225, score: 0.8811188811188811\n",
      "Iter: 700, loss: 0.24487841129302979, score: 0.8400000000000001\n",
      "Iter: 800, loss: 0.34219253063201904, score: 0.7692307692307692\n",
      "Iter: 900, loss: 0.29338982701301575, score: 0.9101123595505618\n",
      "Iter: 1000, loss: 0.12549379467964172, score: 0.9147286821705426\n",
      "Iter: 1100, loss: 0.27991002798080444, score: 0.8467153284671534\n",
      "Iter: 1200, loss: 0.1748923361301422, score: 0.8761904761904761\n",
      "Iter: 1300, loss: 0.1546289324760437, score: 0.8345323741007195\n",
      "Iter: 1400, loss: 0.17739051580429077, score: 0.8794326241134752\n",
      "Iter: 1500, loss: 0.2385934591293335, score: 0.8163265306122449\n",
      "Iter: 1600, loss: 0.27102434635162354, score: 0.7969924812030076\n",
      "Iter: 1700, loss: 0.2608779966831207, score: 0.7721518987341772\n",
      "Iter: 1800, loss: 0.27497756481170654, score: 0.7142857142857143\n",
      "Iter: 1900, loss: 0.29443350434303284, score: 0.8306010928961749\n",
      "Iter: 2000, loss: 0.3274737596511841, score: 0.7176470588235294\n",
      "Iter: 2100, loss: 0.09333236515522003, score: 0.951219512195122\n",
      "\n"
     ]
    },
    {
     "data": {
      "application/vnd.jupyter.widget-view+json": {
       "model_id": "79b5d05d7f40471ea79802ca1fc156ed",
       "version_major": 2,
       "version_minor": 0
      },
      "text/plain": [
       "HBox(children=(FloatProgress(value=0.0, max=72.0), HTML(value='')))"
      ]
     },
     "metadata": {},
     "output_type": "display_data"
    },
    {
     "name": "stdout",
     "output_type": "stream",
     "text": [
      "\n"
     ]
    },
    {
     "data": {
      "application/vnd.jupyter.widget-view+json": {
       "model_id": "47b64f059af048c2baab574b116412f1",
       "version_major": 2,
       "version_minor": 0
      },
      "text/plain": [
       "HBox(children=(FloatProgress(value=0.0, max=72.0), HTML(value='')))"
      ]
     },
     "metadata": {},
     "output_type": "display_data"
    },
    {
     "name": "stdout",
     "output_type": "stream",
     "text": [
      "\n",
      "Epoch: 17 end\n",
      "train_loss: 0.26329722651579673, train_score: 0.8416002465672843\n",
      "val_loss: 0.29737551179197097, val_score: 0.517503805175038\n",
      "test_loss: 0.29702590426637066, test_score: 0.5081714461917978\n",
      "Epoch: 18 start\n"
     ]
    },
    {
     "data": {
      "application/vnd.jupyter.widget-view+json": {
       "model_id": "a27e1e25ef5b4301a6221b31b82ce3b6",
       "version_major": 2,
       "version_minor": 0
      },
      "text/plain": [
       "HBox(children=(FloatProgress(value=0.0, max=2101.0), HTML(value='')))"
      ]
     },
     "metadata": {},
     "output_type": "display_data"
    },
    {
     "name": "stdout",
     "output_type": "stream",
     "text": [
      "Iter: 0, loss: 0.40682852268218994, score: 0.844311377245509\n",
      "Iter: 100, loss: 0.21182158589363098, score: 0.907142857142857\n",
      "Iter: 200, loss: 0.2734626233577728, score: 0.9154518950437318\n",
      "Iter: 300, loss: 0.21709497272968292, score: 0.9055374592833876\n",
      "Iter: 400, loss: 0.2716533839702606, score: 0.9137931034482759\n",
      "Iter: 500, loss: 0.37412184476852417, score: 0.8214285714285714\n",
      "Iter: 600, loss: 0.1531238853931427, score: 0.8873239436619718\n",
      "Iter: 700, loss: 0.2108146846294403, score: 0.870748299319728\n",
      "Iter: 800, loss: 0.301712304353714, score: 0.7878787878787877\n",
      "Iter: 900, loss: 0.3028297424316406, score: 0.888888888888889\n",
      "Iter: 1000, loss: 0.1396801620721817, score: 0.8823529411764706\n",
      "Iter: 1100, loss: 0.3102106750011444, score: 0.8592592592592593\n",
      "Iter: 1200, loss: 0.13857460021972656, score: 0.8703703703703703\n",
      "Iter: 1300, loss: 0.1726941168308258, score: 0.8309859154929577\n",
      "Iter: 1400, loss: 0.17636042833328247, score: 0.8873239436619718\n",
      "Iter: 1500, loss: 0.22641952335834503, score: 0.8356164383561645\n",
      "Iter: 1600, loss: 0.2453165352344513, score: 0.7910447761194029\n",
      "Iter: 1700, loss: 0.2554451823234558, score: 0.7975460122699386\n",
      "Iter: 1800, loss: 0.2761310935020447, score: 0.7346938775510204\n",
      "Iter: 1900, loss: 0.24697592854499817, score: 0.8216216216216216\n",
      "Iter: 2000, loss: 0.28555184602737427, score: 0.7374301675977655\n",
      "Iter: 2100, loss: 0.11375118792057037, score: 0.9285714285714285\n",
      "\n"
     ]
    },
    {
     "data": {
      "application/vnd.jupyter.widget-view+json": {
       "model_id": "17527fe0078d4fd0be8224d3bb642636",
       "version_major": 2,
       "version_minor": 0
      },
      "text/plain": [
       "HBox(children=(FloatProgress(value=0.0, max=72.0), HTML(value='')))"
      ]
     },
     "metadata": {},
     "output_type": "display_data"
    },
    {
     "name": "stdout",
     "output_type": "stream",
     "text": [
      "\n"
     ]
    },
    {
     "data": {
      "application/vnd.jupyter.widget-view+json": {
       "model_id": "85a668bf43cf4da590385a68858e6eda",
       "version_major": 2,
       "version_minor": 0
      },
      "text/plain": [
       "HBox(children=(FloatProgress(value=0.0, max=72.0), HTML(value='')))"
      ]
     },
     "metadata": {},
     "output_type": "display_data"
    },
    {
     "name": "stdout",
     "output_type": "stream",
     "text": [
      "\n",
      "Epoch: 18 end\n",
      "train_loss: 0.2510562375549587, train_score: 0.8470476715536102\n",
      "val_loss: 0.30099381506443024, val_score: 0.5240871432954894\n",
      "test_loss: 0.2957552066420451, test_score: 0.5171388323681326\n",
      "Epoch: 19 start\n"
     ]
    },
    {
     "data": {
      "application/vnd.jupyter.widget-view+json": {
       "model_id": "535207e40869443bb5c60a9a15bcec50",
       "version_major": 2,
       "version_minor": 0
      },
      "text/plain": [
       "HBox(children=(FloatProgress(value=0.0, max=2101.0), HTML(value='')))"
      ]
     },
     "metadata": {},
     "output_type": "display_data"
    },
    {
     "name": "stdout",
     "output_type": "stream",
     "text": [
      "Iter: 0, loss: 0.3878065347671509, score: 0.8392857142857142\n",
      "Iter: 100, loss: 0.23416882753372192, score: 0.8936170212765957\n",
      "Iter: 200, loss: 0.30050504207611084, score: 0.9321533923303835\n",
      "Iter: 300, loss: 0.19233667850494385, score: 0.8932038834951456\n",
      "Iter: 400, loss: 0.27404481172561646, score: 0.9271137026239067\n",
      "Iter: 500, loss: 0.37853118777275085, score: 0.8263473053892216\n",
      "Iter: 600, loss: 0.1594163477420807, score: 0.8767123287671232\n",
      "Iter: 700, loss: 0.19283024966716766, score: 0.8843537414965987\n",
      "Iter: 800, loss: 0.32942405343055725, score: 0.762589928057554\n",
      "Iter: 900, loss: 0.27715402841567993, score: 0.907103825136612\n",
      "Iter: 1000, loss: 0.14078715443611145, score: 0.8656716417910448\n",
      "Iter: 1100, loss: 0.21332933008670807, score: 0.9022556390977443\n",
      "Iter: 1200, loss: 0.14252042770385742, score: 0.8648648648648649\n",
      "Iter: 1300, loss: 0.15777641534805298, score: 0.835820895522388\n",
      "Iter: 1400, loss: 0.23525089025497437, score: 0.9264705882352942\n",
      "Iter: 1500, loss: 0.23843365907669067, score: 0.8137931034482758\n",
      "Iter: 1600, loss: 0.20658570528030396, score: 0.7737226277372262\n",
      "Iter: 1700, loss: 0.219112366437912, score: 0.8198757763975156\n",
      "Iter: 1800, loss: 0.22781237959861755, score: 0.7619047619047619\n",
      "Iter: 1900, loss: 0.2705826163291931, score: 0.8351648351648352\n",
      "Iter: 2000, loss: 0.27780085802078247, score: 0.7204301075268816\n",
      "Iter: 2100, loss: 0.054295383393764496, score: 0.975609756097561\n",
      "\n"
     ]
    },
    {
     "data": {
      "application/vnd.jupyter.widget-view+json": {
       "model_id": "79effff86b1e4384949566e227b88e2a",
       "version_major": 2,
       "version_minor": 0
      },
      "text/plain": [
       "HBox(children=(FloatProgress(value=0.0, max=72.0), HTML(value='')))"
      ]
     },
     "metadata": {},
     "output_type": "display_data"
    },
    {
     "name": "stdout",
     "output_type": "stream",
     "text": [
      "\n"
     ]
    },
    {
     "data": {
      "application/vnd.jupyter.widget-view+json": {
       "model_id": "c43856aa86a64c6985b97d102e7b18bb",
       "version_major": 2,
       "version_minor": 0
      },
      "text/plain": [
       "HBox(children=(FloatProgress(value=0.0, max=72.0), HTML(value='')))"
      ]
     },
     "metadata": {},
     "output_type": "display_data"
    },
    {
     "name": "stdout",
     "output_type": "stream",
     "text": [
      "\n",
      "Epoch: 19 end\n",
      "train_loss: 0.2377030524482391, train_score: 0.8537860406273605\n",
      "val_loss: 0.33082585740420556, val_score: 0.4916905444126074\n",
      "test_loss: 0.32882423388461274, test_score: 0.47900735824556334\n",
      "Epoch: 20 start\n"
     ]
    },
    {
     "data": {
      "application/vnd.jupyter.widget-view+json": {
       "model_id": "5388769495f242e98fd6be3a396dc0b9",
       "version_major": 2,
       "version_minor": 0
      },
      "text/plain": [
       "HBox(children=(FloatProgress(value=0.0, max=2101.0), HTML(value='')))"
      ]
     },
     "metadata": {},
     "output_type": "display_data"
    },
    {
     "name": "stdout",
     "output_type": "stream",
     "text": [
      "Iter: 0, loss: 0.3675968647003174, score: 0.8554216867469879\n",
      "Iter: 100, loss: 0.20624378323554993, score: 0.907142857142857\n",
      "Iter: 200, loss: 0.28442442417144775, score: 0.907514450867052\n",
      "Iter: 300, loss: 0.16095300018787384, score: 0.9266666666666667\n",
      "Iter: 400, loss: 0.270602822303772, score: 0.9101449275362319\n",
      "Iter: 500, loss: 0.26749148964881897, score: 0.8695652173913043\n",
      "Iter: 600, loss: 0.12680423259735107, score: 0.9078014184397162\n",
      "Iter: 700, loss: 0.2011495977640152, score: 0.8513513513513513\n",
      "Iter: 800, loss: 0.293226420879364, score: 0.8253968253968254\n",
      "Iter: 900, loss: 0.22172406315803528, score: 0.9130434782608695\n",
      "Iter: 1000, loss: 0.14109694957733154, score: 0.8405797101449276\n",
      "Iter: 1100, loss: 0.2204573005437851, score: 0.8714285714285714\n",
      "Iter: 1200, loss: 0.16039800643920898, score: 0.8495575221238937\n",
      "Iter: 1300, loss: 0.13313141465187073, score: 0.900763358778626\n",
      "Iter: 1400, loss: 0.19995370507240295, score: 0.9117647058823529\n",
      "Iter: 1500, loss: 0.16907072067260742, score: 0.8243243243243243\n",
      "Iter: 1600, loss: 0.2029077112674713, score: 0.8244274809160305\n",
      "Iter: 1700, loss: 0.2379869520664215, score: 0.8280254777070064\n",
      "Iter: 1800, loss: 0.22488318383693695, score: 0.738255033557047\n",
      "Iter: 1900, loss: 0.1932562291622162, score: 0.8555555555555555\n",
      "Iter: 2000, loss: 0.22949326038360596, score: 0.7555555555555556\n",
      "Iter: 2100, loss: 0.06699010729789734, score: 0.963855421686747\n",
      "\n"
     ]
    },
    {
     "data": {
      "application/vnd.jupyter.widget-view+json": {
       "model_id": "8eb1533646234c9ba05e2441fd5612b3",
       "version_major": 2,
       "version_minor": 0
      },
      "text/plain": [
       "HBox(children=(FloatProgress(value=0.0, max=72.0), HTML(value='')))"
      ]
     },
     "metadata": {},
     "output_type": "display_data"
    },
    {
     "name": "stdout",
     "output_type": "stream",
     "text": [
      "\n"
     ]
    },
    {
     "data": {
      "application/vnd.jupyter.widget-view+json": {
       "model_id": "e55a6d4d59034dd5b580180b8b8f0e4b",
       "version_major": 2,
       "version_minor": 0
      },
      "text/plain": [
       "HBox(children=(FloatProgress(value=0.0, max=72.0), HTML(value='')))"
      ]
     },
     "metadata": {},
     "output_type": "display_data"
    },
    {
     "name": "stdout",
     "output_type": "stream",
     "text": [
      "\n",
      "Epoch: 20 end\n",
      "train_loss: 0.2260889366893244, train_score: 0.8595406495441118\n",
      "val_loss: 0.33743387419316506, val_score: 0.4953783939919122\n",
      "test_loss: 0.3369887963086108, test_score: 0.48696925329428997\n",
      "Epoch: 21 start\n"
     ]
    },
    {
     "data": {
      "application/vnd.jupyter.widget-view+json": {
       "model_id": "6103a448e88149d3a72044c72092b8ae",
       "version_major": 2,
       "version_minor": 0
      },
      "text/plain": [
       "HBox(children=(FloatProgress(value=0.0, max=2101.0), HTML(value='')))"
      ]
     },
     "metadata": {},
     "output_type": "display_data"
    },
    {
     "name": "stdout",
     "output_type": "stream",
     "text": [
      "Iter: 0, loss: 0.3383634686470032, score: 0.8411764705882352\n",
      "Iter: 100, loss: 0.19897009432315826, score: 0.927007299270073\n",
      "Iter: 200, loss: 0.2714058458805084, score: 0.9302325581395348\n",
      "Iter: 300, loss: 0.16920936107635498, score: 0.909090909090909\n",
      "Iter: 400, loss: 0.2906830608844757, score: 0.9294117647058823\n",
      "Iter: 500, loss: 0.21667170524597168, score: 0.8606060606060606\n",
      "Iter: 600, loss: 0.1295580416917801, score: 0.9\n",
      "Iter: 700, loss: 0.1868181973695755, score: 0.8827586206896552\n",
      "Iter: 800, loss: 0.27900153398513794, score: 0.7936507936507938\n",
      "Iter: 900, loss: 0.17725829780101776, score: 0.9081081081081082\n",
      "Iter: 1000, loss: 0.11658833920955658, score: 0.8840579710144928\n",
      "Iter: 1100, loss: 0.20653264224529266, score: 0.8794326241134751\n",
      "Iter: 1200, loss: 0.12764094769954681, score: 0.888888888888889\n",
      "Iter: 1300, loss: 0.14614835381507874, score: 0.890625\n",
      "Iter: 1400, loss: 0.1418958604335785, score: 0.9130434782608696\n",
      "Iter: 1500, loss: 0.23497939109802246, score: 0.8472222222222222\n",
      "Iter: 1600, loss: 0.17263105511665344, score: 0.8217054263565892\n",
      "Iter: 1700, loss: 0.20471525192260742, score: 0.8176100628930818\n",
      "Iter: 1800, loss: 0.20932260155677795, score: 0.7887323943661971\n",
      "Iter: 1900, loss: 0.16466565430164337, score: 0.8735632183908046\n",
      "Iter: 2000, loss: 0.28126245737075806, score: 0.7975460122699386\n",
      "Iter: 2100, loss: 0.08439388871192932, score: 0.9195402298850576\n",
      "\n"
     ]
    },
    {
     "data": {
      "application/vnd.jupyter.widget-view+json": {
       "model_id": "56f7dfead70d432ab350233accf28ed0",
       "version_major": 2,
       "version_minor": 0
      },
      "text/plain": [
       "HBox(children=(FloatProgress(value=0.0, max=72.0), HTML(value='')))"
      ]
     },
     "metadata": {},
     "output_type": "display_data"
    },
    {
     "name": "stdout",
     "output_type": "stream",
     "text": [
      "\n"
     ]
    },
    {
     "data": {
      "application/vnd.jupyter.widget-view+json": {
       "model_id": "eb6f18ffe16840a498aa2284e3f5cfce",
       "version_major": 2,
       "version_minor": 0
      },
      "text/plain": [
       "HBox(children=(FloatProgress(value=0.0, max=72.0), HTML(value='')))"
      ]
     },
     "metadata": {},
     "output_type": "display_data"
    },
    {
     "name": "stdout",
     "output_type": "stream",
     "text": [
      "\n",
      "Epoch: 21 end\n",
      "train_loss: 0.2141143214108262, train_score: 0.8646580352307633\n",
      "val_loss: 0.29886642408867675, val_score: 0.541022781583559\n",
      "test_loss: 0.2958200201392174, test_score: 0.5336561743341405\n",
      "Epoch: 22 start\n"
     ]
    },
    {
     "data": {
      "application/vnd.jupyter.widget-view+json": {
       "model_id": "6a84d045c9b540dbac80d8530920b52a",
       "version_major": 2,
       "version_minor": 0
      },
      "text/plain": [
       "HBox(children=(FloatProgress(value=0.0, max=2101.0), HTML(value='')))"
      ]
     },
     "metadata": {},
     "output_type": "display_data"
    },
    {
     "name": "stdout",
     "output_type": "stream",
     "text": [
      "Iter: 0, loss: 0.3804336190223694, score: 0.8588957055214724\n",
      "Iter: 100, loss: 0.1728789061307907, score: 0.9007092198581561\n",
      "Iter: 200, loss: 0.2119191437959671, score: 0.9498525073746313\n",
      "Iter: 300, loss: 0.20575562119483948, score: 0.9084967320261437\n",
      "Iter: 400, loss: 0.32793867588043213, score: 0.9262536873156342\n",
      "Iter: 500, loss: 0.22072303295135498, score: 0.8674698795180723\n",
      "Iter: 600, loss: 0.13136684894561768, score: 0.888888888888889\n",
      "Iter: 700, loss: 0.1667192131280899, score: 0.8811188811188811\n",
      "Iter: 800, loss: 0.256722629070282, score: 0.8360655737704918\n",
      "Iter: 900, loss: 0.26422232389450073, score: 0.8999999999999999\n",
      "Iter: 1000, loss: 0.10887318849563599, score: 0.8633093525179857\n",
      "Iter: 1100, loss: 0.17613013088703156, score: 0.8936170212765958\n",
      "Iter: 1200, loss: 0.1402955949306488, score: 0.888888888888889\n",
      "Iter: 1300, loss: 0.12144958972930908, score: 0.8740740740740739\n",
      "Iter: 1400, loss: 0.152761772274971, score: 0.9185185185185185\n",
      "Iter: 1500, loss: 0.1554701328277588, score: 0.9014084507042254\n",
      "Iter: 1600, loss: 0.1801775097846985, score: 0.8346456692913385\n",
      "Iter: 1700, loss: 0.1802830696105957, score: 0.8516129032258065\n",
      "Iter: 1800, loss: 0.2216927409172058, score: 0.7832167832167831\n",
      "Iter: 1900, loss: 0.17411741614341736, score: 0.8953488372093023\n",
      "Iter: 2000, loss: 0.19960835576057434, score: 0.8441558441558441\n",
      "Iter: 2100, loss: 0.04472323879599571, score: 0.975609756097561\n",
      "\n"
     ]
    },
    {
     "data": {
      "application/vnd.jupyter.widget-view+json": {
       "model_id": "8fad61b572114edf8d7f7e0cd408ae13",
       "version_major": 2,
       "version_minor": 0
      },
      "text/plain": [
       "HBox(children=(FloatProgress(value=0.0, max=72.0), HTML(value='')))"
      ]
     },
     "metadata": {},
     "output_type": "display_data"
    },
    {
     "name": "stdout",
     "output_type": "stream",
     "text": [
      "\n"
     ]
    },
    {
     "data": {
      "application/vnd.jupyter.widget-view+json": {
       "model_id": "5622c0f6564c4e2e9f9b1096ac19b051",
       "version_major": 2,
       "version_minor": 0
      },
      "text/plain": [
       "HBox(children=(FloatProgress(value=0.0, max=72.0), HTML(value='')))"
      ]
     },
     "metadata": {},
     "output_type": "display_data"
    },
    {
     "name": "stdout",
     "output_type": "stream",
     "text": [
      "\n",
      "Epoch: 22 end\n",
      "train_loss: 0.20271666998177526, train_score: 0.8708817199744564\n",
      "val_loss: 0.2969579314813018, val_score: 0.5608412618928392\n",
      "test_loss: 0.29741548419138375, test_score: 0.5500423370025401\n",
      "Epoch: 23 start\n"
     ]
    },
    {
     "data": {
      "application/vnd.jupyter.widget-view+json": {
       "model_id": "e23097c4380646f7b6b9bd183b9c6596",
       "version_major": 2,
       "version_minor": 0
      },
      "text/plain": [
       "HBox(children=(FloatProgress(value=0.0, max=2101.0), HTML(value='')))"
      ]
     },
     "metadata": {},
     "output_type": "display_data"
    },
    {
     "name": "stdout",
     "output_type": "stream",
     "text": [
      "Iter: 0, loss: 0.33206096291542053, score: 0.8785046728971962\n",
      "Iter: 100, loss: 0.17803873121738434, score: 0.9084507042253521\n",
      "Iter: 200, loss: 0.2635785937309265, score: 0.9266862170087976\n",
      "Iter: 300, loss: 0.16570265591144562, score: 0.9169435215946844\n",
      "Iter: 400, loss: 0.24830922484397888, score: 0.9373134328358209\n",
      "Iter: 500, loss: 0.26131516695022583, score: 0.8780487804878049\n",
      "Iter: 600, loss: 0.10078423470258713, score: 0.921985815602837\n",
      "Iter: 700, loss: 0.14440448582172394, score: 0.8783783783783784\n",
      "Iter: 800, loss: 0.2775380313396454, score: 0.8360655737704918\n",
      "Iter: 900, loss: 0.23447096347808838, score: 0.9162011173184357\n",
      "Iter: 1000, loss: 0.1328427940607071, score: 0.8854961832061068\n",
      "Iter: 1100, loss: 0.15707388520240784, score: 0.8776978417266188\n",
      "Iter: 1200, loss: 0.11831396818161011, score: 0.8727272727272728\n",
      "Iter: 1300, loss: 0.11274981498718262, score: 0.893939393939394\n",
      "Iter: 1400, loss: 0.1539292335510254, score: 0.8985507246376812\n",
      "Iter: 1500, loss: 0.18034127354621887, score: 0.8531468531468532\n",
      "Iter: 1600, loss: 0.1810133159160614, score: 0.828125\n",
      "Iter: 1700, loss: 0.18706105649471283, score: 0.84\n",
      "Iter: 1800, loss: 0.21771609783172607, score: 0.7746478873239436\n",
      "Iter: 1900, loss: 0.13935697078704834, score: 0.8863636363636364\n",
      "Iter: 2000, loss: 0.19389474391937256, score: 0.8375\n",
      "Iter: 2100, loss: 0.07947124540805817, score: 0.975\n",
      "\n"
     ]
    },
    {
     "data": {
      "application/vnd.jupyter.widget-view+json": {
       "model_id": "e9231e9726de42a29e0666ba4982882d",
       "version_major": 2,
       "version_minor": 0
      },
      "text/plain": [
       "HBox(children=(FloatProgress(value=0.0, max=72.0), HTML(value='')))"
      ]
     },
     "metadata": {},
     "output_type": "display_data"
    },
    {
     "name": "stdout",
     "output_type": "stream",
     "text": [
      "\n"
     ]
    },
    {
     "data": {
      "application/vnd.jupyter.widget-view+json": {
       "model_id": "290642d9ed2243348b0e25e1e0428735",
       "version_major": 2,
       "version_minor": 0
      },
      "text/plain": [
       "HBox(children=(FloatProgress(value=0.0, max=72.0), HTML(value='')))"
      ]
     },
     "metadata": {},
     "output_type": "display_data"
    },
    {
     "name": "stdout",
     "output_type": "stream",
     "text": [
      "\n",
      "Epoch: 23 end\n",
      "train_loss: 0.19097333423073437, train_score: 0.876943550586903\n",
      "val_loss: 0.26869685026920503, val_score: 0.6147042564953012\n",
      "test_loss: 0.2704708973566691, test_score: 0.6063213016644847\n",
      "Epoch: 24 start\n"
     ]
    },
    {
     "data": {
      "application/vnd.jupyter.widget-view+json": {
       "model_id": "1eabbd965f9f4531a2d2ebd9b85777ef",
       "version_major": 2,
       "version_minor": 0
      },
      "text/plain": [
       "HBox(children=(FloatProgress(value=0.0, max=2101.0), HTML(value='')))"
      ]
     },
     "metadata": {},
     "output_type": "display_data"
    },
    {
     "name": "stdout",
     "output_type": "stream",
     "text": [
      "Iter: 0, loss: 0.30732882022857666, score: 0.896774193548387\n",
      "Iter: 100, loss: 0.19266395270824432, score: 0.907142857142857\n",
      "Iter: 200, loss: 0.27331969141960144, score: 0.9360465116279071\n",
      "Iter: 300, loss: 0.1669388711452484, score: 0.9150326797385621\n",
      "Iter: 400, loss: 0.26723039150238037, score: 0.942942942942943\n",
      "Iter: 500, loss: 0.23782294988632202, score: 0.8658536585365854\n",
      "Iter: 600, loss: 0.12874437868595123, score: 0.888888888888889\n",
      "Iter: 700, loss: 0.13486039638519287, score: 0.8827586206896552\n",
      "Iter: 800, loss: 0.2539522349834442, score: 0.8091603053435115\n",
      "Iter: 900, loss: 0.12002620100975037, score: 0.9130434782608695\n",
      "Iter: 1000, loss: 0.09258627891540527, score: 0.8955223880597015\n",
      "Iter: 1100, loss: 0.22918805480003357, score: 0.8450704225352113\n",
      "Iter: 1200, loss: 0.08537058532238007, score: 0.9245283018867924\n",
      "Iter: 1300, loss: 0.09982989728450775, score: 0.8955223880597014\n",
      "Iter: 1400, loss: 0.09453394263982773, score: 0.9142857142857143\n",
      "Iter: 1500, loss: 0.1568346470594406, score: 0.8827586206896552\n",
      "Iter: 1600, loss: 0.12880611419677734, score: 0.8615384615384616\n",
      "Iter: 1700, loss: 0.12783141434192657, score: 0.8717948717948718\n",
      "Iter: 1800, loss: 0.15606537461280823, score: 0.8028169014084507\n",
      "Iter: 1900, loss: 0.14747273921966553, score: 0.8823529411764706\n",
      "Iter: 2000, loss: 0.13386961817741394, score: 0.8789808917197451\n",
      "Iter: 2100, loss: 0.05496131256222725, score: 0.9876543209876543\n",
      "\n"
     ]
    },
    {
     "data": {
      "application/vnd.jupyter.widget-view+json": {
       "model_id": "b3669bdb22a347c7bc8b6e466e30116b",
       "version_major": 2,
       "version_minor": 0
      },
      "text/plain": [
       "HBox(children=(FloatProgress(value=0.0, max=72.0), HTML(value='')))"
      ]
     },
     "metadata": {},
     "output_type": "display_data"
    },
    {
     "name": "stdout",
     "output_type": "stream",
     "text": [
      "\n"
     ]
    },
    {
     "data": {
      "application/vnd.jupyter.widget-view+json": {
       "model_id": "8a1c6015903c4e3f9b03fe39273cc318",
       "version_major": 2,
       "version_minor": 0
      },
      "text/plain": [
       "HBox(children=(FloatProgress(value=0.0, max=72.0), HTML(value='')))"
      ]
     },
     "metadata": {},
     "output_type": "display_data"
    },
    {
     "name": "stdout",
     "output_type": "stream",
     "text": [
      "\n",
      "Epoch: 24 end\n",
      "train_loss: 0.18012446546656696, train_score: 0.8828391584460455\n",
      "val_loss: 0.2668712538563543, val_score: 0.652454527674555\n",
      "test_loss: 0.274976162619339, test_score: 0.6360746920937624\n",
      "Epoch: 25 start\n"
     ]
    },
    {
     "data": {
      "application/vnd.jupyter.widget-view+json": {
       "model_id": "3b16cc4be50b4ee3ab651f2ff922640a",
       "version_major": 2,
       "version_minor": 0
      },
      "text/plain": [
       "HBox(children=(FloatProgress(value=0.0, max=2101.0), HTML(value='')))"
      ]
     },
     "metadata": {},
     "output_type": "display_data"
    },
    {
     "name": "stdout",
     "output_type": "stream",
     "text": [
      "Iter: 0, loss: 0.3685348629951477, score: 0.9090909090909091\n",
      "Iter: 100, loss: 0.20066127181053162, score: 0.9007092198581561\n",
      "Iter: 200, loss: 0.26024746894836426, score: 0.9391304347826086\n",
      "Iter: 300, loss: 0.16513864696025848, score: 0.9180327868852459\n",
      "Iter: 400, loss: 0.16966311633586884, score: 0.9523809523809523\n",
      "Iter: 500, loss: 0.22365999221801758, score: 0.8902439024390243\n",
      "Iter: 600, loss: 0.09028539061546326, score: 0.9208633093525178\n",
      "Iter: 700, loss: 0.1387902945280075, score: 0.9103448275862068\n",
      "Iter: 800, loss: 0.22726203501224518, score: 0.84375\n",
      "Iter: 900, loss: 0.15917852520942688, score: 0.9392265193370166\n",
      "Iter: 1000, loss: 0.09953097999095917, score: 0.8714285714285716\n",
      "Iter: 1100, loss: 0.1623789221048355, score: 0.8794326241134751\n",
      "Iter: 1200, loss: 0.10590394586324692, score: 0.8703703703703703\n",
      "Iter: 1300, loss: 0.10998524725437164, score: 0.8872180451127819\n",
      "Iter: 1400, loss: 0.0765707865357399, score: 0.9428571428571428\n",
      "Iter: 1500, loss: 0.08753777295351028, score: 0.9014084507042254\n",
      "Iter: 1600, loss: 0.10823357105255127, score: 0.903225806451613\n",
      "Iter: 1700, loss: 0.130059152841568, score: 0.87248322147651\n",
      "Iter: 1800, loss: 0.20341573655605316, score: 0.7638888888888888\n",
      "Iter: 1900, loss: 0.17419511079788208, score: 0.8875739644970415\n",
      "Iter: 2000, loss: 0.20004567503929138, score: 0.8250000000000001\n",
      "Iter: 2100, loss: 0.05094431713223457, score: 0.9873417721518987\n",
      "\n"
     ]
    },
    {
     "data": {
      "application/vnd.jupyter.widget-view+json": {
       "model_id": "3f6b40021cd54cec8a0b056471d3824c",
       "version_major": 2,
       "version_minor": 0
      },
      "text/plain": [
       "HBox(children=(FloatProgress(value=0.0, max=72.0), HTML(value='')))"
      ]
     },
     "metadata": {},
     "output_type": "display_data"
    },
    {
     "name": "stdout",
     "output_type": "stream",
     "text": [
      "\n"
     ]
    },
    {
     "data": {
      "application/vnd.jupyter.widget-view+json": {
       "model_id": "be0f6e3ed80c452ba623fb032c450597",
       "version_major": 2,
       "version_minor": 0
      },
      "text/plain": [
       "HBox(children=(FloatProgress(value=0.0, max=72.0), HTML(value='')))"
      ]
     },
     "metadata": {},
     "output_type": "display_data"
    },
    {
     "name": "stdout",
     "output_type": "stream",
     "text": [
      "\n",
      "Epoch: 25 end\n",
      "train_loss: 0.17042121732131404, train_score: 0.8877772345318854\n",
      "val_loss: 0.26862731674272156, val_score: 0.6855213170113973\n",
      "test_loss: 0.2682794392177925, test_score: 0.67551938316556\n",
      "Epoch: 26 start\n"
     ]
    },
    {
     "data": {
      "application/vnd.jupyter.widget-view+json": {
       "model_id": "9f728066e2854dd5864815e42e3d1bbb",
       "version_major": 2,
       "version_minor": 0
      },
      "text/plain": [
       "HBox(children=(FloatProgress(value=0.0, max=2101.0), HTML(value='')))"
      ]
     },
     "metadata": {},
     "output_type": "display_data"
    },
    {
     "name": "stdout",
     "output_type": "stream",
     "text": [
      "Iter: 0, loss: 0.17171835899353027, score: 0.9315960912052118\n",
      "Iter: 100, loss: 0.14610373973846436, score: 0.9136690647482014\n",
      "Iter: 200, loss: 0.18323907256126404, score: 0.9446064139941691\n",
      "Iter: 300, loss: 0.15221038460731506, score: 0.9364548494983278\n",
      "Iter: 400, loss: 0.22664891183376312, score: 0.9404761904761905\n",
      "Iter: 500, loss: 0.1575770080089569, score: 0.9113924050632912\n",
      "Iter: 600, loss: 0.09876398742198944, score: 0.9295774647887323\n",
      "Iter: 700, loss: 0.1426849514245987, score: 0.8648648648648647\n",
      "Iter: 800, loss: 0.21567174792289734, score: 0.8730158730158729\n",
      "Iter: 900, loss: 0.16026443243026733, score: 0.9139784946236559\n",
      "Iter: 1000, loss: 0.09266877174377441, score: 0.8970588235294118\n",
      "Iter: 1100, loss: 0.21045172214508057, score: 0.8714285714285714\n",
      "Iter: 1200, loss: 0.09809809178113937, score: 0.912621359223301\n",
      "Iter: 1300, loss: 0.0841890349984169, score: 0.9448818897637796\n",
      "Iter: 1400, loss: 0.19631646573543549, score: 0.895104895104895\n",
      "Iter: 1500, loss: 0.13679049909114838, score: 0.9014084507042254\n",
      "Iter: 1600, loss: 0.08842524886131287, score: 0.9586776859504132\n",
      "Iter: 1700, loss: 0.1731402575969696, score: 0.8333333333333333\n",
      "Iter: 1800, loss: 0.14861001074314117, score: 0.8226950354609929\n",
      "Iter: 1900, loss: 0.15600353479385376, score: 0.9101796407185629\n",
      "Iter: 2000, loss: 0.14426104724407196, score: 0.868421052631579\n",
      "Iter: 2100, loss: 0.029194330796599388, score: 1.0\n",
      "\n"
     ]
    },
    {
     "data": {
      "application/vnd.jupyter.widget-view+json": {
       "model_id": "b4d98b83ff0849078eb1f1adaa343f12",
       "version_major": 2,
       "version_minor": 0
      },
      "text/plain": [
       "HBox(children=(FloatProgress(value=0.0, max=72.0), HTML(value='')))"
      ]
     },
     "metadata": {},
     "output_type": "display_data"
    },
    {
     "name": "stdout",
     "output_type": "stream",
     "text": [
      "\n"
     ]
    },
    {
     "data": {
      "application/vnd.jupyter.widget-view+json": {
       "model_id": "61c6fbe4c0a94fc99a32dcaf7e8c506d",
       "version_major": 2,
       "version_minor": 0
      },
      "text/plain": [
       "HBox(children=(FloatProgress(value=0.0, max=72.0), HTML(value='')))"
      ]
     },
     "metadata": {},
     "output_type": "display_data"
    },
    {
     "name": "stdout",
     "output_type": "stream",
     "text": [
      "\n",
      "Epoch: 26 end\n",
      "train_loss: 0.16181813731438516, train_score: 0.8931928868991398\n",
      "val_loss: 0.27199281400276554, val_score: 0.676235390608981\n",
      "test_loss: 0.2768570865607924, test_score: 0.6661052631578948\n",
      "Epoch: 27 start\n"
     ]
    },
    {
     "data": {
      "application/vnd.jupyter.widget-view+json": {
       "model_id": "6bf0016e832f40e492354e301b064780",
       "version_major": 2,
       "version_minor": 0
      },
      "text/plain": [
       "HBox(children=(FloatProgress(value=0.0, max=2101.0), HTML(value='')))"
      ]
     },
     "metadata": {},
     "output_type": "display_data"
    },
    {
     "name": "stdout",
     "output_type": "stream",
     "text": [
      "Iter: 0, loss: 0.20168255269527435, score: 0.9368770764119602\n",
      "Iter: 100, loss: 0.1371089667081833, score: 0.9247311827956989\n",
      "Iter: 200, loss: 0.17809462547302246, score: 0.930635838150289\n",
      "Iter: 300, loss: 0.14403171837329865, score: 0.9271523178807947\n",
      "Iter: 400, loss: 0.2795852720737457, score: 0.9171597633136096\n",
      "Iter: 500, loss: 0.21973001956939697, score: 0.8679245283018868\n",
      "Iter: 600, loss: 0.1272282600402832, score: 0.9014084507042254\n",
      "Iter: 700, loss: 0.12306836247444153, score: 0.8827586206896552\n",
      "Iter: 800, loss: 0.19398027658462524, score: 0.8346456692913385\n",
      "Iter: 900, loss: 0.16439035534858704, score: 0.9325842696629215\n",
      "Iter: 1000, loss: 0.0943727120757103, score: 0.8970588235294118\n",
      "Iter: 1100, loss: 0.1260986030101776, score: 0.8611111111111112\n",
      "Iter: 1200, loss: 0.06852442026138306, score: 0.9074074074074074\n",
      "Iter: 1300, loss: 0.09478530287742615, score: 0.9047619047619048\n",
      "Iter: 1400, loss: 0.07513636350631714, score: 0.9166666666666667\n",
      "Iter: 1500, loss: 0.1386939287185669, score: 0.881118881118881\n",
      "Iter: 1600, loss: 0.10918204486370087, score: 0.8636363636363635\n",
      "Iter: 1700, loss: 0.10763247311115265, score: 0.8904109589041096\n",
      "Iter: 1800, loss: 0.13050641119480133, score: 0.8467153284671532\n",
      "Iter: 1900, loss: 0.18300515413284302, score: 0.8823529411764706\n",
      "Iter: 2000, loss: 0.13734260201454163, score: 0.9230769230769231\n",
      "Iter: 2100, loss: 0.016485419124364853, score: 0.9876543209876543\n",
      "\n"
     ]
    },
    {
     "data": {
      "application/vnd.jupyter.widget-view+json": {
       "model_id": "128b6eff50b24fce86dae183f8c6e0c0",
       "version_major": 2,
       "version_minor": 0
      },
      "text/plain": [
       "HBox(children=(FloatProgress(value=0.0, max=72.0), HTML(value='')))"
      ]
     },
     "metadata": {},
     "output_type": "display_data"
    },
    {
     "name": "stdout",
     "output_type": "stream",
     "text": [
      "\n"
     ]
    },
    {
     "data": {
      "application/vnd.jupyter.widget-view+json": {
       "model_id": "bba40cf0b5c046f39254abea594fc7c2",
       "version_major": 2,
       "version_minor": 0
      },
      "text/plain": [
       "HBox(children=(FloatProgress(value=0.0, max=72.0), HTML(value='')))"
      ]
     },
     "metadata": {},
     "output_type": "display_data"
    },
    {
     "name": "stdout",
     "output_type": "stream",
     "text": [
      "\n",
      "Epoch: 27 end\n",
      "train_loss: 0.15342765311218057, train_score: 0.8970989327819314\n",
      "val_loss: 0.2811254412970609, val_score: 0.6477007014809042\n",
      "test_loss: 0.28338051225162214, test_score: 0.6380171896861883\n",
      "Epoch: 28 start\n"
     ]
    },
    {
     "data": {
      "application/vnd.jupyter.widget-view+json": {
       "model_id": "b2cd599b834e4c1099aa173c03adc746",
       "version_major": 2,
       "version_minor": 0
      },
      "text/plain": [
       "HBox(children=(FloatProgress(value=0.0, max=2101.0), HTML(value='')))"
      ]
     },
     "metadata": {},
     "output_type": "display_data"
    },
    {
     "name": "stdout",
     "output_type": "stream",
     "text": [
      "Iter: 0, loss: 0.1672930270433426, score: 0.9225806451612903\n",
      "Iter: 100, loss: 0.16391521692276, score: 0.9169675090252707\n",
      "Iter: 200, loss: 0.15198618173599243, score: 0.9510086455331412\n",
      "Iter: 300, loss: 0.12595394253730774, score: 0.9240924092409241\n",
      "Iter: 400, loss: 0.19663193821907043, score: 0.9518072289156626\n",
      "Iter: 500, loss: 0.140791654586792, score: 0.9192546583850931\n",
      "Iter: 600, loss: 0.10303279757499695, score: 0.915492957746479\n",
      "Iter: 700, loss: 0.09359343349933624, score: 0.921985815602837\n",
      "Iter: 800, loss: 0.20971989631652832, score: 0.870967741935484\n",
      "Iter: 900, loss: 0.12993720173835754, score: 0.9289617486338798\n",
      "Iter: 1000, loss: 0.06378813087940216, score: 0.9393939393939393\n",
      "Iter: 1100, loss: 0.12632213532924652, score: 0.8776978417266188\n",
      "Iter: 1200, loss: 0.04803581163287163, score: 0.9523809523809523\n",
      "Iter: 1300, loss: 0.078064925968647, score: 0.9147286821705427\n",
      "Iter: 1400, loss: 0.11807379126548767, score: 0.9352517985611511\n",
      "Iter: 1500, loss: 0.12059393525123596, score: 0.896551724137931\n",
      "Iter: 1600, loss: 0.088688924908638, score: 0.9180327868852458\n",
      "Iter: 1700, loss: 0.08691760897636414, score: 0.888888888888889\n",
      "Iter: 1800, loss: 0.13996893167495728, score: 0.8507462686567164\n",
      "Iter: 1900, loss: 0.1846698522567749, score: 0.8862275449101796\n",
      "Iter: 2000, loss: 0.1435248702764511, score: 0.8904109589041096\n",
      "Iter: 2100, loss: 0.02693699672818184, score: 1.0\n",
      "\n"
     ]
    },
    {
     "data": {
      "application/vnd.jupyter.widget-view+json": {
       "model_id": "90826a6f98f34ad98e7170c1543722f5",
       "version_major": 2,
       "version_minor": 0
      },
      "text/plain": [
       "HBox(children=(FloatProgress(value=0.0, max=72.0), HTML(value='')))"
      ]
     },
     "metadata": {},
     "output_type": "display_data"
    },
    {
     "name": "stdout",
     "output_type": "stream",
     "text": [
      "\n"
     ]
    },
    {
     "data": {
      "application/vnd.jupyter.widget-view+json": {
       "model_id": "79142b4cbcd54fb5804774d8df62c148",
       "version_major": 2,
       "version_minor": 0
      },
      "text/plain": [
       "HBox(children=(FloatProgress(value=0.0, max=72.0), HTML(value='')))"
      ]
     },
     "metadata": {},
     "output_type": "display_data"
    },
    {
     "name": "stdout",
     "output_type": "stream",
     "text": [
      "\n",
      "Epoch: 28 end\n",
      "train_loss: 0.14467624175951402, train_score: 0.901413153941202\n",
      "val_loss: 0.2889554982797967, val_score: 0.6282485875706214\n",
      "test_loss: 0.2935075933734576, test_score: 0.6149139579349905\n",
      "Epoch: 29 start\n"
     ]
    },
    {
     "data": {
      "application/vnd.jupyter.widget-view+json": {
       "model_id": "3fac24dbf4ea461e828d75719f1f1a87",
       "version_major": 2,
       "version_minor": 0
      },
      "text/plain": [
       "HBox(children=(FloatProgress(value=0.0, max=2101.0), HTML(value='')))"
      ]
     },
     "metadata": {},
     "output_type": "display_data"
    },
    {
     "name": "stdout",
     "output_type": "stream",
     "text": [
      "Iter: 0, loss: 0.25600260496139526, score: 0.9240924092409241\n",
      "Iter: 100, loss: 0.17045395076274872, score: 0.9169675090252707\n",
      "Iter: 200, loss: 0.21979783475399017, score: 0.9470588235294118\n",
      "Iter: 300, loss: 0.13778525590896606, score: 0.9333333333333335\n",
      "Iter: 400, loss: 0.17061719298362732, score: 0.9376854599406527\n",
      "Iter: 500, loss: 0.1600010246038437, score: 0.8711656441717791\n",
      "Iter: 600, loss: 0.10424289107322693, score: 0.888888888888889\n",
      "Iter: 700, loss: 0.1647731363773346, score: 0.8590604026845637\n",
      "Iter: 800, loss: 0.156579852104187, score: 0.888888888888889\n",
      "Iter: 900, loss: 0.12878939509391785, score: 0.9180327868852459\n",
      "Iter: 1000, loss: 0.08533313870429993, score: 0.9160305343511451\n",
      "Iter: 1100, loss: 0.1383160948753357, score: 0.881118881118881\n",
      "Iter: 1200, loss: 0.07768499851226807, score: 0.9142857142857144\n",
      "Iter: 1300, loss: 0.08710302412509918, score: 0.8759124087591241\n",
      "Iter: 1400, loss: 0.1467902660369873, score: 0.927536231884058\n",
      "Iter: 1500, loss: 0.12167885154485703, score: 0.9219858156028369\n",
      "Iter: 1600, loss: 0.07510457932949066, score: 0.944\n",
      "Iter: 1700, loss: 0.12291968613862991, score: 0.8918918918918919\n",
      "Iter: 1800, loss: 0.09582754969596863, score: 0.8805970149253731\n",
      "Iter: 1900, loss: 0.11343633383512497, score: 0.9058823529411764\n",
      "Iter: 2000, loss: 0.1458282172679901, score: 0.8717948717948718\n",
      "Iter: 2100, loss: 0.08142393082380295, score: 0.9397590361445783\n",
      "\n"
     ]
    },
    {
     "data": {
      "application/vnd.jupyter.widget-view+json": {
       "model_id": "a4bbc991c615483e803f0b27d2dc638c",
       "version_major": 2,
       "version_minor": 0
      },
      "text/plain": [
       "HBox(children=(FloatProgress(value=0.0, max=72.0), HTML(value='')))"
      ]
     },
     "metadata": {},
     "output_type": "display_data"
    },
    {
     "name": "stdout",
     "output_type": "stream",
     "text": [
      "\n"
     ]
    },
    {
     "data": {
      "application/vnd.jupyter.widget-view+json": {
       "model_id": "da68104debe04166ae3ee273233d8f04",
       "version_major": 2,
       "version_minor": 0
      },
      "text/plain": [
       "HBox(children=(FloatProgress(value=0.0, max=72.0), HTML(value='')))"
      ]
     },
     "metadata": {},
     "output_type": "display_data"
    },
    {
     "name": "stdout",
     "output_type": "stream",
     "text": [
      "\n",
      "Epoch: 29 end\n",
      "train_loss: 0.13739002274543485, train_score: 0.9061069159226295\n",
      "val_loss: 0.2950222199368808, val_score: 0.6444874274661507\n",
      "test_loss: 0.2899685555517123, test_score: 0.6290731707317072\n",
      "Epoch: 30 start\n"
     ]
    },
    {
     "data": {
      "application/vnd.jupyter.widget-view+json": {
       "model_id": "dcde73f2df8444ef802430eaaa48bb47",
       "version_major": 2,
       "version_minor": 0
      },
      "text/plain": [
       "HBox(children=(FloatProgress(value=0.0, max=2101.0), HTML(value='')))"
      ]
     },
     "metadata": {},
     "output_type": "display_data"
    },
    {
     "name": "stdout",
     "output_type": "stream",
     "text": [
      "Iter: 0, loss: 0.24029624462127686, score: 0.9250814332247556\n",
      "Iter: 100, loss: 0.12131888419389725, score: 0.935251798561151\n",
      "Iter: 200, loss: 0.21864494681358337, score: 0.9380530973451326\n",
      "Iter: 300, loss: 0.1495167762041092, score: 0.9266666666666667\n",
      "Iter: 400, loss: 0.17942732572555542, score: 0.9266862170087977\n",
      "Iter: 500, loss: 0.13793247938156128, score: 0.8982035928143713\n",
      "Iter: 600, loss: 0.08357347548007965, score: 0.921985815602837\n",
      "Iter: 700, loss: 0.11975427716970444, score: 0.915492957746479\n",
      "Iter: 800, loss: 0.17134246230125427, score: 0.8960000000000001\n",
      "Iter: 900, loss: 0.10098931193351746, score: 0.9398907103825138\n",
      "Iter: 1000, loss: 0.07350308448076248, score: 0.930232558139535\n",
      "Iter: 1100, loss: 0.13785210251808167, score: 0.8936170212765958\n",
      "Iter: 1200, loss: 0.052898772060871124, score: 0.9158878504672898\n",
      "Iter: 1300, loss: 0.06922844797372818, score: 0.9076923076923077\n",
      "Iter: 1400, loss: 0.06902049481868744, score: 0.9352517985611511\n",
      "Iter: 1500, loss: 0.0980180874466896, score: 0.9078014184397163\n",
      "Iter: 1600, loss: 0.09030313789844513, score: 0.943089430894309\n",
      "Iter: 1700, loss: 0.06872512400150299, score: 0.9379310344827586\n",
      "Iter: 1800, loss: 0.08971746265888214, score: 0.8787878787878787\n",
      "Iter: 1900, loss: 0.12755274772644043, score: 0.9259259259259259\n",
      "Iter: 2000, loss: 0.14212271571159363, score: 0.8859060402684564\n",
      "Iter: 2100, loss: 0.04996357858181, score: 0.9523809523809523\n",
      "\n"
     ]
    },
    {
     "data": {
      "application/vnd.jupyter.widget-view+json": {
       "model_id": "f853de147d5742cf9b2f69d1c279cbc7",
       "version_major": 2,
       "version_minor": 0
      },
      "text/plain": [
       "HBox(children=(FloatProgress(value=0.0, max=72.0), HTML(value='')))"
      ]
     },
     "metadata": {},
     "output_type": "display_data"
    },
    {
     "name": "stdout",
     "output_type": "stream",
     "text": [
      "\n"
     ]
    },
    {
     "data": {
      "application/vnd.jupyter.widget-view+json": {
       "model_id": "79b0506f42ac4a13b0156389a6bf7bd5",
       "version_major": 2,
       "version_minor": 0
      },
      "text/plain": [
       "HBox(children=(FloatProgress(value=0.0, max=72.0), HTML(value='')))"
      ]
     },
     "metadata": {},
     "output_type": "display_data"
    },
    {
     "name": "stdout",
     "output_type": "stream",
     "text": [
      "\n",
      "Epoch: 30 end\n",
      "train_loss: 0.12887957365186029, train_score: 0.9116399769115451\n",
      "val_loss: 0.29967919933713144, val_score: 0.6641236699457939\n",
      "test_loss: 0.2863791996302704, test_score: 0.6496142915144133\n",
      "Epoch: 31 start\n"
     ]
    },
    {
     "data": {
      "application/vnd.jupyter.widget-view+json": {
       "model_id": "4c752406bf25486d928ff096730740c6",
       "version_major": 2,
       "version_minor": 0
      },
      "text/plain": [
       "HBox(children=(FloatProgress(value=0.0, max=2101.0), HTML(value='')))"
      ]
     },
     "metadata": {},
     "output_type": "display_data"
    },
    {
     "name": "stdout",
     "output_type": "stream",
     "text": [
      "Iter: 0, loss: 0.17485344409942627, score: 0.9368770764119602\n",
      "Iter: 100, loss: 0.15293455123901367, score: 0.9338235294117647\n",
      "Iter: 200, loss: 0.18877580761909485, score: 0.9421965317919075\n",
      "Iter: 300, loss: 0.14382633566856384, score: 0.9523809523809524\n",
      "Iter: 400, loss: 0.13764166831970215, score: 0.9337175792507205\n",
      "Iter: 500, loss: 0.1741729974746704, score: 0.8846153846153846\n",
      "Iter: 600, loss: 0.10290922969579697, score: 0.8904109589041096\n",
      "Iter: 700, loss: 0.08102881908416748, score: 0.9361702127659575\n",
      "Iter: 800, loss: 0.16587448120117188, score: 0.9032258064516129\n",
      "Iter: 900, loss: 0.07985392212867737, score: 0.9555555555555557\n",
      "Iter: 1000, loss: 0.11921773850917816, score: 0.8923076923076922\n",
      "Iter: 1100, loss: 0.08517760038375854, score: 0.9219858156028369\n",
      "Iter: 1200, loss: 0.044064003974199295, score: 0.9259259259259259\n",
      "Iter: 1300, loss: 0.07977037131786346, score: 0.9218749999999999\n",
      "Iter: 1400, loss: 0.05370968207716942, score: 0.9781021897810218\n",
      "Iter: 1500, loss: 0.06301841139793396, score: 0.9361702127659575\n",
      "Iter: 1600, loss: 0.09058307111263275, score: 0.9133858267716536\n",
      "Iter: 1700, loss: 0.11708507686853409, score: 0.9130434782608695\n",
      "Iter: 1800, loss: 0.12085001915693283, score: 0.8676470588235293\n",
      "Iter: 1900, loss: 0.08928680419921875, score: 0.9447852760736196\n",
      "Iter: 2000, loss: 0.1535222828388214, score: 0.881578947368421\n",
      "Iter: 2100, loss: 0.040793295949697495, score: 0.9873417721518987\n",
      "\n"
     ]
    },
    {
     "data": {
      "application/vnd.jupyter.widget-view+json": {
       "model_id": "303b035a73474f8f8b7ea96033653472",
       "version_major": 2,
       "version_minor": 0
      },
      "text/plain": [
       "HBox(children=(FloatProgress(value=0.0, max=72.0), HTML(value='')))"
      ]
     },
     "metadata": {},
     "output_type": "display_data"
    },
    {
     "name": "stdout",
     "output_type": "stream",
     "text": [
      "\n"
     ]
    },
    {
     "data": {
      "application/vnd.jupyter.widget-view+json": {
       "model_id": "a94094e6bcdb4112b6b580d7bacb40ad",
       "version_major": 2,
       "version_minor": 0
      },
      "text/plain": [
       "HBox(children=(FloatProgress(value=0.0, max=72.0), HTML(value='')))"
      ]
     },
     "metadata": {},
     "output_type": "display_data"
    },
    {
     "name": "stdout",
     "output_type": "stream",
     "text": [
      "\n",
      "Epoch: 31 end\n",
      "train_loss: 0.12387058262166695, train_score: 0.9143796817547243\n",
      "val_loss: 0.2970968543862303, val_score: 0.6694915254237288\n",
      "test_loss: 0.2863319493933684, test_score: 0.6639192252215126\n",
      "Epoch: 32 start\n"
     ]
    },
    {
     "data": {
      "application/vnd.jupyter.widget-view+json": {
       "model_id": "06285558ad054c6cba32009592f5fa2d",
       "version_major": 2,
       "version_minor": 0
      },
      "text/plain": [
       "HBox(children=(FloatProgress(value=0.0, max=2101.0), HTML(value='')))"
      ]
     },
     "metadata": {},
     "output_type": "display_data"
    },
    {
     "name": "stdout",
     "output_type": "stream",
     "text": [
      "Iter: 0, loss: 0.1574549376964569, score: 0.9559322033898304\n",
      "Iter: 100, loss: 0.1505250334739685, score: 0.9181494661921707\n",
      "Iter: 200, loss: 0.17624464631080627, score: 0.9507246376811593\n",
      "Iter: 300, loss: 0.15333372354507446, score: 0.909090909090909\n",
      "Iter: 400, loss: 0.12142314016819, score: 0.9523809523809523\n",
      "Iter: 500, loss: 0.136141836643219, score: 0.9202453987730062\n",
      "Iter: 600, loss: 0.08190125226974487, score: 0.9428571428571428\n",
      "Iter: 700, loss: 0.0850626528263092, score: 0.8904109589041096\n",
      "Iter: 800, loss: 0.15951575338840485, score: 0.894308943089431\n",
      "Iter: 900, loss: 0.10087648034095764, score: 0.9378531073446328\n",
      "Iter: 1000, loss: 0.0814676359295845, score: 0.9104477611940298\n",
      "Iter: 1100, loss: 0.07863142341375351, score: 0.9090909090909091\n",
      "Iter: 1200, loss: 0.07113750278949738, score: 0.8971962616822429\n",
      "Iter: 1300, loss: 0.07055594772100449, score: 0.9147286821705427\n",
      "Iter: 1400, loss: 0.13598841428756714, score: 0.915492957746479\n",
      "Iter: 1500, loss: 0.0683922991156578, score: 0.9295774647887324\n",
      "Iter: 1600, loss: 0.07306233048439026, score: 0.9279999999999999\n",
      "Iter: 1700, loss: 0.13035894930362701, score: 0.8843537414965986\n",
      "Iter: 1800, loss: 0.11054970324039459, score: 0.8702290076335878\n",
      "Iter: 1900, loss: 0.0798359140753746, score: 0.9341317365269461\n",
      "Iter: 2000, loss: 0.12492261826992035, score: 0.8874172185430462\n",
      "Iter: 2100, loss: 0.02759871631860733, score: 0.9876543209876543\n",
      "\n"
     ]
    },
    {
     "data": {
      "application/vnd.jupyter.widget-view+json": {
       "model_id": "403599c7cfc54433a04df78d22478d7d",
       "version_major": 2,
       "version_minor": 0
      },
      "text/plain": [
       "HBox(children=(FloatProgress(value=0.0, max=72.0), HTML(value='')))"
      ]
     },
     "metadata": {},
     "output_type": "display_data"
    },
    {
     "name": "stdout",
     "output_type": "stream",
     "text": [
      "\n"
     ]
    },
    {
     "data": {
      "application/vnd.jupyter.widget-view+json": {
       "model_id": "9107d5b5555f468f90ba96d2856c19fe",
       "version_major": 2,
       "version_minor": 0
      },
      "text/plain": [
       "HBox(children=(FloatProgress(value=0.0, max=72.0), HTML(value='')))"
      ]
     },
     "metadata": {},
     "output_type": "display_data"
    },
    {
     "name": "stdout",
     "output_type": "stream",
     "text": [
      "\n",
      "Epoch: 32 end\n",
      "train_loss: 0.11739735975276425, train_score: 0.9188550231711473\n",
      "val_loss: 0.3094994735179676, val_score: 0.6888242625675114\n",
      "test_loss: 0.30886208990381825, test_score: 0.669884575026233\n",
      "Epoch: 33 start\n"
     ]
    },
    {
     "data": {
      "application/vnd.jupyter.widget-view+json": {
       "model_id": "43d1ad40df344896a6ce739634669a47",
       "version_major": 2,
       "version_minor": 0
      },
      "text/plain": [
       "HBox(children=(FloatProgress(value=0.0, max=2101.0), HTML(value='')))"
      ]
     },
     "metadata": {},
     "output_type": "display_data"
    },
    {
     "name": "stdout",
     "output_type": "stream",
     "text": [
      "Iter: 0, loss: 0.18424011766910553, score: 0.9364548494983278\n",
      "Iter: 100, loss: 0.14842194318771362, score: 0.9343065693430657\n",
      "Iter: 200, loss: 0.18319809436798096, score: 0.9298245614035088\n",
      "Iter: 300, loss: 0.13693568110466003, score: 0.9328859060402686\n",
      "Iter: 400, loss: 0.09971830248832703, score: 0.9470588235294117\n",
      "Iter: 500, loss: 0.10583855211734772, score: 0.9135802469135802\n",
      "Iter: 600, loss: 0.08544761687517166, score: 0.9420289855072463\n",
      "Iter: 700, loss: 0.12820743024349213, score: 0.9208633093525178\n",
      "Iter: 800, loss: 0.12265476584434509, score: 0.9133858267716535\n",
      "Iter: 900, loss: 0.046793192625045776, score: 0.967032967032967\n",
      "Iter: 1000, loss: 0.07627327740192413, score: 0.909090909090909\n",
      "Iter: 1100, loss: 0.10669928789138794, score: 0.920863309352518\n",
      "Iter: 1200, loss: 0.0823199525475502, score: 0.9245283018867924\n",
      "Iter: 1300, loss: 0.08312687277793884, score: 0.9133858267716535\n",
      "Iter: 1400, loss: 0.08686542510986328, score: 0.915492957746479\n",
      "Iter: 1500, loss: 0.09800013899803162, score: 0.8843537414965986\n",
      "Iter: 1600, loss: 0.07055718451738358, score: 0.9180327868852458\n",
      "Iter: 1700, loss: 0.06248687207698822, score: 0.9379310344827586\n",
      "Iter: 1800, loss: 0.09347280859947205, score: 0.8592592592592594\n",
      "Iter: 1900, loss: 0.11273147165775299, score: 0.926829268292683\n",
      "Iter: 2000, loss: 0.13100290298461914, score: 0.9090909090909092\n",
      "Iter: 2100, loss: 0.1349709928035736, score: 0.9487179487179489\n",
      "\n"
     ]
    },
    {
     "data": {
      "application/vnd.jupyter.widget-view+json": {
       "model_id": "e455a78cfb2f4165bd5c264ae1219bef",
       "version_major": 2,
       "version_minor": 0
      },
      "text/plain": [
       "HBox(children=(FloatProgress(value=0.0, max=72.0), HTML(value='')))"
      ]
     },
     "metadata": {},
     "output_type": "display_data"
    },
    {
     "name": "stdout",
     "output_type": "stream",
     "text": [
      "\n"
     ]
    },
    {
     "data": {
      "application/vnd.jupyter.widget-view+json": {
       "model_id": "2ffb754ecea1477eb2f30541843d36a4",
       "version_major": 2,
       "version_minor": 0
      },
      "text/plain": [
       "HBox(children=(FloatProgress(value=0.0, max=72.0), HTML(value='')))"
      ]
     },
     "metadata": {},
     "output_type": "display_data"
    },
    {
     "name": "stdout",
     "output_type": "stream",
     "text": [
      "\n",
      "Epoch: 33 end\n",
      "train_loss: 0.11359208027722721, train_score: 0.9209678266537761\n",
      "val_loss: 0.3096443539899256, val_score: 0.6393254120352625\n",
      "test_loss: 0.32119944350173074, test_score: 0.6248539150759641\n",
      "Epoch: 34 start\n"
     ]
    },
    {
     "data": {
      "application/vnd.jupyter.widget-view+json": {
       "model_id": "1825b13a75ea408a93ea04de2b78289c",
       "version_major": 2,
       "version_minor": 0
      },
      "text/plain": [
       "HBox(children=(FloatProgress(value=0.0, max=2101.0), HTML(value='')))"
      ]
     },
     "metadata": {},
     "output_type": "display_data"
    },
    {
     "name": "stdout",
     "output_type": "stream",
     "text": [
      "Iter: 0, loss: 0.1493658423423767, score: 0.9342105263157895\n",
      "Iter: 100, loss: 0.11425076425075531, score: 0.9450549450549451\n",
      "Iter: 200, loss: 0.17485105991363525, score: 0.9442815249266864\n",
      "Iter: 300, loss: 0.10654589533805847, score: 0.9395973154362417\n",
      "Iter: 400, loss: 0.16094952821731567, score: 0.9518072289156626\n",
      "Iter: 500, loss: 0.1004452109336853, score: 0.9146341463414633\n",
      "Iter: 600, loss: 0.13257436454296112, score: 0.9014084507042254\n",
      "Iter: 700, loss: 0.07080758363008499, score: 0.923076923076923\n",
      "Iter: 800, loss: 0.1308225393295288, score: 0.890625\n",
      "Iter: 900, loss: 0.08788904547691345, score: 0.9444444444444444\n",
      "Iter: 1000, loss: 0.051801539957523346, score: 0.9312977099236642\n",
      "Iter: 1100, loss: 0.08434529602527618, score: 0.9014084507042254\n",
      "Iter: 1200, loss: 0.049188755452632904, score: 0.9245283018867924\n",
      "Iter: 1300, loss: 0.0669613629579544, score: 0.9365079365079364\n",
      "Iter: 1400, loss: 0.05874241888523102, score: 0.9571428571428571\n",
      "Iter: 1500, loss: 0.0798923447728157, score: 0.9411764705882354\n",
      "Iter: 1600, loss: 0.04568919911980629, score: 0.957983193277311\n",
      "Iter: 1700, loss: 0.0650443285703659, score: 0.943661971830986\n",
      "Iter: 1800, loss: 0.11583508551120758, score: 0.8467153284671532\n",
      "Iter: 1900, loss: 0.10121767222881317, score: 0.9221556886227545\n",
      "Iter: 2000, loss: 0.09283868968486786, score: 0.9241379310344827\n",
      "Iter: 2100, loss: 0.038743920624256134, score: 0.9876543209876543\n",
      "\n"
     ]
    },
    {
     "data": {
      "application/vnd.jupyter.widget-view+json": {
       "model_id": "48bc7ec947d4474dad49a54e7116c8b3",
       "version_major": 2,
       "version_minor": 0
      },
      "text/plain": [
       "HBox(children=(FloatProgress(value=0.0, max=72.0), HTML(value='')))"
      ]
     },
     "metadata": {},
     "output_type": "display_data"
    },
    {
     "name": "stdout",
     "output_type": "stream",
     "text": [
      "\n"
     ]
    },
    {
     "data": {
      "application/vnd.jupyter.widget-view+json": {
       "model_id": "e90f9cc688ca49969f15bee71d152241",
       "version_major": 2,
       "version_minor": 0
      },
      "text/plain": [
       "HBox(children=(FloatProgress(value=0.0, max=72.0), HTML(value='')))"
      ]
     },
     "metadata": {},
     "output_type": "display_data"
    },
    {
     "name": "stdout",
     "output_type": "stream",
     "text": [
      "\n",
      "Epoch: 34 end\n",
      "train_loss: 0.10835817322908045, train_score: 0.924625568368917\n",
      "val_loss: 0.3299190729028649, val_score: 0.634469696969697\n",
      "test_loss: 0.32226133946743274, test_score: 0.625\n",
      "Epoch: 35 start\n"
     ]
    },
    {
     "data": {
      "application/vnd.jupyter.widget-view+json": {
       "model_id": "cc5197fa81e3480ba2b1de55bf9ddb43",
       "version_major": 2,
       "version_minor": 0
      },
      "text/plain": [
       "HBox(children=(FloatProgress(value=0.0, max=2101.0), HTML(value='')))"
      ]
     },
     "metadata": {},
     "output_type": "display_data"
    },
    {
     "name": "stdout",
     "output_type": "stream",
     "text": [
      "Iter: 0, loss: 0.20533466339111328, score: 0.935064935064935\n",
      "Iter: 100, loss: 0.09033648669719696, score: 0.962962962962963\n",
      "Iter: 200, loss: 0.11163848638534546, score: 0.9649122807017544\n",
      "Iter: 300, loss: 0.10009346902370453, score: 0.93687707641196\n",
      "Iter: 400, loss: 0.13715702295303345, score: 0.940828402366864\n",
      "Iter: 500, loss: 0.2197314202785492, score: 0.8974358974358974\n",
      "Iter: 600, loss: 0.07079986482858658, score: 0.923076923076923\n",
      "Iter: 700, loss: 0.0661303699016571, score: 0.923076923076923\n",
      "Iter: 800, loss: 0.08220071345567703, score: 0.9218749999999999\n",
      "Iter: 900, loss: 0.0713639110326767, score: 0.9405405405405405\n",
      "Iter: 1000, loss: 0.04342983663082123, score: 0.9538461538461539\n",
      "Iter: 1100, loss: 0.04170675948262215, score: 0.962962962962963\n",
      "Iter: 1200, loss: 0.05448319390416145, score: 0.9423076923076924\n",
      "Iter: 1300, loss: 0.07951398193836212, score: 0.9365079365079364\n",
      "Iter: 1400, loss: 0.06437845528125763, score: 0.9558823529411764\n",
      "Iter: 1500, loss: 0.06950213760137558, score: 0.9103448275862069\n",
      "Iter: 1600, loss: 0.07342392206192017, score: 0.95\n",
      "Iter: 1700, loss: 0.12861695885658264, score: 0.8800000000000001\n",
      "Iter: 1800, loss: 0.07329650223255157, score: 0.8939393939393939\n",
      "Iter: 1900, loss: 0.0863586813211441, score: 0.9285714285714286\n",
      "Iter: 2000, loss: 0.1166418194770813, score: 0.9142857142857144\n",
      "Iter: 2100, loss: 0.01908150129020214, score: 1.0\n",
      "\n"
     ]
    },
    {
     "data": {
      "application/vnd.jupyter.widget-view+json": {
       "model_id": "ebd26c3b704848a4aef1859c15dde394",
       "version_major": 2,
       "version_minor": 0
      },
      "text/plain": [
       "HBox(children=(FloatProgress(value=0.0, max=72.0), HTML(value='')))"
      ]
     },
     "metadata": {},
     "output_type": "display_data"
    },
    {
     "name": "stdout",
     "output_type": "stream",
     "text": [
      "\n"
     ]
    },
    {
     "data": {
      "application/vnd.jupyter.widget-view+json": {
       "model_id": "c134eae303434cdaa1462c53754b531d",
       "version_major": 2,
       "version_minor": 0
      },
      "text/plain": [
       "HBox(children=(FloatProgress(value=0.0, max=72.0), HTML(value='')))"
      ]
     },
     "metadata": {},
     "output_type": "display_data"
    },
    {
     "name": "stdout",
     "output_type": "stream",
     "text": [
      "\n",
      "Epoch: 35 end\n",
      "train_loss: 0.10417255430949098, train_score: 0.9275497079913781\n",
      "val_loss: 0.33217469820131856, val_score: 0.6258885147774037\n",
      "test_loss: 0.3284218381676409, test_score: 0.6168437025796661\n",
      "Epoch: 36 start\n"
     ]
    },
    {
     "data": {
      "application/vnd.jupyter.widget-view+json": {
       "model_id": "0365c3f3454c4bdb81262f484711f229",
       "version_major": 2,
       "version_minor": 0
      },
      "text/plain": [
       "HBox(children=(FloatProgress(value=0.0, max=2101.0), HTML(value='')))"
      ]
     },
     "metadata": {},
     "output_type": "display_data"
    },
    {
     "name": "stdout",
     "output_type": "stream",
     "text": [
      "Iter: 0, loss: 0.11790046095848083, score: 0.932475884244373\n",
      "Iter: 100, loss: 0.21355243027210236, score: 0.927007299270073\n",
      "Iter: 200, loss: 0.1586318016052246, score: 0.9501466275659823\n",
      "Iter: 300, loss: 0.13108396530151367, score: 0.9302325581395348\n",
      "Iter: 400, loss: 0.16341829299926758, score: 0.943952802359882\n",
      "Iter: 500, loss: 0.07574846595525742, score: 0.9382716049382716\n",
      "Iter: 600, loss: 0.06509451568126678, score: 0.9436619718309859\n",
      "Iter: 700, loss: 0.10079587250947952, score: 0.9014084507042254\n",
      "Iter: 800, loss: 0.09456281363964081, score: 0.9206349206349207\n",
      "Iter: 900, loss: 0.19256779551506042, score: 0.9502762430939227\n",
      "Iter: 1000, loss: 0.06441593170166016, score: 0.9393939393939393\n",
      "Iter: 1100, loss: 0.10632269084453583, score: 0.9264705882352942\n",
      "Iter: 1200, loss: 0.06401457637548447, score: 0.9245283018867924\n",
      "Iter: 1300, loss: 0.038261283189058304, score: 0.9600000000000001\n",
      "Iter: 1400, loss: 0.04036393761634827, score: 0.9850746268656716\n",
      "Iter: 1500, loss: 0.0642675906419754, score: 0.9343065693430657\n",
      "Iter: 1600, loss: 0.09659995883703232, score: 0.943089430894309\n",
      "Iter: 1700, loss: 0.06589869409799576, score: 0.9305555555555556\n",
      "Iter: 1800, loss: 0.07295015454292297, score: 0.9206349206349207\n",
      "Iter: 1900, loss: 0.09449966251850128, score: 0.9397590361445785\n",
      "Iter: 2000, loss: 0.11715567857027054, score: 0.8874172185430462\n",
      "Iter: 2100, loss: 0.06916099041700363, score: 0.9629629629629629\n",
      "\n"
     ]
    },
    {
     "data": {
      "application/vnd.jupyter.widget-view+json": {
       "model_id": "2274b541f08b445e8a57f9c0a3de4013",
       "version_major": 2,
       "version_minor": 0
      },
      "text/plain": [
       "HBox(children=(FloatProgress(value=0.0, max=72.0), HTML(value='')))"
      ]
     },
     "metadata": {},
     "output_type": "display_data"
    },
    {
     "name": "stdout",
     "output_type": "stream",
     "text": [
      "\n"
     ]
    },
    {
     "data": {
      "application/vnd.jupyter.widget-view+json": {
       "model_id": "95b242b9d6724a85a0a735eb76dec44f",
       "version_major": 2,
       "version_minor": 0
      },
      "text/plain": [
       "HBox(children=(FloatProgress(value=0.0, max=72.0), HTML(value='')))"
      ]
     },
     "metadata": {},
     "output_type": "display_data"
    },
    {
     "name": "stdout",
     "output_type": "stream",
     "text": [
      "\n",
      "Epoch: 36 end\n",
      "train_loss: 0.0989998792161166, train_score: 0.9307424993340477\n",
      "val_loss: 0.35902981604966855, val_score: 0.6085075702956021\n",
      "test_loss: 0.34910634470482665, test_score: 0.5973362525086663\n",
      "Epoch: 37 start\n"
     ]
    },
    {
     "data": {
      "application/vnd.jupyter.widget-view+json": {
       "model_id": "6ed79b6b61224aefacd5b38b24d7b7a0",
       "version_major": 2,
       "version_minor": 0
      },
      "text/plain": [
       "HBox(children=(FloatProgress(value=0.0, max=2101.0), HTML(value='')))"
      ]
     },
     "metadata": {},
     "output_type": "display_data"
    },
    {
     "name": "stdout",
     "output_type": "stream",
     "text": [
      "Iter: 0, loss: 0.19930723309516907, score: 0.9255663430420712\n",
      "Iter: 100, loss: 0.13126450777053833, score: 0.9377289377289378\n",
      "Iter: 200, loss: 0.1530158519744873, score: 0.9560117302052786\n",
      "Iter: 300, loss: 0.11152312159538269, score: 0.9391891891891891\n",
      "Iter: 400, loss: 0.13481134176254272, score: 0.9523809523809523\n",
      "Iter: 500, loss: 0.10486935079097748, score: 0.9249999999999999\n",
      "Iter: 600, loss: 0.06118455529212952, score: 0.9436619718309859\n",
      "Iter: 700, loss: 0.09042707830667496, score: 0.915492957746479\n",
      "Iter: 800, loss: 0.11643297970294952, score: 0.9268292682926829\n",
      "Iter: 900, loss: 0.08274070918560028, score: 0.9666666666666666\n",
      "Iter: 1000, loss: 0.060438122600317, score: 0.9242424242424242\n",
      "Iter: 1100, loss: 0.10526484996080399, score: 0.906474820143885\n",
      "Iter: 1200, loss: 0.02219501882791519, score: 0.9803921568627451\n",
      "Iter: 1300, loss: 0.053277336061000824, score: 0.9365079365079364\n",
      "Iter: 1400, loss: 0.07596709579229355, score: 0.9361702127659575\n",
      "Iter: 1500, loss: 0.04871322587132454, score: 0.923076923076923\n",
      "Iter: 1600, loss: 0.06539203226566315, score: 0.9354838709677421\n",
      "Iter: 1700, loss: 0.0711909607052803, score: 0.91156462585034\n",
      "Iter: 1800, loss: 0.05203288421034813, score: 0.9291338582677166\n",
      "Iter: 1900, loss: 0.052608929574489594, score: 0.9349112426035503\n",
      "Iter: 2000, loss: 0.07122135162353516, score: 0.951048951048951\n",
      "Iter: 2100, loss: 0.013359246775507927, score: 1.0\n",
      "\n"
     ]
    },
    {
     "data": {
      "application/vnd.jupyter.widget-view+json": {
       "model_id": "880f59e5e280401c8d2fa5de49f08ea6",
       "version_major": 2,
       "version_minor": 0
      },
      "text/plain": [
       "HBox(children=(FloatProgress(value=0.0, max=72.0), HTML(value='')))"
      ]
     },
     "metadata": {},
     "output_type": "display_data"
    },
    {
     "name": "stdout",
     "output_type": "stream",
     "text": [
      "\n"
     ]
    },
    {
     "data": {
      "application/vnd.jupyter.widget-view+json": {
       "model_id": "e82a0103a0b844dcbc17747f3616aa73",
       "version_major": 2,
       "version_minor": 0
      },
      "text/plain": [
       "HBox(children=(FloatProgress(value=0.0, max=72.0), HTML(value='')))"
      ]
     },
     "metadata": {},
     "output_type": "display_data"
    },
    {
     "name": "stdout",
     "output_type": "stream",
     "text": [
      "\n",
      "Epoch: 37 end\n",
      "train_loss: 0.09521891845426549, train_score: 0.9335266430458978\n",
      "val_loss: 0.3685571547183726, val_score: 0.5946704067321179\n",
      "test_loss: 0.36241768973155153, test_score: 0.588151064972257\n",
      "Epoch: 38 start\n"
     ]
    },
    {
     "data": {
      "application/vnd.jupyter.widget-view+json": {
       "model_id": "5cd0839b303945918b82f5691463bb18",
       "version_major": 2,
       "version_minor": 0
      },
      "text/plain": [
       "HBox(children=(FloatProgress(value=0.0, max=2101.0), HTML(value='')))"
      ]
     },
     "metadata": {},
     "output_type": "display_data"
    },
    {
     "name": "stdout",
     "output_type": "stream",
     "text": [
      "Iter: 0, loss: 0.18446475267410278, score: 0.922077922077922\n",
      "Iter: 100, loss: 0.09256681799888611, score: 0.948529411764706\n",
      "Iter: 200, loss: 0.14590351283550262, score: 0.9421965317919075\n",
      "Iter: 300, loss: 0.11353343725204468, score: 0.9452054794520547\n",
      "Iter: 400, loss: 0.1220012754201889, score: 0.9526627218934911\n",
      "Iter: 500, loss: 0.08769641816616058, score: 0.9212121212121213\n",
      "Iter: 600, loss: 0.06864091753959656, score: 0.948905109489051\n",
      "Iter: 700, loss: 0.06902690976858139, score: 0.948905109489051\n",
      "Iter: 800, loss: 0.07018490135669708, score: 0.9302325581395349\n",
      "Iter: 900, loss: 0.08822590112686157, score: 0.9502762430939227\n",
      "Iter: 1000, loss: 0.03777512162923813, score: 0.9312977099236642\n",
      "Iter: 1100, loss: 0.03789149224758148, score: 0.9777777777777777\n",
      "Iter: 1200, loss: 0.08008186519145966, score: 0.9306930693069307\n",
      "Iter: 1300, loss: 0.06535033881664276, score: 0.928\n",
      "Iter: 1400, loss: 0.027383413165807724, score: 0.9852941176470589\n",
      "Iter: 1500, loss: 0.12780770659446716, score: 0.9402985074626866\n",
      "Iter: 1600, loss: 0.050403472036123276, score: 0.9666666666666667\n",
      "Iter: 1700, loss: 0.06607973575592041, score: 0.9370629370629371\n",
      "Iter: 1800, loss: 0.07001963257789612, score: 0.9354838709677421\n",
      "Iter: 1900, loss: 0.13106641173362732, score: 0.9156626506024097\n",
      "Iter: 2000, loss: 0.09536556899547577, score: 0.9115646258503401\n",
      "Iter: 2100, loss: 0.017531711608171463, score: 0.9876543209876543\n",
      "\n"
     ]
    },
    {
     "data": {
      "application/vnd.jupyter.widget-view+json": {
       "model_id": "a52e9998c42248d79ae7c3ac4bb28b4f",
       "version_major": 2,
       "version_minor": 0
      },
      "text/plain": [
       "HBox(children=(FloatProgress(value=0.0, max=72.0), HTML(value='')))"
      ]
     },
     "metadata": {},
     "output_type": "display_data"
    },
    {
     "name": "stdout",
     "output_type": "stream",
     "text": [
      "\n"
     ]
    },
    {
     "data": {
      "application/vnd.jupyter.widget-view+json": {
       "model_id": "87b8602146cd420c8dc3fbe7f72126c1",
       "version_major": 2,
       "version_minor": 0
      },
      "text/plain": [
       "HBox(children=(FloatProgress(value=0.0, max=72.0), HTML(value='')))"
      ]
     },
     "metadata": {},
     "output_type": "display_data"
    },
    {
     "name": "stdout",
     "output_type": "stream",
     "text": [
      "\n",
      "Epoch: 38 end\n",
      "train_loss: 0.09367426497855537, train_score: 0.9343682297064542\n",
      "val_loss: 0.35083551580707234, val_score: 0.6231991134096786\n",
      "test_loss: 0.33239330475529033, test_score: 0.6160528800755429\n",
      "Epoch: 39 start\n"
     ]
    },
    {
     "data": {
      "application/vnd.jupyter.widget-view+json": {
       "model_id": "28850e4bb6ee479ea8b2b3d1876c9367",
       "version_major": 2,
       "version_minor": 0
      },
      "text/plain": [
       "HBox(children=(FloatProgress(value=0.0, max=2101.0), HTML(value='')))"
      ]
     },
     "metadata": {},
     "output_type": "display_data"
    },
    {
     "name": "stdout",
     "output_type": "stream",
     "text": [
      "Iter: 0, loss: 0.1374397724866867, score: 0.9255663430420712\n",
      "Iter: 100, loss: 0.08357606083154678, score: 0.9591078066914498\n",
      "Iter: 200, loss: 0.1948557198047638, score: 0.9446064139941691\n",
      "Iter: 300, loss: 0.10104034096002579, score: 0.9400000000000001\n",
      "Iter: 400, loss: 0.08948409557342529, score: 0.9696969696969696\n",
      "Iter: 500, loss: 0.10819660127162933, score: 0.9192546583850931\n",
      "Iter: 600, loss: 0.06625513732433319, score: 0.9428571428571428\n",
      "Iter: 700, loss: 0.04097897186875343, score: 0.9428571428571428\n",
      "Iter: 800, loss: 0.07463374733924866, score: 0.9365079365079364\n",
      "Iter: 900, loss: 0.07491333782672882, score: 0.9560439560439561\n",
      "Iter: 1000, loss: 0.050518251955509186, score: 0.9457364341085271\n",
      "Iter: 1100, loss: 0.06466390192508698, score: 0.9154929577464789\n",
      "Iter: 1200, loss: 0.01841779239475727, score: 0.9803921568627451\n",
      "Iter: 1300, loss: 0.040014706552028656, score: 0.9448818897637796\n",
      "Iter: 1400, loss: 0.04499645531177521, score: 0.9710144927536231\n",
      "Iter: 1500, loss: 0.051861561834812164, score: 0.949640287769784\n",
      "Iter: 1600, loss: 0.14647531509399414, score: 0.9322033898305084\n",
      "Iter: 1700, loss: 0.05362079292535782, score: 0.9379310344827586\n",
      "Iter: 1800, loss: 0.05500759929418564, score: 0.9147286821705426\n",
      "Iter: 1900, loss: 0.06837281584739685, score: 0.9239766081871346\n",
      "Iter: 2000, loss: 0.08887097239494324, score: 0.9066666666666666\n",
      "Iter: 2100, loss: 0.029745806008577347, score: 0.975609756097561\n",
      "\n"
     ]
    },
    {
     "data": {
      "application/vnd.jupyter.widget-view+json": {
       "model_id": "21a8fad60e0a40739bbf9113d8750717",
       "version_major": 2,
       "version_minor": 0
      },
      "text/plain": [
       "HBox(children=(FloatProgress(value=0.0, max=72.0), HTML(value='')))"
      ]
     },
     "metadata": {},
     "output_type": "display_data"
    },
    {
     "name": "stdout",
     "output_type": "stream",
     "text": [
      "\n"
     ]
    },
    {
     "data": {
      "application/vnd.jupyter.widget-view+json": {
       "model_id": "cad04e2eab6e495bba34a881c457c82c",
       "version_major": 2,
       "version_minor": 0
      },
      "text/plain": [
       "HBox(children=(FloatProgress(value=0.0, max=72.0), HTML(value='')))"
      ]
     },
     "metadata": {},
     "output_type": "display_data"
    },
    {
     "name": "stdout",
     "output_type": "stream",
     "text": [
      "\n",
      "Epoch: 39 end\n",
      "train_loss: 0.08908999801880686, train_score: 0.9378199011427106\n",
      "val_loss: 0.3471645370332731, val_score: 0.5849218615833763\n",
      "test_loss: 0.34567345799533317, test_score: 0.5802707930367506\n",
      "Epoch: 40 start\n"
     ]
    },
    {
     "data": {
      "application/vnd.jupyter.widget-view+json": {
       "model_id": "25f3a6d4ba2848b396d54db13a4feb0a",
       "version_major": 2,
       "version_minor": 0
      },
      "text/plain": [
       "HBox(children=(FloatProgress(value=0.0, max=2101.0), HTML(value='')))"
      ]
     },
     "metadata": {},
     "output_type": "display_data"
    },
    {
     "name": "stdout",
     "output_type": "stream",
     "text": [
      "Iter: 0, loss: 0.14804331958293915, score: 0.9265175718849841\n",
      "Iter: 100, loss: 0.12173929810523987, score: 0.9377289377289378\n",
      "Iter: 200, loss: 0.14469724893569946, score: 0.9452449567723342\n",
      "Iter: 300, loss: 0.1079302430152893, score: 0.9491525423728814\n",
      "Iter: 400, loss: 0.07860894501209259, score: 0.9698795180722891\n",
      "Iter: 500, loss: 0.08502374589443207, score: 0.9325153374233128\n",
      "Iter: 600, loss: 0.07612966001033783, score: 0.9361702127659575\n",
      "Iter: 700, loss: 0.06842147558927536, score: 0.9361702127659575\n",
      "Iter: 800, loss: 0.08219915628433228, score: 0.944\n",
      "Iter: 900, loss: 0.04659511521458626, score: 0.9617486338797814\n",
      "Iter: 1000, loss: 0.05894641950726509, score: 0.923076923076923\n",
      "Iter: 1100, loss: 0.042877890169620514, score: 0.9565217391304348\n",
      "Iter: 1200, loss: 0.05032886564731598, score: 0.9259259259259259\n",
      "Iter: 1300, loss: 0.047553300857543945, score: 0.9365079365079364\n",
      "Iter: 1400, loss: 0.02957453951239586, score: 0.9710144927536231\n",
      "Iter: 1500, loss: 0.056679464876651764, score: 0.9361702127659575\n",
      "Iter: 1600, loss: 0.05427736043930054, score: 0.9291338582677166\n",
      "Iter: 1700, loss: 0.06646911799907684, score: 0.9251700680272108\n",
      "Iter: 1800, loss: 0.07140321284532547, score: 0.9291338582677166\n",
      "Iter: 1900, loss: 0.08619070053100586, score: 0.9212121212121213\n",
      "Iter: 2000, loss: 0.10110274702310562, score: 0.9166666666666666\n",
      "Iter: 2100, loss: 0.007249930407851934, score: 1.0\n",
      "\n"
     ]
    },
    {
     "data": {
      "application/vnd.jupyter.widget-view+json": {
       "model_id": "4a5f1f6fe2974126980c8c0ff4551ce0",
       "version_major": 2,
       "version_minor": 0
      },
      "text/plain": [
       "HBox(children=(FloatProgress(value=0.0, max=72.0), HTML(value='')))"
      ]
     },
     "metadata": {},
     "output_type": "display_data"
    },
    {
     "name": "stdout",
     "output_type": "stream",
     "text": [
      "\n"
     ]
    },
    {
     "data": {
      "application/vnd.jupyter.widget-view+json": {
       "model_id": "e2a36d7c834c47f8a7c15aa59993c059",
       "version_major": 2,
       "version_minor": 0
      },
      "text/plain": [
       "HBox(children=(FloatProgress(value=0.0, max=72.0), HTML(value='')))"
      ]
     },
     "metadata": {},
     "output_type": "display_data"
    },
    {
     "name": "stdout",
     "output_type": "stream",
     "text": [
      "\n",
      "Epoch: 40 end\n",
      "train_loss: 0.08582128043477555, train_score: 0.9396488735084011\n",
      "val_loss: 0.3391416889304916, val_score: 0.6386044747819491\n",
      "test_loss: 0.33232783805578947, test_score: 0.6348709929632526\n",
      "Epoch: 41 start\n"
     ]
    },
    {
     "data": {
      "application/vnd.jupyter.widget-view+json": {
       "model_id": "aca56231b612435dab9bff1e689ddd64",
       "version_major": 2,
       "version_minor": 0
      },
      "text/plain": [
       "HBox(children=(FloatProgress(value=0.0, max=2101.0), HTML(value='')))"
      ]
     },
     "metadata": {},
     "output_type": "display_data"
    },
    {
     "name": "stdout",
     "output_type": "stream",
     "text": [
      "Iter: 0, loss: 0.10757450759410858, score: 0.943894389438944\n",
      "Iter: 100, loss: 0.11072991043329239, score: 0.9416058394160584\n",
      "Iter: 200, loss: 0.12196724116802216, score: 0.9507246376811593\n",
      "Iter: 300, loss: 0.11022777110338211, score: 0.9328859060402686\n",
      "Iter: 400, loss: 0.16045939922332764, score: 0.9492537313432836\n",
      "Iter: 500, loss: 0.11220116913318634, score: 0.9367088607594937\n",
      "Iter: 600, loss: 0.04315119609236717, score: 0.9571428571428571\n",
      "Iter: 700, loss: 0.045843206346035004, score: 0.9428571428571428\n",
      "Iter: 800, loss: 0.09706535935401917, score: 0.912\n",
      "Iter: 900, loss: 0.07067783176898956, score: 0.945054945054945\n",
      "Iter: 1000, loss: 0.04033603146672249, score: 0.9465648854961832\n",
      "Iter: 1100, loss: 0.1185825988650322, score: 0.9014084507042254\n",
      "Iter: 1200, loss: 0.03824477642774582, score: 0.9514563106796116\n",
      "Iter: 1300, loss: 0.05859041586518288, score: 0.9090909090909091\n",
      "Iter: 1400, loss: 0.10536752641201019, score: 0.9352517985611511\n",
      "Iter: 1500, loss: 0.05588569864630699, score: 0.9285714285714285\n",
      "Iter: 1600, loss: 0.06400168687105179, score: 0.9133858267716536\n",
      "Iter: 1700, loss: 0.09121913462877274, score: 0.9285714285714286\n",
      "Iter: 1800, loss: 0.049042098224163055, score: 0.9508196721311476\n",
      "Iter: 1900, loss: 0.07359880208969116, score: 0.9565217391304348\n",
      "Iter: 2000, loss: 0.0689610168337822, score: 0.918918918918919\n",
      "Iter: 2100, loss: 0.04100266844034195, score: 0.9876543209876543\n",
      "\n"
     ]
    },
    {
     "data": {
      "application/vnd.jupyter.widget-view+json": {
       "model_id": "67f71c55ec524ff3b5d05b12fc4075c0",
       "version_major": 2,
       "version_minor": 0
      },
      "text/plain": [
       "HBox(children=(FloatProgress(value=0.0, max=72.0), HTML(value='')))"
      ]
     },
     "metadata": {},
     "output_type": "display_data"
    },
    {
     "name": "stdout",
     "output_type": "stream",
     "text": [
      "\n"
     ]
    },
    {
     "data": {
      "application/vnd.jupyter.widget-view+json": {
       "model_id": "b341a4965f784624b2c003122241540c",
       "version_major": 2,
       "version_minor": 0
      },
      "text/plain": [
       "HBox(children=(FloatProgress(value=0.0, max=72.0), HTML(value='')))"
      ]
     },
     "metadata": {},
     "output_type": "display_data"
    },
    {
     "name": "stdout",
     "output_type": "stream",
     "text": [
      "\n",
      "Epoch: 41 end\n",
      "train_loss: 0.08420404656810145, train_score: 0.9410357967888245\n",
      "val_loss: 0.34024211919556063, val_score: 0.6483239682232125\n",
      "test_loss: 0.33037205123239094, test_score: 0.6382728164867517\n",
      "Epoch: 42 start\n"
     ]
    },
    {
     "data": {
      "application/vnd.jupyter.widget-view+json": {
       "model_id": "b0b42fcf199f4a049f1f0dddd60361e9",
       "version_major": 2,
       "version_minor": 0
      },
      "text/plain": [
       "HBox(children=(FloatProgress(value=0.0, max=2101.0), HTML(value='')))"
      ]
     },
     "metadata": {},
     "output_type": "display_data"
    },
    {
     "name": "stdout",
     "output_type": "stream",
     "text": [
      "Iter: 0, loss: 0.17640867829322815, score: 0.9556313993174061\n",
      "Iter: 100, loss: 0.07052718102931976, score: 0.9626865671641791\n",
      "Iter: 200, loss: 0.14905139803886414, score: 0.9529411764705882\n",
      "Iter: 300, loss: 0.07609736174345016, score: 0.9688581314878892\n",
      "Iter: 400, loss: 0.06205202266573906, score: 0.972972972972973\n",
      "Iter: 500, loss: 0.05065841227769852, score: 0.9620253164556961\n",
      "Iter: 600, loss: 0.060454241931438446, score: 0.9558823529411764\n",
      "Iter: 700, loss: 0.036435775458812714, score: 0.9710144927536231\n",
      "Iter: 800, loss: 0.11310315132141113, score: 0.9491525423728815\n",
      "Iter: 900, loss: 0.08417551219463348, score: 0.96045197740113\n",
      "Iter: 1000, loss: 0.0409337617456913, score: 0.9457364341085271\n",
      "Iter: 1100, loss: 0.07055056095123291, score: 0.9624060150375939\n",
      "Iter: 1200, loss: 0.03315085172653198, score: 0.9433962264150945\n",
      "Iter: 1300, loss: 0.04344317689538002, score: 0.9448818897637796\n",
      "Iter: 1400, loss: 0.031001517549157143, score: 0.9640287769784173\n",
      "Iter: 1500, loss: 0.062110185623168945, score: 0.9285714285714285\n",
      "Iter: 1600, loss: 0.08584710210561752, score: 0.9193548387096773\n",
      "Iter: 1700, loss: 0.11315569281578064, score: 0.9090909090909091\n",
      "Iter: 1800, loss: 0.08371390402317047, score: 0.8613138686131386\n",
      "Iter: 1900, loss: 0.05496712028980255, score: 0.9693251533742331\n",
      "Iter: 2000, loss: 0.0727977380156517, score: 0.9577464788732394\n",
      "Iter: 2100, loss: 0.0215240977704525, score: 0.963855421686747\n",
      "\n"
     ]
    },
    {
     "data": {
      "application/vnd.jupyter.widget-view+json": {
       "model_id": "ec0ec0c7bd7b4c5a8f11ba2152e50f70",
       "version_major": 2,
       "version_minor": 0
      },
      "text/plain": [
       "HBox(children=(FloatProgress(value=0.0, max=72.0), HTML(value='')))"
      ]
     },
     "metadata": {},
     "output_type": "display_data"
    },
    {
     "name": "stdout",
     "output_type": "stream",
     "text": [
      "\n"
     ]
    },
    {
     "data": {
      "application/vnd.jupyter.widget-view+json": {
       "model_id": "0c340b7fb4e34571b8e9693db005e34e",
       "version_major": 2,
       "version_minor": 0
      },
      "text/plain": [
       "HBox(children=(FloatProgress(value=0.0, max=72.0), HTML(value='')))"
      ]
     },
     "metadata": {},
     "output_type": "display_data"
    },
    {
     "name": "stdout",
     "output_type": "stream",
     "text": [
      "\n",
      "Epoch: 42 end\n",
      "train_loss: 0.08019138784145582, train_score: 0.9440749880481917\n",
      "val_loss: 0.34003994469013477, val_score: 0.648868253047011\n",
      "test_loss: 0.3239663943855299, test_score: 0.6398587681443703\n",
      "Epoch: 43 start\n"
     ]
    },
    {
     "data": {
      "application/vnd.jupyter.widget-view+json": {
       "model_id": "5e35e92fdb7c468ea5cf68bf74c8fd9c",
       "version_major": 2,
       "version_minor": 0
      },
      "text/plain": [
       "HBox(children=(FloatProgress(value=0.0, max=2101.0), HTML(value='')))"
      ]
     },
     "metadata": {},
     "output_type": "display_data"
    },
    {
     "name": "stdout",
     "output_type": "stream",
     "text": [
      "Iter: 0, loss: 0.06885918974876404, score: 0.9602649006622517\n",
      "Iter: 100, loss: 0.1060182973742485, score: 0.9411764705882353\n",
      "Iter: 200, loss: 0.18568851053714752, score: 0.9557522123893806\n",
      "Iter: 300, loss: 0.11532790213823318, score: 0.9652777777777778\n",
      "Iter: 400, loss: 0.10844376683235168, score: 0.9640718562874252\n",
      "Iter: 500, loss: 0.06371191143989563, score: 0.949367088607595\n",
      "Iter: 600, loss: 0.14074669778347015, score: 0.9064748201438849\n",
      "Iter: 700, loss: 0.04558989405632019, score: 0.9640287769784173\n",
      "Iter: 800, loss: 0.0445082001388073, score: 0.944\n",
      "Iter: 900, loss: 0.04305759817361832, score: 0.967032967032967\n",
      "Iter: 1000, loss: 0.045173279941082, score: 0.9323308270676691\n",
      "Iter: 1100, loss: 0.04353465884923935, score: 0.9848484848484849\n",
      "Iter: 1200, loss: 0.05833958089351654, score: 0.9158878504672898\n",
      "Iter: 1300, loss: 0.05440998822450638, score: 0.9672131147540983\n",
      "Iter: 1400, loss: 0.03735755383968353, score: 0.9705882352941176\n",
      "Iter: 1500, loss: 0.0657801628112793, score: 0.8904109589041096\n",
      "Iter: 1600, loss: 0.053065747022628784, score: 0.9421487603305785\n",
      "Iter: 1700, loss: 0.06475059688091278, score: 0.9379310344827586\n",
      "Iter: 1800, loss: 0.1488749086856842, score: 0.8992248062015504\n",
      "Iter: 1900, loss: 0.04120803251862526, score: 0.975\n",
      "Iter: 2000, loss: 0.053878627717494965, score: 0.9787234042553191\n",
      "Iter: 2100, loss: 0.025506021454930305, score: 1.0\n",
      "\n"
     ]
    },
    {
     "data": {
      "application/vnd.jupyter.widget-view+json": {
       "model_id": "bb55808da54848bdb72eeafee310935c",
       "version_major": 2,
       "version_minor": 0
      },
      "text/plain": [
       "HBox(children=(FloatProgress(value=0.0, max=72.0), HTML(value='')))"
      ]
     },
     "metadata": {},
     "output_type": "display_data"
    },
    {
     "name": "stdout",
     "output_type": "stream",
     "text": [
      "\n"
     ]
    },
    {
     "data": {
      "application/vnd.jupyter.widget-view+json": {
       "model_id": "822f02f25af44ba6a94c82292b53a39f",
       "version_major": 2,
       "version_minor": 0
      },
      "text/plain": [
       "HBox(children=(FloatProgress(value=0.0, max=72.0), HTML(value='')))"
      ]
     },
     "metadata": {},
     "output_type": "display_data"
    },
    {
     "name": "stdout",
     "output_type": "stream",
     "text": [
      "\n",
      "Epoch: 43 end\n",
      "train_loss: 0.07872032950047593, train_score: 0.9446662544315149\n",
      "val_loss: 0.3610727052307791, val_score: 0.6307977736549165\n",
      "test_loss: 0.3570693167340424, test_score: 0.6143126177024482\n",
      "Epoch: 44 start\n"
     ]
    },
    {
     "data": {
      "application/vnd.jupyter.widget-view+json": {
       "model_id": "afdd7d6fa807448fa2dc70d2e36f7815",
       "version_major": 2,
       "version_minor": 0
      },
      "text/plain": [
       "HBox(children=(FloatProgress(value=0.0, max=2101.0), HTML(value='')))"
      ]
     },
     "metadata": {},
     "output_type": "display_data"
    },
    {
     "name": "stdout",
     "output_type": "stream",
     "text": [
      "Iter: 0, loss: 0.16499847173690796, score: 0.943894389438944\n",
      "Iter: 100, loss: 0.07619738578796387, score: 0.9555555555555556\n",
      "Iter: 200, loss: 0.1357344537973404, score: 0.9620991253644314\n",
      "Iter: 300, loss: 0.09127437323331833, score: 0.9431438127090301\n",
      "Iter: 400, loss: 0.12311919033527374, score: 0.9636363636363636\n",
      "Iter: 500, loss: 0.05208338052034378, score: 0.9506172839506173\n",
      "Iter: 600, loss: 0.03645727038383484, score: 0.949640287769784\n",
      "Iter: 700, loss: 0.04339343309402466, score: 0.9705882352941176\n",
      "Iter: 800, loss: 0.05879723280668259, score: 0.9586776859504132\n",
      "Iter: 900, loss: 0.04035496711730957, score: 0.9666666666666666\n",
      "Iter: 1000, loss: 0.0512564517557621, score: 0.9612403100775194\n",
      "Iter: 1100, loss: 0.04423951357603073, score: 0.949640287769784\n",
      "Iter: 1200, loss: 0.017597805708646774, score: 0.9523809523809523\n",
      "Iter: 1300, loss: 0.02410631999373436, score: 0.9600000000000001\n",
      "Iter: 1400, loss: 0.041840992867946625, score: 0.950354609929078\n",
      "Iter: 1500, loss: 0.04896915331482887, score: 0.9624060150375939\n",
      "Iter: 1600, loss: 0.05832234025001526, score: 0.9365079365079364\n",
      "Iter: 1700, loss: 0.034334439784288406, score: 0.9645390070921985\n",
      "Iter: 1800, loss: 0.0795796811580658, score: 0.912\n",
      "Iter: 1900, loss: 0.12202390283346176, score: 0.9506172839506173\n",
      "Iter: 2000, loss: 0.07539160549640656, score: 0.9251700680272109\n",
      "Iter: 2100, loss: 0.043906766921281815, score: 0.975609756097561\n",
      "\n"
     ]
    },
    {
     "data": {
      "application/vnd.jupyter.widget-view+json": {
       "model_id": "962682cc703c45b89a17a02014c73585",
       "version_major": 2,
       "version_minor": 0
      },
      "text/plain": [
       "HBox(children=(FloatProgress(value=0.0, max=72.0), HTML(value='')))"
      ]
     },
     "metadata": {},
     "output_type": "display_data"
    },
    {
     "name": "stdout",
     "output_type": "stream",
     "text": [
      "\n"
     ]
    },
    {
     "data": {
      "application/vnd.jupyter.widget-view+json": {
       "model_id": "b45e3a70cc9640c88d43c5848bc291e0",
       "version_major": 2,
       "version_minor": 0
      },
      "text/plain": [
       "HBox(children=(FloatProgress(value=0.0, max=72.0), HTML(value='')))"
      ]
     },
     "metadata": {},
     "output_type": "display_data"
    },
    {
     "name": "stdout",
     "output_type": "stream",
     "text": [
      "\n",
      "Epoch: 44 end\n",
      "train_loss: 0.07639051655060064, train_score: 0.9466828709584877\n",
      "val_loss: 0.35849296436127687, val_score: 0.6500000000000001\n",
      "test_loss: 0.365674683686208, test_score: 0.6350766810853323\n",
      "Epoch: 45 start\n"
     ]
    },
    {
     "data": {
      "application/vnd.jupyter.widget-view+json": {
       "model_id": "ba8ee0b74761490f8ba8cb75d202cd40",
       "version_major": 2,
       "version_minor": 0
      },
      "text/plain": [
       "HBox(children=(FloatProgress(value=0.0, max=2101.0), HTML(value='')))"
      ]
     },
     "metadata": {},
     "output_type": "display_data"
    },
    {
     "name": "stdout",
     "output_type": "stream",
     "text": [
      "Iter: 0, loss: 0.10766304284334183, score: 0.9470198675496688\n",
      "Iter: 100, loss: 0.04067443311214447, score: 0.9701492537313433\n",
      "Iter: 200, loss: 0.15935800969600677, score: 0.9588235294117647\n",
      "Iter: 300, loss: 0.08577283471822739, score: 0.9527027027027027\n",
      "Iter: 400, loss: 0.10954047739505768, score: 0.9578313253012049\n",
      "Iter: 500, loss: 0.12178073823451996, score: 0.9548387096774195\n",
      "Iter: 600, loss: 0.06362743675708771, score: 0.9565217391304348\n",
      "Iter: 700, loss: 0.04097595810890198, score: 0.9571428571428571\n",
      "Iter: 800, loss: 0.13125990331172943, score: 0.9268292682926829\n",
      "Iter: 900, loss: 0.03222145140171051, score: 0.9723756906077349\n",
      "Iter: 1000, loss: 0.06508413702249527, score: 0.9253731343283582\n",
      "Iter: 1100, loss: 0.057683493942022324, score: 0.9545454545454546\n",
      "Iter: 1200, loss: 0.02208450436592102, score: 0.9615384615384615\n",
      "Iter: 1300, loss: 0.03432317078113556, score: 0.9365079365079364\n",
      "Iter: 1400, loss: 0.037430327385663986, score: 0.9640287769784173\n",
      "Iter: 1500, loss: 0.03548448532819748, score: 0.949640287769784\n",
      "Iter: 1600, loss: 0.030827725306153297, score: 0.9516129032258065\n",
      "Iter: 1700, loss: 0.04982860013842583, score: 0.9710144927536232\n",
      "Iter: 1800, loss: 0.07083207368850708, score: 0.9291338582677166\n",
      "Iter: 1900, loss: 0.054557494819164276, score: 0.9454545454545454\n",
      "Iter: 2000, loss: 0.0697755366563797, score: 0.9324324324324325\n",
      "Iter: 2100, loss: 0.02264905907213688, score: 0.9876543209876543\n",
      "\n"
     ]
    },
    {
     "data": {
      "application/vnd.jupyter.widget-view+json": {
       "model_id": "31d3abea32bf4ca8b0f8abcc456198ab",
       "version_major": 2,
       "version_minor": 0
      },
      "text/plain": [
       "HBox(children=(FloatProgress(value=0.0, max=72.0), HTML(value='')))"
      ]
     },
     "metadata": {},
     "output_type": "display_data"
    },
    {
     "name": "stdout",
     "output_type": "stream",
     "text": [
      "\n"
     ]
    },
    {
     "data": {
      "application/vnd.jupyter.widget-view+json": {
       "model_id": "da9b1d3616a9472f8d35354827115935",
       "version_major": 2,
       "version_minor": 0
      },
      "text/plain": [
       "HBox(children=(FloatProgress(value=0.0, max=72.0), HTML(value='')))"
      ]
     },
     "metadata": {},
     "output_type": "display_data"
    },
    {
     "name": "stdout",
     "output_type": "stream",
     "text": [
      "\n",
      "Epoch: 45 end\n",
      "train_loss: 0.0751661313582444, train_score: 0.9473555540321418\n",
      "val_loss: 0.36536768606553477, val_score: 0.6091933464496513\n",
      "test_loss: 0.369908573726813, test_score: 0.6013575490735645\n",
      "Epoch: 46 start\n"
     ]
    },
    {
     "data": {
      "application/vnd.jupyter.widget-view+json": {
       "model_id": "2113a3affc5f4a6592770f7e44d350a8",
       "version_major": 2,
       "version_minor": 0
      },
      "text/plain": [
       "HBox(children=(FloatProgress(value=0.0, max=2101.0), HTML(value='')))"
      ]
     },
     "metadata": {},
     "output_type": "display_data"
    },
    {
     "name": "stdout",
     "output_type": "stream",
     "text": [
      "Iter: 0, loss: 0.16613201797008514, score: 0.9311475409836065\n",
      "Iter: 100, loss: 0.059322815388441086, score: 0.9701492537313433\n",
      "Iter: 200, loss: 0.20275558531284332, score: 0.9590643274853802\n",
      "Iter: 300, loss: 0.05293089896440506, score: 0.9724137931034482\n",
      "Iter: 400, loss: 0.08817852288484573, score: 0.9611940298507463\n",
      "Iter: 500, loss: 0.1587049812078476, score: 0.9125\n",
      "Iter: 600, loss: 0.04686923325061798, score: 0.9710144927536231\n",
      "Iter: 700, loss: 0.025675328448414803, score: 0.9710144927536231\n",
      "Iter: 800, loss: 0.09135715663433075, score: 0.9508196721311476\n",
      "Iter: 900, loss: 0.03565908595919609, score: 0.9723756906077349\n",
      "Iter: 1000, loss: 0.06060466170310974, score: 0.9384615384615386\n",
      "Iter: 1100, loss: 0.08720876276493073, score: 0.955223880597015\n",
      "Iter: 1200, loss: 0.04214007034897804, score: 0.9345794392523363\n",
      "Iter: 1300, loss: 0.03750358149409294, score: 0.9600000000000001\n",
      "Iter: 1400, loss: 0.04900632053613663, score: 0.9705882352941176\n",
      "Iter: 1500, loss: 0.03302571922540665, score: 0.9777777777777777\n",
      "Iter: 1600, loss: 0.06901656091213226, score: 0.9743589743589743\n",
      "Iter: 1700, loss: 0.0731109157204628, score: 0.9230769230769231\n",
      "Iter: 1800, loss: 0.07787695527076721, score: 0.943089430894309\n",
      "Iter: 1900, loss: 0.05356273800134659, score: 0.9753086419753086\n",
      "Iter: 2000, loss: 0.08420538157224655, score: 0.9379310344827586\n",
      "Iter: 2100, loss: 0.0066411495208740234, score: 1.0\n",
      "\n"
     ]
    },
    {
     "data": {
      "application/vnd.jupyter.widget-view+json": {
       "model_id": "bde77ec8a9c2415e84fa3394e4db7e3b",
       "version_major": 2,
       "version_minor": 0
      },
      "text/plain": [
       "HBox(children=(FloatProgress(value=0.0, max=72.0), HTML(value='')))"
      ]
     },
     "metadata": {},
     "output_type": "display_data"
    },
    {
     "name": "stdout",
     "output_type": "stream",
     "text": [
      "\n"
     ]
    },
    {
     "data": {
      "application/vnd.jupyter.widget-view+json": {
       "model_id": "d3a3402055c04a29944544e4aa552b5c",
       "version_major": 2,
       "version_minor": 0
      },
      "text/plain": [
       "HBox(children=(FloatProgress(value=0.0, max=72.0), HTML(value='')))"
      ]
     },
     "metadata": {},
     "output_type": "display_data"
    },
    {
     "name": "stdout",
     "output_type": "stream",
     "text": [
      "\n",
      "Epoch: 46 end\n",
      "train_loss: 0.07212718965078765, train_score: 0.9494792620824372\n",
      "val_loss: 0.3650669878762629, val_score: 0.6423664122137406\n",
      "test_loss: 0.3514135046344664, test_score: 0.6333139422144659\n",
      "Epoch: 47 start\n"
     ]
    },
    {
     "data": {
      "application/vnd.jupyter.widget-view+json": {
       "model_id": "19c996b270c14055ad95f04f6feafba5",
       "version_major": 2,
       "version_minor": 0
      },
      "text/plain": [
       "HBox(children=(FloatProgress(value=0.0, max=2101.0), HTML(value='')))"
      ]
     },
     "metadata": {},
     "output_type": "display_data"
    },
    {
     "name": "stdout",
     "output_type": "stream",
     "text": [
      "Iter: 0, loss: 0.1038125604391098, score: 0.943894389438944\n",
      "Iter: 100, loss: 0.049231722950935364, score: 0.959409594095941\n",
      "Iter: 200, loss: 0.13394252955913544, score: 0.9644970414201184\n",
      "Iter: 300, loss: 0.0570717379450798, score: 0.9657534246575342\n",
      "Iter: 400, loss: 0.08696607500314713, score: 0.9640718562874252\n",
      "Iter: 500, loss: 0.06763218343257904, score: 0.9375\n",
      "Iter: 600, loss: 0.0629504919052124, score: 0.9361702127659575\n",
      "Iter: 700, loss: 0.027598239481449127, score: 0.9640287769784173\n",
      "Iter: 800, loss: 0.10564999282360077, score: 0.9256198347107439\n",
      "Iter: 900, loss: 0.03884922340512276, score: 0.9775280898876404\n",
      "Iter: 1000, loss: 0.03303458169102669, score: 0.9538461538461539\n",
      "Iter: 1100, loss: 0.050064362585544586, score: 0.9558823529411765\n",
      "Iter: 1200, loss: 0.06723757088184357, score: 0.9411764705882353\n",
      "Iter: 1300, loss: 0.03741788491606712, score: 0.9302325581395349\n",
      "Iter: 1400, loss: 0.05115678906440735, score: 0.9436619718309859\n",
      "Iter: 1500, loss: 0.07904548197984695, score: 0.927536231884058\n",
      "Iter: 1600, loss: 0.03416759520769119, score: 0.944\n",
      "Iter: 1700, loss: 0.05994724482297897, score: 0.9054054054054055\n",
      "Iter: 1800, loss: 0.06220471113920212, score: 0.9365079365079364\n",
      "Iter: 1900, loss: 0.042616039514541626, score: 0.9518072289156626\n",
      "Iter: 2000, loss: 0.052214425057172775, score: 0.9379310344827586\n",
      "Iter: 2100, loss: 0.02171763963997364, score: 0.9876543209876543\n",
      "\n"
     ]
    },
    {
     "data": {
      "application/vnd.jupyter.widget-view+json": {
       "model_id": "6905bd0b90de40a8a7504ef075806531",
       "version_major": 2,
       "version_minor": 0
      },
      "text/plain": [
       "HBox(children=(FloatProgress(value=0.0, max=72.0), HTML(value='')))"
      ]
     },
     "metadata": {},
     "output_type": "display_data"
    },
    {
     "name": "stdout",
     "output_type": "stream",
     "text": [
      "\n"
     ]
    },
    {
     "data": {
      "application/vnd.jupyter.widget-view+json": {
       "model_id": "fe34327601b54898ab97e5d15c80e980",
       "version_major": 2,
       "version_minor": 0
      },
      "text/plain": [
       "HBox(children=(FloatProgress(value=0.0, max=72.0), HTML(value='')))"
      ]
     },
     "metadata": {},
     "output_type": "display_data"
    },
    {
     "name": "stdout",
     "output_type": "stream",
     "text": [
      "\n",
      "Epoch: 47 end\n",
      "train_loss: 0.07068521718404609, train_score: 0.950452982607019\n",
      "val_loss: 0.3612186039487521, val_score: 0.6368084305607828\n",
      "test_loss: 0.355153725689484, test_score: 0.6291875240662302\n",
      "Epoch: 48 start\n"
     ]
    },
    {
     "data": {
      "application/vnd.jupyter.widget-view+json": {
       "model_id": "47a0e3281d4749268be481f0e0453bef",
       "version_major": 2,
       "version_minor": 0
      },
      "text/plain": [
       "HBox(children=(FloatProgress(value=0.0, max=2101.0), HTML(value='')))"
      ]
     },
     "metadata": {},
     "output_type": "display_data"
    },
    {
     "name": "stdout",
     "output_type": "stream",
     "text": [
      "Iter: 0, loss: 0.08622635155916214, score: 0.9539473684210527\n",
      "Iter: 100, loss: 0.06108463183045387, score: 0.962962962962963\n",
      "Iter: 200, loss: 0.09118527919054031, score: 0.9705882352941175\n",
      "Iter: 300, loss: 0.07834803313016891, score: 0.9824561403508771\n",
      "Iter: 400, loss: 0.07243331521749496, score: 0.9642857142857143\n",
      "Iter: 500, loss: 0.06385523080825806, score: 0.9559748427672956\n",
      "Iter: 600, loss: 0.08166074752807617, score: 0.9411764705882353\n",
      "Iter: 700, loss: 0.06561066955327988, score: 0.9565217391304348\n",
      "Iter: 800, loss: 0.034297000616788864, score: 0.9600000000000001\n",
      "Iter: 900, loss: 0.052773863077163696, score: 0.9720670391061453\n",
      "Iter: 1000, loss: 0.054572202265262604, score: 0.9393939393939393\n",
      "Iter: 1100, loss: 0.025470256805419922, score: 0.9705882352941176\n",
      "Iter: 1200, loss: 0.02403135411441326, score: 0.9615384615384615\n",
      "Iter: 1300, loss: 0.02305014245212078, score: 0.975609756097561\n",
      "Iter: 1400, loss: 0.042834606021642685, score: 0.9705882352941176\n",
      "Iter: 1500, loss: 0.042172178626060486, score: 0.9481481481481481\n",
      "Iter: 1600, loss: 0.059479884803295135, score: 0.9508196721311476\n",
      "Iter: 1700, loss: 0.03556280583143234, score: 0.9852941176470589\n",
      "Iter: 1800, loss: 0.04473371058702469, score: 0.921875\n",
      "Iter: 1900, loss: 0.04111199826002121, score: 0.975\n",
      "Iter: 2000, loss: 0.09604804217815399, score: 0.9251700680272109\n",
      "Iter: 2100, loss: 0.011575375683605671, score: 1.0\n",
      "\n"
     ]
    },
    {
     "data": {
      "application/vnd.jupyter.widget-view+json": {
       "model_id": "efa4029f21f54468b383327a757cf37c",
       "version_major": 2,
       "version_minor": 0
      },
      "text/plain": [
       "HBox(children=(FloatProgress(value=0.0, max=72.0), HTML(value='')))"
      ]
     },
     "metadata": {},
     "output_type": "display_data"
    },
    {
     "name": "stdout",
     "output_type": "stream",
     "text": [
      "\n"
     ]
    },
    {
     "data": {
      "application/vnd.jupyter.widget-view+json": {
       "model_id": "b15f8a8c06964e7eb8a6c70de006324b",
       "version_major": 2,
       "version_minor": 0
      },
      "text/plain": [
       "HBox(children=(FloatProgress(value=0.0, max=72.0), HTML(value='')))"
      ]
     },
     "metadata": {},
     "output_type": "display_data"
    },
    {
     "name": "stdout",
     "output_type": "stream",
     "text": [
      "\n",
      "Epoch: 48 end\n",
      "train_loss: 0.0693352236046763, train_score: 0.9514570942217422\n",
      "val_loss: 0.34692908109476167, val_score: 0.6636381591941537\n",
      "test_loss: 0.3432846438415626, test_score: 0.6537373737373737\n",
      "Epoch: 49 start\n"
     ]
    },
    {
     "data": {
      "application/vnd.jupyter.widget-view+json": {
       "model_id": "6a98a2b6e96e43f99bfd6feac6b27a36",
       "version_major": 2,
       "version_minor": 0
      },
      "text/plain": [
       "HBox(children=(FloatProgress(value=0.0, max=2101.0), HTML(value='')))"
      ]
     },
     "metadata": {},
     "output_type": "display_data"
    },
    {
     "name": "stdout",
     "output_type": "stream",
     "text": [
      "Iter: 0, loss: 0.11266864091157913, score: 0.9435215946843852\n",
      "Iter: 100, loss: 0.06906256824731827, score: 0.966542750929368\n",
      "Iter: 200, loss: 0.10656622052192688, score: 0.9651162790697674\n",
      "Iter: 300, loss: 0.07171391695737839, score: 0.9591836734693878\n",
      "Iter: 400, loss: 0.08179520815610886, score: 0.9877300613496932\n",
      "Iter: 500, loss: 0.13027220964431763, score: 0.9325153374233128\n",
      "Iter: 600, loss: 0.0359644740819931, score: 0.9640287769784173\n",
      "Iter: 700, loss: 0.043289221823215485, score: 0.9420289855072463\n",
      "Iter: 800, loss: 0.08924736827611923, score: 0.9401709401709402\n",
      "Iter: 900, loss: 0.027961134910583496, score: 0.9832402234636871\n",
      "Iter: 1000, loss: 0.05154832452535629, score: 0.9253731343283582\n",
      "Iter: 1100, loss: 0.05376458168029785, score: 0.9558823529411765\n",
      "Iter: 1200, loss: 0.03259510174393654, score: 0.99009900990099\n",
      "Iter: 1300, loss: 0.03335649147629738, score: 0.9593495934959351\n",
      "Iter: 1400, loss: 0.0306516345590353, score: 0.9640287769784173\n",
      "Iter: 1500, loss: 0.06699835509061813, score: 0.962962962962963\n",
      "Iter: 1600, loss: 0.042431291192770004, score: 0.9516129032258065\n",
      "Iter: 1700, loss: 0.034862373024225235, score: 0.9444444444444444\n",
      "Iter: 1800, loss: 0.06903930753469467, score: 0.9354838709677421\n",
      "Iter: 1900, loss: 0.055210597813129425, score: 0.9518072289156626\n",
      "Iter: 2000, loss: 0.07502268999814987, score: 0.9503546099290779\n",
      "Iter: 2100, loss: 0.017634710296988487, score: 1.0\n",
      "\n"
     ]
    },
    {
     "data": {
      "application/vnd.jupyter.widget-view+json": {
       "model_id": "b6fa3fc935304bf3b0f7ae1fc036dc72",
       "version_major": 2,
       "version_minor": 0
      },
      "text/plain": [
       "HBox(children=(FloatProgress(value=0.0, max=72.0), HTML(value='')))"
      ]
     },
     "metadata": {},
     "output_type": "display_data"
    },
    {
     "name": "stdout",
     "output_type": "stream",
     "text": [
      "\n"
     ]
    },
    {
     "data": {
      "application/vnd.jupyter.widget-view+json": {
       "model_id": "a415e988276c4c50b56861fb808bc820",
       "version_major": 2,
       "version_minor": 0
      },
      "text/plain": [
       "HBox(children=(FloatProgress(value=0.0, max=72.0), HTML(value='')))"
      ]
     },
     "metadata": {},
     "output_type": "display_data"
    },
    {
     "name": "stdout",
     "output_type": "stream",
     "text": [
      "\n",
      "Epoch: 49 end\n",
      "train_loss: 0.0660638784704245, train_score: 0.953433801651518\n",
      "val_loss: 0.3700125805205769, val_score: 0.6230114687384388\n",
      "test_loss: 0.3696580601649152, test_score: 0.6174749952821287\n",
      "Epoch: 50 start\n"
     ]
    },
    {
     "data": {
      "application/vnd.jupyter.widget-view+json": {
       "model_id": "a7ba565129d745b29792b4f28c993bde",
       "version_major": 2,
       "version_minor": 0
      },
      "text/plain": [
       "HBox(children=(FloatProgress(value=0.0, max=2101.0), HTML(value='')))"
      ]
     },
     "metadata": {},
     "output_type": "display_data"
    },
    {
     "name": "stdout",
     "output_type": "stream",
     "text": [
      "Iter: 0, loss: 0.16991519927978516, score: 0.9403973509933775\n",
      "Iter: 100, loss: 0.10365983098745346, score: 0.9626865671641791\n",
      "Iter: 200, loss: 0.1179056465625763, score: 0.9588235294117647\n",
      "Iter: 300, loss: 0.06907080858945847, score: 0.9657534246575342\n",
      "Iter: 400, loss: 0.07016555219888687, score: 0.9667673716012084\n",
      "Iter: 500, loss: 0.05167132616043091, score: 0.9390243902439025\n",
      "Iter: 600, loss: 0.03257445618510246, score: 0.9781021897810218\n",
      "Iter: 700, loss: 0.04114167392253876, score: 0.9571428571428571\n",
      "Iter: 800, loss: 0.07126928865909576, score: 0.9666666666666667\n",
      "Iter: 900, loss: 0.0377144031226635, score: 0.9777777777777777\n",
      "Iter: 1000, loss: 0.050513237714767456, score: 0.9457364341085271\n",
      "Iter: 1100, loss: 0.030223924666643143, score: 0.9777777777777777\n",
      "Iter: 1200, loss: 0.0641472116112709, score: 0.9142857142857144\n",
      "Iter: 1300, loss: 0.05225143954157829, score: 0.9291338582677166\n",
      "Iter: 1400, loss: 0.044573649764060974, score: 0.9571428571428571\n",
      "Iter: 1500, loss: 0.04122743383049965, score: 0.9428571428571428\n",
      "Iter: 1600, loss: 0.030072633177042007, score: 0.9586776859504132\n",
      "Iter: 1700, loss: 0.06879682838916779, score: 0.9635036496350365\n",
      "Iter: 1800, loss: 0.07913710176944733, score: 0.8636363636363635\n",
      "Iter: 1900, loss: 0.0699128806591034, score: 0.9685534591194969\n",
      "Iter: 2000, loss: 0.06212262064218521, score: 0.9571428571428571\n",
      "Iter: 2100, loss: 0.018884090706706047, score: 1.0\n",
      "\n"
     ]
    },
    {
     "data": {
      "application/vnd.jupyter.widget-view+json": {
       "model_id": "a219bb8e724244a890388faf68cdf9a9",
       "version_major": 2,
       "version_minor": 0
      },
      "text/plain": [
       "HBox(children=(FloatProgress(value=0.0, max=72.0), HTML(value='')))"
      ]
     },
     "metadata": {},
     "output_type": "display_data"
    },
    {
     "name": "stdout",
     "output_type": "stream",
     "text": [
      "\n"
     ]
    },
    {
     "data": {
      "application/vnd.jupyter.widget-view+json": {
       "model_id": "3127fb01e25e4f69a04e8d4715300c5b",
       "version_major": 2,
       "version_minor": 0
      },
      "text/plain": [
       "HBox(children=(FloatProgress(value=0.0, max=72.0), HTML(value='')))"
      ]
     },
     "metadata": {},
     "output_type": "display_data"
    },
    {
     "name": "stdout",
     "output_type": "stream",
     "text": [
      "\n",
      "Epoch: 50 end\n",
      "train_loss: 0.06656272024818755, train_score: 0.9532448974010747\n",
      "val_loss: 0.3602251683672269, val_score: 0.643254653617348\n",
      "test_loss: 0.35257768513703996, test_score: 0.6447160883280757\n",
      "Epoch: 51 start\n"
     ]
    },
    {
     "data": {
      "application/vnd.jupyter.widget-view+json": {
       "model_id": "bfd009ccf2dc46e986467dbf91487a85",
       "version_major": 2,
       "version_minor": 0
      },
      "text/plain": [
       "HBox(children=(FloatProgress(value=0.0, max=2101.0), HTML(value='')))"
      ]
     },
     "metadata": {},
     "output_type": "display_data"
    },
    {
     "name": "stdout",
     "output_type": "stream",
     "text": [
      "Iter: 0, loss: 0.0762077197432518, score: 0.9634551495016611\n",
      "Iter: 100, loss: 0.06204190105199814, score: 0.966542750929368\n",
      "Iter: 200, loss: 0.09647490829229355, score: 0.9590643274853802\n",
      "Iter: 300, loss: 0.09270726889371872, score: 0.9391891891891891\n",
      "Iter: 400, loss: 0.0733380913734436, score: 0.9642857142857143\n",
      "Iter: 500, loss: 0.09465675055980682, score: 0.9367088607594937\n",
      "Iter: 600, loss: 0.04312947764992714, score: 0.950354609929078\n",
      "Iter: 700, loss: 0.05220415070652962, score: 0.9428571428571428\n",
      "Iter: 800, loss: 0.052898842841386795, score: 0.9593495934959351\n",
      "Iter: 900, loss: 0.03595466911792755, score: 0.9777777777777777\n",
      "Iter: 1000, loss: 0.04623973369598389, score: 0.9531249999999999\n",
      "Iter: 1100, loss: 0.03443557396531105, score: 0.9565217391304348\n",
      "Iter: 1200, loss: 0.044479355216026306, score: 0.9514563106796116\n",
      "Iter: 1300, loss: 0.05944087356328964, score: 0.9147286821705427\n",
      "Iter: 1400, loss: 0.037925221025943756, score: 0.9635036496350364\n",
      "Iter: 1500, loss: 0.038607142865657806, score: 0.9635036496350364\n",
      "Iter: 1600, loss: 0.06686806678771973, score: 0.9661016949152542\n",
      "Iter: 1700, loss: 0.054589301347732544, score: 0.9370629370629371\n",
      "Iter: 1800, loss: 0.032652515918016434, score: 0.959349593495935\n",
      "Iter: 1900, loss: 0.08231217414140701, score: 0.968944099378882\n",
      "Iter: 2000, loss: 0.09513917565345764, score: 0.9489051094890512\n",
      "Iter: 2100, loss: 0.04032628983259201, score: 0.963855421686747\n",
      "\n"
     ]
    },
    {
     "data": {
      "application/vnd.jupyter.widget-view+json": {
       "model_id": "5836335cbcf74076ac2f9d8d28b7f1d0",
       "version_major": 2,
       "version_minor": 0
      },
      "text/plain": [
       "HBox(children=(FloatProgress(value=0.0, max=72.0), HTML(value='')))"
      ]
     },
     "metadata": {},
     "output_type": "display_data"
    },
    {
     "name": "stdout",
     "output_type": "stream",
     "text": [
      "\n"
     ]
    },
    {
     "data": {
      "application/vnd.jupyter.widget-view+json": {
       "model_id": "8b9ecae1f04d4905acbc39891b8df3c4",
       "version_major": 2,
       "version_minor": 0
      },
      "text/plain": [
       "HBox(children=(FloatProgress(value=0.0, max=72.0), HTML(value='')))"
      ]
     },
     "metadata": {},
     "output_type": "display_data"
    },
    {
     "name": "stdout",
     "output_type": "stream",
     "text": [
      "\n",
      "Epoch: 51 end\n",
      "train_loss: 0.0645040861680671, train_score: 0.9551146163361517\n",
      "val_loss: 0.3694072813830442, val_score: 0.634503472874038\n",
      "test_loss: 0.3675866081482834, test_score: 0.6231884057971014\n",
      "Epoch: 52 start\n"
     ]
    },
    {
     "data": {
      "application/vnd.jupyter.widget-view+json": {
       "model_id": "4d32c7b001f5487f86a29a6b2c7522f7",
       "version_major": 2,
       "version_minor": 0
      },
      "text/plain": [
       "HBox(children=(FloatProgress(value=0.0, max=2101.0), HTML(value='')))"
      ]
     },
     "metadata": {},
     "output_type": "display_data"
    },
    {
     "name": "stdout",
     "output_type": "stream",
     "text": [
      "Iter: 0, loss: 0.14753901958465576, score: 0.9435215946843852\n",
      "Iter: 100, loss: 0.06436340510845184, score: 0.9699248120300752\n",
      "Iter: 200, loss: 0.11329565942287445, score: 0.9532163742690059\n",
      "Iter: 300, loss: 0.08344458043575287, score: 0.9722222222222222\n",
      "Iter: 400, loss: 0.07642648369073868, score: 0.9817073170731707\n",
      "Iter: 500, loss: 0.08303317427635193, score: 0.9433962264150942\n",
      "Iter: 600, loss: 0.040616754442453384, score: 0.950354609929078\n",
      "Iter: 700, loss: 0.015914764255285263, score: 0.9852941176470589\n",
      "Iter: 800, loss: 0.06336116790771484, score: 0.9375\n",
      "Iter: 900, loss: 0.06154230609536171, score: 0.9666666666666666\n",
      "Iter: 1000, loss: 0.04917014762759209, score: 0.9457364341085271\n",
      "Iter: 1100, loss: 0.09921640157699585, score: 0.9624060150375939\n",
      "Iter: 1200, loss: 0.030054209753870964, score: 0.98\n",
      "Iter: 1300, loss: 0.019156446680426598, score: 0.9836065573770492\n",
      "Iter: 1400, loss: 0.05707400292158127, score: 0.9565217391304348\n",
      "Iter: 1500, loss: 0.036718934774398804, score: 0.9565217391304348\n",
      "Iter: 1600, loss: 0.045826226472854614, score: 0.944\n",
      "Iter: 1700, loss: 0.033492185175418854, score: 0.9510489510489509\n",
      "Iter: 1800, loss: 0.06657497584819794, score: 0.921875\n",
      "Iter: 1900, loss: 0.04441704601049423, score: 0.9512195121951219\n",
      "Iter: 2000, loss: 0.08015307784080505, score: 0.937062937062937\n",
      "Iter: 2100, loss: 0.026492781937122345, score: 0.9876543209876543\n",
      "\n"
     ]
    },
    {
     "data": {
      "application/vnd.jupyter.widget-view+json": {
       "model_id": "1e0a16e296074a65b00b83dc3052d49c",
       "version_major": 2,
       "version_minor": 0
      },
      "text/plain": [
       "HBox(children=(FloatProgress(value=0.0, max=72.0), HTML(value='')))"
      ]
     },
     "metadata": {},
     "output_type": "display_data"
    },
    {
     "name": "stdout",
     "output_type": "stream",
     "text": [
      "\n"
     ]
    },
    {
     "data": {
      "application/vnd.jupyter.widget-view+json": {
       "model_id": "ca87df3524df46408d823743aae83fb7",
       "version_major": 2,
       "version_minor": 0
      },
      "text/plain": [
       "HBox(children=(FloatProgress(value=0.0, max=72.0), HTML(value='')))"
      ]
     },
     "metadata": {},
     "output_type": "display_data"
    },
    {
     "name": "stdout",
     "output_type": "stream",
     "text": [
      "\n",
      "Epoch: 52 end\n",
      "train_loss: 0.06278802938528824, train_score: 0.9559986882191166\n",
      "val_loss: 0.387557964771986, val_score: 0.6179959846687352\n",
      "test_loss: 0.36545211828693247, test_score: 0.6175253854832644\n",
      "Epoch: 53 start\n"
     ]
    },
    {
     "data": {
      "application/vnd.jupyter.widget-view+json": {
       "model_id": "57d25a4de0ad48619af17f035fa42dad",
       "version_major": 2,
       "version_minor": 0
      },
      "text/plain": [
       "HBox(children=(FloatProgress(value=0.0, max=2101.0), HTML(value='')))"
      ]
     },
     "metadata": {},
     "output_type": "display_data"
    },
    {
     "name": "stdout",
     "output_type": "stream",
     "text": [
      "Iter: 0, loss: 0.08763324469327927, score: 0.9446254071661238\n",
      "Iter: 100, loss: 0.05691450834274292, score: 0.9591078066914498\n",
      "Iter: 200, loss: 0.10623574256896973, score: 0.9562682215743439\n",
      "Iter: 300, loss: 0.08130115270614624, score: 0.958904109589041\n",
      "Iter: 400, loss: 0.06787728518247604, score: 0.972972972972973\n",
      "Iter: 500, loss: 0.06727823615074158, score: 0.9156626506024096\n",
      "Iter: 600, loss: 0.033207789063453674, score: 0.9705882352941176\n",
      "Iter: 700, loss: 0.03261692821979523, score: 0.9710144927536231\n",
      "Iter: 800, loss: 0.09850575029850006, score: 0.9421487603305784\n",
      "Iter: 900, loss: 0.03461257368326187, score: 0.9775280898876404\n",
      "Iter: 1000, loss: 0.05350761115550995, score: 0.9465648854961832\n",
      "Iter: 1100, loss: 0.05489714443683624, score: 0.9473684210526316\n",
      "Iter: 1200, loss: 0.0332573801279068, score: 0.9423076923076924\n",
      "Iter: 1300, loss: 0.030793212354183197, score: 0.967741935483871\n",
      "Iter: 1400, loss: 0.03832443803548813, score: 0.949640287769784\n",
      "Iter: 1500, loss: 0.035132113844156265, score: 0.9705882352941176\n",
      "Iter: 1600, loss: 0.021146196871995926, score: 0.9833333333333333\n",
      "Iter: 1700, loss: 0.03148045018315315, score: 0.9645390070921985\n",
      "Iter: 1800, loss: 0.032294053584337234, score: 0.9747899159663865\n",
      "Iter: 1900, loss: 0.04422154277563095, score: 0.9512195121951219\n",
      "Iter: 2000, loss: 0.03334778547286987, score: 0.971830985915493\n",
      "Iter: 2100, loss: 0.06714922934770584, score: 0.975\n",
      "\n"
     ]
    },
    {
     "data": {
      "application/vnd.jupyter.widget-view+json": {
       "model_id": "f3c74e648f38444a9aa957c1a3e6d5b7",
       "version_major": 2,
       "version_minor": 0
      },
      "text/plain": [
       "HBox(children=(FloatProgress(value=0.0, max=72.0), HTML(value='')))"
      ]
     },
     "metadata": {},
     "output_type": "display_data"
    },
    {
     "name": "stdout",
     "output_type": "stream",
     "text": [
      "\n"
     ]
    },
    {
     "data": {
      "application/vnd.jupyter.widget-view+json": {
       "model_id": "acf5b02c4eff4ec9a998038fc89ee69d",
       "version_major": 2,
       "version_minor": 0
      },
      "text/plain": [
       "HBox(children=(FloatProgress(value=0.0, max=72.0), HTML(value='')))"
      ]
     },
     "metadata": {},
     "output_type": "display_data"
    },
    {
     "name": "stdout",
     "output_type": "stream",
     "text": [
      "\n",
      "Epoch: 53 end\n",
      "train_loss: 0.06151440056543558, train_score: 0.9565098650897373\n",
      "val_loss: 0.35878072523822385, val_score: 0.6610468535581259\n",
      "test_loss: 0.3640450674833523, test_score: 0.6414571372005542\n",
      "Epoch: 54 start\n"
     ]
    },
    {
     "data": {
      "application/vnd.jupyter.widget-view+json": {
       "model_id": "7f915bab895840188c616f3b5e8bd90d",
       "version_major": 2,
       "version_minor": 0
      },
      "text/plain": [
       "HBox(children=(FloatProgress(value=0.0, max=2101.0), HTML(value='')))"
      ]
     },
     "metadata": {},
     "output_type": "display_data"
    },
    {
     "name": "stdout",
     "output_type": "stream",
     "text": [
      "Iter: 0, loss: 0.15420296788215637, score: 0.9498327759197325\n",
      "Iter: 100, loss: 0.1166839748620987, score: 0.951310861423221\n",
      "Iter: 200, loss: 0.09010568261146545, score: 0.9736070381231672\n",
      "Iter: 300, loss: 0.07682143151760101, score: 0.9621993127147767\n",
      "Iter: 400, loss: 0.07186038792133331, score: 0.9787234042553192\n",
      "Iter: 500, loss: 0.09298770129680634, score: 0.9036144578313253\n",
      "Iter: 600, loss: 0.07407566159963608, score: 0.9635036496350364\n",
      "Iter: 700, loss: 0.021639320999383926, score: 0.9852941176470589\n",
      "Iter: 800, loss: 0.023074116557836533, score: 0.9836065573770492\n",
      "Iter: 900, loss: 0.09491655230522156, score: 0.9398907103825138\n",
      "Iter: 1000, loss: 0.022954445332288742, score: 0.96875\n",
      "Iter: 1100, loss: 0.03930557891726494, score: 0.9701492537313432\n",
      "Iter: 1200, loss: 0.022037364542484283, score: 0.98\n",
      "Iter: 1300, loss: 0.025455517694354057, score: 0.9752066115702478\n",
      "Iter: 1400, loss: 0.030550386756658554, score: 0.9635036496350364\n",
      "Iter: 1500, loss: 0.08796344697475433, score: 0.9624060150375939\n",
      "Iter: 1600, loss: 0.02182893455028534, score: 0.9672131147540983\n",
      "Iter: 1700, loss: 0.045431651175022125, score: 0.9571428571428572\n",
      "Iter: 1800, loss: 0.04590631648898125, score: 0.9508196721311476\n",
      "Iter: 1900, loss: 0.05630750209093094, score: 0.9461077844311377\n",
      "Iter: 2000, loss: 0.056310661137104034, score: 0.9139072847682119\n",
      "Iter: 2100, loss: 0.03632831200957298, score: 0.9629629629629629\n",
      "\n"
     ]
    },
    {
     "data": {
      "application/vnd.jupyter.widget-view+json": {
       "model_id": "f98b79d45d12464f80a2c4be4163f810",
       "version_major": 2,
       "version_minor": 0
      },
      "text/plain": [
       "HBox(children=(FloatProgress(value=0.0, max=72.0), HTML(value='')))"
      ]
     },
     "metadata": {},
     "output_type": "display_data"
    },
    {
     "name": "stdout",
     "output_type": "stream",
     "text": [
      "\n"
     ]
    },
    {
     "data": {
      "application/vnd.jupyter.widget-view+json": {
       "model_id": "e64474e8ecf540cea09bb58abec03463",
       "version_major": 2,
       "version_minor": 0
      },
      "text/plain": [
       "HBox(children=(FloatProgress(value=0.0, max=72.0), HTML(value='')))"
      ]
     },
     "metadata": {},
     "output_type": "display_data"
    },
    {
     "name": "stdout",
     "output_type": "stream",
     "text": [
      "\n",
      "Epoch: 54 end\n",
      "train_loss: 0.06040291944656101, train_score: 0.9577970900489495\n",
      "val_loss: 0.36580122924513286, val_score: 0.643507972665148\n",
      "test_loss: 0.367158402585321, test_score: 0.6312138728323698\n",
      "Epoch: 55 start\n"
     ]
    },
    {
     "data": {
      "application/vnd.jupyter.widget-view+json": {
       "model_id": "a6c4c5b399cb48e0801fb748425cf578",
       "version_major": 2,
       "version_minor": 0
      },
      "text/plain": [
       "HBox(children=(FloatProgress(value=0.0, max=2101.0), HTML(value='')))"
      ]
     },
     "metadata": {},
     "output_type": "display_data"
    },
    {
     "name": "stdout",
     "output_type": "stream",
     "text": [
      "Iter: 0, loss: 0.12109366804361343, score: 0.9501661129568106\n",
      "Iter: 100, loss: 0.05228875204920769, score: 0.962962962962963\n",
      "Iter: 200, loss: 0.09157681465148926, score: 0.9763313609467456\n",
      "Iter: 300, loss: 0.04448474571108818, score: 0.9724137931034482\n",
      "Iter: 400, loss: 0.1313806176185608, score: 0.9724770642201834\n",
      "Iter: 500, loss: 0.06212184950709343, score: 0.9259259259259258\n",
      "Iter: 600, loss: 0.03477920591831207, score: 0.9710144927536231\n",
      "Iter: 700, loss: 0.03411560505628586, score: 0.9710144927536231\n",
      "Iter: 800, loss: 0.04959667846560478, score: 0.9593495934959351\n",
      "Iter: 900, loss: 0.07660458981990814, score: 0.9666666666666666\n",
      "Iter: 1000, loss: 0.01548841129988432, score: 0.9841269841269841\n",
      "Iter: 1100, loss: 0.017786141484975815, score: 0.9777777777777777\n",
      "Iter: 1200, loss: 0.02766399271786213, score: 0.970873786407767\n",
      "Iter: 1300, loss: 0.05120862275362015, score: 0.9508196721311476\n",
      "Iter: 1400, loss: 0.023876246064901352, score: 0.9640287769784173\n",
      "Iter: 1500, loss: 0.06800496578216553, score: 0.9078014184397163\n",
      "Iter: 1600, loss: 0.1362471878528595, score: 0.94017094017094\n",
      "Iter: 1700, loss: 0.050813063979148865, score: 0.9379310344827586\n",
      "Iter: 1800, loss: 0.04647980257868767, score: 0.921875\n",
      "Iter: 1900, loss: 0.031035779044032097, score: 0.975\n",
      "Iter: 2000, loss: 0.051703475415706635, score: 0.9315068493150684\n",
      "Iter: 2100, loss: 0.03989202529191971, score: 0.963855421686747\n",
      "\n"
     ]
    },
    {
     "data": {
      "application/vnd.jupyter.widget-view+json": {
       "model_id": "d3dbd0445e704b5cad0804333538a73f",
       "version_major": 2,
       "version_minor": 0
      },
      "text/plain": [
       "HBox(children=(FloatProgress(value=0.0, max=72.0), HTML(value='')))"
      ]
     },
     "metadata": {},
     "output_type": "display_data"
    },
    {
     "name": "stdout",
     "output_type": "stream",
     "text": [
      "\n"
     ]
    },
    {
     "data": {
      "application/vnd.jupyter.widget-view+json": {
       "model_id": "66361345fbe1410d95cddb4bff1b455e",
       "version_major": 2,
       "version_minor": 0
      },
      "text/plain": [
       "HBox(children=(FloatProgress(value=0.0, max=72.0), HTML(value='')))"
      ]
     },
     "metadata": {},
     "output_type": "display_data"
    },
    {
     "name": "stdout",
     "output_type": "stream",
     "text": [
      "\n",
      "Epoch: 55 end\n",
      "train_loss: 0.05904201002745423, train_score: 0.9585221905249243\n",
      "val_loss: 0.3673883361948861, val_score: 0.6460057747834457\n",
      "test_loss: 0.3539256076845858, test_score: 0.6437278804561541\n",
      "Epoch: 56 start\n"
     ]
    },
    {
     "data": {
      "application/vnd.jupyter.widget-view+json": {
       "model_id": "0530d6edabdb4fb081dfce8db35d9ccd",
       "version_major": 2,
       "version_minor": 0
      },
      "text/plain": [
       "HBox(children=(FloatProgress(value=0.0, max=2101.0), HTML(value='')))"
      ]
     },
     "metadata": {},
     "output_type": "display_data"
    },
    {
     "name": "stdout",
     "output_type": "stream",
     "text": [
      "Iter: 0, loss: 0.09652258455753326, score: 0.9659863945578231\n",
      "Iter: 100, loss: 0.06932009011507034, score: 0.9626865671641791\n",
      "Iter: 200, loss: 0.07550924271345139, score: 0.9705882352941175\n",
      "Iter: 300, loss: 0.06148247420787811, score: 0.9657534246575342\n",
      "Iter: 400, loss: 0.052877362817525864, score: 0.9817073170731707\n",
      "Iter: 500, loss: 0.02342526614665985, score: 0.9871794871794872\n",
      "Iter: 600, loss: 0.05538088083267212, score: 0.9436619718309859\n",
      "Iter: 700, loss: 0.03471061587333679, score: 0.9571428571428571\n",
      "Iter: 800, loss: 0.03726484254002571, score: 0.9666666666666667\n",
      "Iter: 900, loss: 0.03343511372804642, score: 0.9723756906077349\n",
      "Iter: 1000, loss: 0.020060937851667404, score: 0.96875\n",
      "Iter: 1100, loss: 0.07582349330186844, score: 0.962962962962963\n",
      "Iter: 1200, loss: 0.00827950332313776, score: 1.0\n",
      "Iter: 1300, loss: 0.026965059340000153, score: 0.975609756097561\n",
      "Iter: 1400, loss: 0.018494952470064163, score: 0.9781021897810218\n",
      "Iter: 1500, loss: 0.03563898056745529, score: 0.9635036496350364\n",
      "Iter: 1600, loss: 0.04367451369762421, score: 0.943089430894309\n",
      "Iter: 1700, loss: 0.017861876636743546, score: 0.9784172661870503\n",
      "Iter: 1800, loss: 0.14935436844825745, score: 0.9279999999999999\n",
      "Iter: 1900, loss: 0.10100416839122772, score: 0.9512195121951219\n",
      "Iter: 2000, loss: 0.053705185651779175, score: 0.9583333333333334\n",
      "Iter: 2100, loss: 0.0869661495089531, score: 0.9873417721518987\n",
      "\n"
     ]
    },
    {
     "data": {
      "application/vnd.jupyter.widget-view+json": {
       "model_id": "659d650b860c4f78a5fe6017a2119b5e",
       "version_major": 2,
       "version_minor": 0
      },
      "text/plain": [
       "HBox(children=(FloatProgress(value=0.0, max=72.0), HTML(value='')))"
      ]
     },
     "metadata": {},
     "output_type": "display_data"
    },
    {
     "name": "stdout",
     "output_type": "stream",
     "text": [
      "\n"
     ]
    },
    {
     "data": {
      "application/vnd.jupyter.widget-view+json": {
       "model_id": "11a3cb4489b547e6a101cd4cead63c4b",
       "version_major": 2,
       "version_minor": 0
      },
      "text/plain": [
       "HBox(children=(FloatProgress(value=0.0, max=72.0), HTML(value='')))"
      ]
     },
     "metadata": {},
     "output_type": "display_data"
    },
    {
     "name": "stdout",
     "output_type": "stream",
     "text": [
      "\n",
      "Epoch: 56 end\n",
      "train_loss: 0.05828671692571346, train_score: 0.9589732450208454\n",
      "val_loss: 0.37008877905706566, val_score: 0.6448526597780329\n",
      "test_loss: 0.370677672568023, test_score: 0.6308646762310973\n",
      "Epoch: 57 start\n"
     ]
    },
    {
     "data": {
      "application/vnd.jupyter.widget-view+json": {
       "model_id": "b851d190c50f498ca0f8a2b1659ac3a1",
       "version_major": 2,
       "version_minor": 0
      },
      "text/plain": [
       "HBox(children=(FloatProgress(value=0.0, max=2101.0), HTML(value='')))"
      ]
     },
     "metadata": {},
     "output_type": "display_data"
    },
    {
     "name": "stdout",
     "output_type": "stream",
     "text": [
      "Iter: 0, loss: 0.22401899099349976, score: 0.9527027027027026\n",
      "Iter: 100, loss: 0.07055196166038513, score: 0.9558823529411764\n",
      "Iter: 200, loss: 0.07337087392807007, score: 0.9793510324483776\n",
      "Iter: 300, loss: 0.0438578724861145, score: 0.9724137931034482\n",
      "Iter: 400, loss: 0.05825670063495636, score: 0.972972972972973\n",
      "Iter: 500, loss: 0.037562910467386246, score: 0.9746835443037974\n",
      "Iter: 600, loss: 0.061285100877285004, score: 0.9428571428571428\n",
      "Iter: 700, loss: 0.033226486295461655, score: 0.9635036496350364\n",
      "Iter: 800, loss: 0.06810221076011658, score: 0.928\n",
      "Iter: 900, loss: 0.11517177522182465, score: 0.9508196721311476\n",
      "Iter: 1000, loss: 0.0129413902759552, score: 0.9763779527559054\n",
      "Iter: 1100, loss: 0.04404779523611069, score: 0.9558823529411765\n",
      "Iter: 1200, loss: 0.03150240704417229, score: 0.9615384615384615\n",
      "Iter: 1300, loss: 0.023458173498511314, score: 0.9915966386554621\n",
      "Iter: 1400, loss: 0.06786777824163437, score: 0.9565217391304348\n",
      "Iter: 1500, loss: 0.03413544222712517, score: 0.9850746268656716\n",
      "Iter: 1600, loss: 0.028138093650341034, score: 0.9915966386554621\n",
      "Iter: 1700, loss: 0.07269110530614853, score: 0.9635036496350365\n",
      "Iter: 1800, loss: 0.06735642999410629, score: 0.9007633587786259\n",
      "Iter: 1900, loss: 0.06203486770391464, score: 0.9397590361445785\n",
      "Iter: 2000, loss: 0.05313684791326523, score: 0.9444444444444444\n",
      "Iter: 2100, loss: 0.0211405660957098, score: 0.9876543209876543\n",
      "\n"
     ]
    },
    {
     "data": {
      "application/vnd.jupyter.widget-view+json": {
       "model_id": "e44859a8c7e346289f098794b7570090",
       "version_major": 2,
       "version_minor": 0
      },
      "text/plain": [
       "HBox(children=(FloatProgress(value=0.0, max=72.0), HTML(value='')))"
      ]
     },
     "metadata": {},
     "output_type": "display_data"
    },
    {
     "name": "stdout",
     "output_type": "stream",
     "text": [
      "\n"
     ]
    },
    {
     "data": {
      "application/vnd.jupyter.widget-view+json": {
       "model_id": "ca4df6a5fef4498e88e35de1e5c16114",
       "version_major": 2,
       "version_minor": 0
      },
      "text/plain": [
       "HBox(children=(FloatProgress(value=0.0, max=72.0), HTML(value='')))"
      ]
     },
     "metadata": {},
     "output_type": "display_data"
    },
    {
     "name": "stdout",
     "output_type": "stream",
     "text": [
      "\n",
      "Epoch: 57 end\n",
      "train_loss: 0.05698751570986693, train_score: 0.9601564212508731\n",
      "val_loss: 0.3785400316119194, val_score: 0.6629768728997826\n",
      "test_loss: 0.36629275760302943, test_score: 0.6517393042782886\n",
      "Epoch: 58 start\n"
     ]
    },
    {
     "data": {
      "application/vnd.jupyter.widget-view+json": {
       "model_id": "9b82f5439dfa4f199b8a3f7d3f9f86b2",
       "version_major": 2,
       "version_minor": 0
      },
      "text/plain": [
       "HBox(children=(FloatProgress(value=0.0, max=2101.0), HTML(value='')))"
      ]
     },
     "metadata": {},
     "output_type": "display_data"
    },
    {
     "name": "stdout",
     "output_type": "stream",
     "text": [
      "Iter: 0, loss: 0.07894296199083328, score: 0.9696969696969696\n",
      "Iter: 100, loss: 0.054640032351017, score: 0.9737827715355805\n",
      "Iter: 200, loss: 0.06199890002608299, score: 0.9734513274336284\n",
      "Iter: 300, loss: 0.03872121870517731, score: 0.9860139860139859\n",
      "Iter: 400, loss: 0.04221680387854576, score: 0.9848024316109423\n",
      "Iter: 500, loss: 0.12393491715192795, score: 0.9433962264150942\n",
      "Iter: 600, loss: 0.02357490360736847, score: 0.9852941176470589\n",
      "Iter: 700, loss: 0.047949403524398804, score: 0.9305555555555556\n",
      "Iter: 800, loss: 0.045642733573913574, score: 0.967741935483871\n",
      "Iter: 900, loss: 0.05429503321647644, score: 0.9502762430939227\n",
      "Iter: 1000, loss: 0.017562691122293472, score: 0.96875\n",
      "Iter: 1100, loss: 0.008246835321187973, score: 0.9924812030075187\n",
      "Iter: 1200, loss: 0.027508102357387543, score: 0.9615384615384615\n",
      "Iter: 1300, loss: 0.037054456770420074, score: 0.967741935483871\n",
      "Iter: 1400, loss: 0.03048565424978733, score: 0.9781021897810218\n",
      "Iter: 1500, loss: 0.015208382159471512, score: 0.9850746268656716\n",
      "Iter: 1600, loss: 0.025733690708875656, score: 0.9752066115702479\n",
      "Iter: 1700, loss: 0.05395275726914406, score: 0.9315068493150686\n",
      "Iter: 1800, loss: 0.052103813737630844, score: 0.9365079365079364\n",
      "Iter: 1900, loss: 0.0678064152598381, score: 0.9397590361445785\n",
      "Iter: 2000, loss: 0.04256760701537132, score: 0.9645390070921985\n",
      "Iter: 2100, loss: 0.043424345552921295, score: 0.9876543209876543\n",
      "\n"
     ]
    },
    {
     "data": {
      "application/vnd.jupyter.widget-view+json": {
       "model_id": "00207e374cd44be69c026a2113214c7c",
       "version_major": 2,
       "version_minor": 0
      },
      "text/plain": [
       "HBox(children=(FloatProgress(value=0.0, max=72.0), HTML(value='')))"
      ]
     },
     "metadata": {},
     "output_type": "display_data"
    },
    {
     "name": "stdout",
     "output_type": "stream",
     "text": [
      "\n"
     ]
    },
    {
     "data": {
      "application/vnd.jupyter.widget-view+json": {
       "model_id": "cc988afef0e64ab2a7f3413db4021bad",
       "version_major": 2,
       "version_minor": 0
      },
      "text/plain": [
       "HBox(children=(FloatProgress(value=0.0, max=72.0), HTML(value='')))"
      ]
     },
     "metadata": {},
     "output_type": "display_data"
    },
    {
     "name": "stdout",
     "output_type": "stream",
     "text": [
      "\n",
      "Epoch: 58 end\n",
      "train_loss: 0.0567632564675969, train_score: 0.9602737813353003\n",
      "val_loss: 0.35799362510442734, val_score: 0.6658791100610357\n",
      "test_loss: 0.3441003653117352, test_score: 0.6518161749949829\n",
      "Epoch: 59 start\n"
     ]
    },
    {
     "data": {
      "application/vnd.jupyter.widget-view+json": {
       "model_id": "06602d4d9ef148dba92331c5aa3d4385",
       "version_major": 2,
       "version_minor": 0
      },
      "text/plain": [
       "HBox(children=(FloatProgress(value=0.0, max=2101.0), HTML(value='')))"
      ]
     },
     "metadata": {},
     "output_type": "display_data"
    },
    {
     "name": "stdout",
     "output_type": "stream",
     "text": [
      "Iter: 0, loss: 0.07737132906913757, score: 0.9727891156462585\n",
      "Iter: 100, loss: 0.050004955381155014, score: 0.9772727272727273\n",
      "Iter: 200, loss: 0.09610086679458618, score: 0.973293768545994\n",
      "Iter: 300, loss: 0.0864306390285492, score: 0.958904109589041\n",
      "Iter: 400, loss: 0.11708296090364456, score: 0.9724770642201834\n",
      "Iter: 500, loss: 0.05355362594127655, score: 0.9565217391304348\n",
      "Iter: 600, loss: 0.048659853637218475, score: 0.948905109489051\n",
      "Iter: 700, loss: 0.03215913102030754, score: 0.9640287769784173\n",
      "Iter: 800, loss: 0.05257318168878555, score: 0.9586776859504132\n",
      "Iter: 900, loss: 0.030329829081892967, score: 0.9775280898876404\n",
      "Iter: 1000, loss: 0.02988128364086151, score: 0.9682539682539683\n",
      "Iter: 1100, loss: 0.03511440381407738, score: 0.948905109489051\n",
      "Iter: 1200, loss: 0.0319434255361557, score: 0.9523809523809523\n",
      "Iter: 1300, loss: 0.04732336476445198, score: 0.9523809523809523\n",
      "Iter: 1400, loss: 0.0956290140748024, score: 0.9701492537313433\n",
      "Iter: 1500, loss: 0.0373106524348259, score: 0.9770992366412214\n",
      "Iter: 1600, loss: 0.020861202850937843, score: 0.9914529914529915\n",
      "Iter: 1700, loss: 0.06263817846775055, score: 0.9361702127659575\n",
      "Iter: 1800, loss: 0.05435892194509506, score: 0.9354838709677421\n",
      "Iter: 1900, loss: 0.11812101304531097, score: 0.9367088607594937\n",
      "Iter: 2000, loss: 0.10720372200012207, score: 0.9496402877697843\n",
      "Iter: 2100, loss: 0.00941490475088358, score: 1.0\n",
      "\n"
     ]
    },
    {
     "data": {
      "application/vnd.jupyter.widget-view+json": {
       "model_id": "e90bb096721f4a09af979534e7895653",
       "version_major": 2,
       "version_minor": 0
      },
      "text/plain": [
       "HBox(children=(FloatProgress(value=0.0, max=72.0), HTML(value='')))"
      ]
     },
     "metadata": {},
     "output_type": "display_data"
    },
    {
     "name": "stdout",
     "output_type": "stream",
     "text": [
      "\n"
     ]
    },
    {
     "data": {
      "application/vnd.jupyter.widget-view+json": {
       "model_id": "1eaeefc58fff482cb65d42aeb7693dc7",
       "version_major": 2,
       "version_minor": 0
      },
      "text/plain": [
       "HBox(children=(FloatProgress(value=0.0, max=72.0), HTML(value='')))"
      ]
     },
     "metadata": {},
     "output_type": "display_data"
    },
    {
     "name": "stdout",
     "output_type": "stream",
     "text": [
      "\n",
      "Epoch: 59 end\n",
      "train_loss: 0.057359028505210165, train_score: 0.9605265581697007\n",
      "val_loss: 0.35178324456016224, val_score: 0.6437654203833745\n",
      "test_loss: 0.3547269912712573, test_score: 0.6213444739840486\n",
      "Epoch: 60 start\n"
     ]
    },
    {
     "data": {
      "application/vnd.jupyter.widget-view+json": {
       "model_id": "86ac7e953b7b4213816dda17725f781f",
       "version_major": 2,
       "version_minor": 0
      },
      "text/plain": [
       "HBox(children=(FloatProgress(value=0.0, max=2101.0), HTML(value='')))"
      ]
     },
     "metadata": {},
     "output_type": "display_data"
    },
    {
     "name": "stdout",
     "output_type": "stream",
     "text": [
      "Iter: 0, loss: 0.05002360790967941, score: 0.9797297297297297\n",
      "Iter: 100, loss: 0.06415273249149323, score: 0.962962962962963\n",
      "Iter: 200, loss: 0.0897132009267807, score: 0.9702380952380952\n",
      "Iter: 300, loss: 0.05299224704504013, score: 0.962457337883959\n",
      "Iter: 400, loss: 0.03972931206226349, score: 0.9787234042553192\n",
      "Iter: 500, loss: 0.04764987528324127, score: 0.9743589743589742\n",
      "Iter: 600, loss: 0.03809270262718201, score: 0.962962962962963\n",
      "Iter: 700, loss: 0.07173996418714523, score: 0.962962962962963\n",
      "Iter: 800, loss: 0.08169574290513992, score: 0.9206349206349207\n",
      "Iter: 900, loss: 0.09110546857118607, score: 0.9828571428571428\n",
      "Iter: 1000, loss: 0.03994207829236984, score: 0.9465648854961832\n",
      "Iter: 1100, loss: 0.044915568083524704, score: 0.962962962962963\n",
      "Iter: 1200, loss: 0.06478199362754822, score: 0.9423076923076924\n",
      "Iter: 1300, loss: 0.03815505653619766, score: 0.9600000000000001\n",
      "Iter: 1400, loss: 0.04071201756596565, score: 0.9571428571428571\n",
      "Iter: 1500, loss: 0.05566524341702461, score: 0.962962962962963\n",
      "Iter: 1600, loss: 0.053096745163202286, score: 0.9666666666666667\n",
      "Iter: 1700, loss: 0.047245919704437256, score: 0.9577464788732395\n",
      "Iter: 1800, loss: 0.06490734964609146, score: 0.9279999999999999\n",
      "Iter: 1900, loss: 0.03434392809867859, score: 0.975\n",
      "Iter: 2000, loss: 0.04466193914413452, score: 0.971830985915493\n",
      "Iter: 2100, loss: 0.021535934880375862, score: 0.9876543209876543\n",
      "\n"
     ]
    },
    {
     "data": {
      "application/vnd.jupyter.widget-view+json": {
       "model_id": "286e0f593b444e048c02c66aab32cc54",
       "version_major": 2,
       "version_minor": 0
      },
      "text/plain": [
       "HBox(children=(FloatProgress(value=0.0, max=72.0), HTML(value='')))"
      ]
     },
     "metadata": {},
     "output_type": "display_data"
    },
    {
     "name": "stdout",
     "output_type": "stream",
     "text": [
      "\n"
     ]
    },
    {
     "data": {
      "application/vnd.jupyter.widget-view+json": {
       "model_id": "836abd4405094676867ea3d209f52825",
       "version_major": 2,
       "version_minor": 0
      },
      "text/plain": [
       "HBox(children=(FloatProgress(value=0.0, max=72.0), HTML(value='')))"
      ]
     },
     "metadata": {},
     "output_type": "display_data"
    },
    {
     "name": "stdout",
     "output_type": "stream",
     "text": [
      "\n",
      "Epoch: 60 end\n",
      "train_loss: 0.053556369364470856, train_score: 0.9624972171964077\n",
      "val_loss: 0.37191666817913455, val_score: 0.6771399798590131\n",
      "test_loss: 0.3641357294594248, test_score: 0.6632715420655938\n"
     ]
    }
   ],
   "source": [
    "hist = train_model(model, X_train, y_train, ru_vocab, en_vocab, X_val, y_val, X_test, y_test, epochs=60, start_epoch=1)"
   ]
  },
  {
   "cell_type": "code",
   "execution_count": null,
   "metadata": {},
   "outputs": [],
   "source": []
  },
  {
   "cell_type": "code",
   "execution_count": null,
   "metadata": {},
   "outputs": [],
   "source": []
  },
  {
   "cell_type": "markdown",
   "metadata": {},
   "source": [
    "# Load model and predict"
   ]
  },
  {
   "cell_type": "code",
   "execution_count": 25,
   "metadata": {},
   "outputs": [],
   "source": [
    "test = pandas.read_csv('test_data.tsv', sep='\\t')"
   ]
  },
  {
   "cell_type": "code",
   "execution_count": 28,
   "metadata": {},
   "outputs": [],
   "source": [
    "test['ru_name'] = test['ru_name'].apply(preprocess_rus)\n",
    "test['eng_name'] = test['eng_name'].apply(preprocess_eng)"
   ]
  },
  {
   "cell_type": "code",
   "execution_count": 29,
   "metadata": {},
   "outputs": [],
   "source": [
    "X = test[['ru_name', 'eng_name']].values"
   ]
  },
  {
   "cell_type": "code",
   "execution_count": 30,
   "metadata": {},
   "outputs": [],
   "source": [
    "X = np.array([[ru.split(), en.split()] for ru, en in X])"
   ]
  },
  {
   "cell_type": "code",
   "execution_count": null,
   "metadata": {},
   "outputs": [],
   "source": []
  },
  {
   "cell_type": "code",
   "execution_count": 31,
   "metadata": {},
   "outputs": [],
   "source": [
    "ru_vocab, en_vocab, state_dict = torch.load('model/chpt-loss0.51-score0.70.pt')"
   ]
  },
  {
   "cell_type": "code",
   "execution_count": 32,
   "metadata": {},
   "outputs": [],
   "source": [
    "model = Model(len(ru_vocab['cv']), len(en_vocab['cv'])).to(DEVICE)"
   ]
  },
  {
   "cell_type": "code",
   "execution_count": 33,
   "metadata": {},
   "outputs": [
    {
     "data": {
      "text/plain": [
       "<All keys matched successfully>"
      ]
     },
     "execution_count": 33,
     "metadata": {},
     "output_type": "execute_result"
    }
   ],
   "source": [
    "model.load_state_dict(state_dict)"
   ]
  },
  {
   "cell_type": "code",
   "execution_count": null,
   "metadata": {},
   "outputs": [],
   "source": []
  },
  {
   "cell_type": "code",
   "execution_count": 34,
   "metadata": {
    "scrolled": true
   },
   "outputs": [
    {
     "data": {
      "application/vnd.jupyter.widget-view+json": {
       "model_id": "296d3977027c42a8a2b04a765df2d861",
       "version_major": 2,
       "version_minor": 0
      },
      "text/plain": [
       "HBox(children=(FloatProgress(value=0.0, max=1946.0), HTML(value='')))"
      ]
     },
     "metadata": {},
     "output_type": "display_data"
    },
    {
     "name": "stdout",
     "output_type": "stream",
     "text": [
      "\n"
     ]
    }
   ],
   "source": [
    "y = predict(X, model, ru_vocab, en_vocab)"
   ]
  },
  {
   "cell_type": "code",
   "execution_count": 35,
   "metadata": {},
   "outputs": [],
   "source": [
    "y = np.array(y, dtype = np.bool)"
   ]
  },
  {
   "cell_type": "code",
   "execution_count": 36,
   "metadata": {
    "scrolled": false
   },
   "outputs": [
    {
     "data": {
      "text/plain": [
       "(24307, 0.025013763898965265)"
      ]
     },
     "execution_count": 36,
     "metadata": {},
     "output_type": "execute_result"
    }
   ],
   "source": [
    "sum(y), sum(y) / (len(y) - sum(y))"
   ]
  },
  {
   "cell_type": "code",
   "execution_count": 37,
   "metadata": {},
   "outputs": [],
   "source": [
    "res = pandas.DataFrame(y, columns=['answer'])"
   ]
  },
  {
   "cell_type": "code",
   "execution_count": 38,
   "metadata": {},
   "outputs": [],
   "source": [
    "res.to_csv('result.tsv', index=False)"
   ]
  },
  {
   "cell_type": "code",
   "execution_count": null,
   "metadata": {},
   "outputs": [],
   "source": []
  }
 ],
 "metadata": {
  "kernelspec": {
   "display_name": "Python 3",
   "language": "python",
   "name": "python3"
  },
  "language_info": {
   "codemirror_mode": {
    "name": "ipython",
    "version": 3
   },
   "file_extension": ".py",
   "mimetype": "text/x-python",
   "name": "python",
   "nbconvert_exporter": "python",
   "pygments_lexer": "ipython3",
   "version": "3.7.6"
  }
 },
 "nbformat": 4,
 "nbformat_minor": 2
}
